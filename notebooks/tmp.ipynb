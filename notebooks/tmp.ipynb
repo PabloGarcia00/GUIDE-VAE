{
 "cells": [
  {
   "cell_type": "code",
   "execution_count": 1,
   "metadata": {},
   "outputs": [],
   "source": [
    "import os, sys\n",
    "os.chdir(os.path.abspath('..'))"
   ]
  },
  {
   "cell_type": "code",
   "execution_count": 2,
   "metadata": {},
   "outputs": [],
   "source": [
    "import json\n",
    "from tqdm.notebook import tqdm\n",
    "import numpy as np\n",
    "import pandas as pd\n",
    "import torch\n",
    "import matplotlib.pyplot as plt\n",
    "import seaborn as sns\n",
    "import matplotlib.colors as mcolors\n",
    "from scipy.linalg import block_diag\n",
    "sns.set_theme(style=\"darkgrid\")"
   ]
  },
  {
   "cell_type": "code",
   "execution_count": 3,
   "metadata": {},
   "outputs": [],
   "source": [
    "%load_ext autoreload\n",
    "%autoreload 2\n",
    "\n",
    "import src.utils as utils\n",
    "import src.preprocess_lib as preprocess_lib"
   ]
  },
  {
   "cell_type": "code",
   "execution_count": 4,
   "metadata": {},
   "outputs": [],
   "source": [
    "config_dir = 'runs/forecast/'\n",
    "config_folder = 'sweep_Nov29_16-39-01/'\n",
    "config = json.load(open(config_dir + config_folder +'config.json', 'r'))"
   ]
  },
  {
   "cell_type": "code",
   "execution_count": 17,
   "metadata": {},
   "outputs": [],
   "source": [
    "config[\"data\"][\"pad\"]=[0, 24]"
   ]
  },
  {
   "cell_type": "code",
   "execution_count": 21,
   "metadata": {},
   "outputs": [
    {
     "name": "stdout",
     "output_type": "stream",
     "text": [
      "Dataset: goi4_dp_full_Gipuzkoa\n",
      "Loaded 2522880 consumption profiles from 365 dates and 6912 users.\n",
      "Removing 15 users with all-zero consumption profiles\n",
      "Removing 67 users with any-negative consumption profiles\n",
      "Amputation Parameters...................a=0.85, b=1000\n",
      "Mean of enrolments: 0.31\n",
      "Number of Training Points...............1500580\n",
      "Number of Testing Points................491760\n",
      "Number of Validation Points.............491626\n",
      "Number of Missing Points.................2154\n",
      "Found a matching user model in data/goi4_dp_full_Gipuzkoa/user_encoding_models/model_41\n"
     ]
    }
   ],
   "source": [
    "trainset, valset, conditioner, user_ids, months, condition_set, X_test, X_missing, num_missing_days, nonzero_mean, nonzero_std = preprocess_lib.prepare_data(config[\"data\"])"
   ]
  },
  {
   "cell_type": "code",
   "execution_count": null,
   "metadata": {},
   "outputs": [],
   "source": []
  }
 ],
 "metadata": {
  "kernelspec": {
   "display_name": "torchenv",
   "language": "python",
   "name": "python3"
  },
  "language_info": {
   "codemirror_mode": {
    "name": "ipython",
    "version": 3
   },
   "file_extension": ".py",
   "mimetype": "text/x-python",
   "name": "python",
   "nbconvert_exporter": "python",
   "pygments_lexer": "ipython3",
   "version": "3.9.15"
  }
 },
 "nbformat": 4,
 "nbformat_minor": 2
}
