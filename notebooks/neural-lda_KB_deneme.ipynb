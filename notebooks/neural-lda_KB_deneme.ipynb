{
 "cells": [
  {
   "cell_type": "markdown",
   "metadata": {},
   "source": [
    "# User Latent Dirichlet Allocation"
   ]
  },
  {
   "cell_type": "code",
   "execution_count": 1,
   "metadata": {},
   "outputs": [],
   "source": [
    "import os, sys\n",
    "import numpy as np\n",
    "import pandas as pd\n",
    "import matplotlib.pyplot as plt\n",
    "import seaborn as sns\n",
    "import torch\n",
    "sys.path.append(os.path.abspath('../../vae_playground'))\n",
    "sys.path.append(os.path.abspath('..'))"
   ]
  },
  {
   "cell_type": "code",
   "execution_count": 2,
   "metadata": {},
   "outputs": [],
   "source": [
    "%load_ext autoreload\n",
    "%autoreload 2\n",
    "\n",
    "from lib.models import NeuralLDA as NeuralLDA\n",
    "\n",
    "from sklearn.cluster import KMeans\n",
    "\n",
    "import vae_playground.datasets as datasets"
   ]
  },
  {
   "cell_type": "markdown",
   "metadata": {},
   "source": [
    "Import Data"
   ]
  },
  {
   "cell_type": "code",
   "execution_count": 3,
   "metadata": {},
   "outputs": [],
   "source": [
    "DATASET_NAME = 'goi4_dp_small'\n",
    "RANDOM_SEED = 2112\n",
    "np.random.seed(RANDOM_SEED)"
   ]
  },
  {
   "cell_type": "code",
   "execution_count": 4,
   "metadata": {},
   "outputs": [
    {
     "name": "stdout",
     "output_type": "stream",
     "text": [
      "Loaded 631815 consumption profiles from 365 dates and 1731 users\n"
     ]
    }
   ],
   "source": [
    "df = pd.read_csv(f'../data/{DATASET_NAME}/dataset.csv')\n",
    "data, dates, users = df.iloc[:,:-2].values, df.date.values, df.user.values\n",
    "date_ids, user_ids = df.date.unique(), df.user.unique()\n",
    "num_days, num_users = len(date_ids), len(user_ids)\n",
    "print(f'Loaded {len(data)} consumption profiles from {num_days} dates and {num_users} users')"
   ]
  },
  {
   "cell_type": "code",
   "execution_count": 5,
   "metadata": {},
   "outputs": [],
   "source": [
    "RESOLUTION = 1 #in hours\n",
    "\n",
    "if RESOLUTION == 12:\n",
    "    X = torch.tensor(data, dtype=torch.float32).reshape(-1, 24)\n",
    "    #circle shift the last dimension of X\n",
    "    X = torch.cat([X[:,6:], X[:,:6]], dim=-1).reshape(num_users, num_days, int(24/RESOLUTION), int(RESOLUTION)).sum(dim=-1)\n",
    "else:\n",
    "    X = torch.tensor(data, dtype=torch.float32).reshape(num_users, num_days, int(24/RESOLUTION), int(RESOLUTION)).sum(dim=-1)\n",
    "dates, users = np.reshape(dates, (num_users, num_days)), np.reshape(users, (num_users, num_days))"
   ]
  },
  {
   "cell_type": "code",
   "execution_count": 6,
   "metadata": {},
   "outputs": [
    {
     "name": "stdout",
     "output_type": "stream",
     "text": [
      "Removing 4 users with all-zero consumption profiles\n",
      "Removing 18 users with any-negative consumption profiles\n"
     ]
    }
   ],
   "source": [
    "# Remove users with all-zero consumption profiles\n",
    "nonzero_user_mask = torch.sum(torch.all(X == 0, dim=2), dim=1) < num_days\n",
    "print(f'Removing {(~nonzero_user_mask).sum()} users with all-zero consumption profiles')\n",
    "positive_user_mask = torch.sum(torch.any(X < 0, dim=2), dim=1) == 0\n",
    "print(f'Removing {(~positive_user_mask).sum()} users with any-negative consumption profiles')\n",
    "user_mask = nonzero_user_mask & positive_user_mask"
   ]
  },
  {
   "cell_type": "code",
   "execution_count": 7,
   "metadata": {},
   "outputs": [],
   "source": [
    "X = X[user_mask]\n",
    "dates, users = dates[user_mask], users[user_mask]\n",
    "user_ids = user_ids[user_mask]"
   ]
  },
  {
   "cell_type": "code",
   "execution_count": 8,
   "metadata": {},
   "outputs": [
    {
     "name": "stdout",
     "output_type": "stream",
     "text": [
      "Number of (subsampled/filtered) users: 1709\n",
      "Number of (subsampled) days: 365\n",
      "Number of (aggregated) features: 24\n"
     ]
    }
   ],
   "source": [
    "USER_SUBSAMPLE_RATE = 1\n",
    "DAY_SUBSAMPLE_RATE = 1\n",
    "X = X[::USER_SUBSAMPLE_RATE, ::DAY_SUBSAMPLE_RATE, :]\n",
    "num_users, num_days, num_features = X.shape\n",
    "X = X.flatten(end_dim=1)\n",
    "print(f\"Number of (subsampled/filtered) users: {num_users}\")\n",
    "print(f\"Number of (subsampled) days: {num_days}\")\n",
    "print(f\"Number of (aggregated) features: {num_features}\")"
   ]
  },
  {
   "cell_type": "code",
   "execution_count": 9,
   "metadata": {},
   "outputs": [],
   "source": [
    "nonzero_mean, nonzero_std = datasets.zero_preserved_log_stats(X)\n",
    "X_norm = datasets.zero_preserved_log_normalize(X, nonzero_mean, nonzero_std).reshape(num_users, num_days, num_features)\n",
    "dataset = datasets.UserDayDataset(X_norm)\n",
    "X_flt = dataset.flatten_inputs\n",
    "user_idx, day_idx = dataset.user_day_list[:,0], dataset.user_day_list[:,1]"
   ]
  },
  {
   "cell_type": "code",
   "execution_count": 10,
   "metadata": {},
   "outputs": [],
   "source": [
    "df_plt = pd.DataFrame(torch.cat((X_flt, user_idx.unsqueeze(1), day_idx.unsqueeze(1)), dim=-1))\n",
    "df_plt.columns = [f'feature_{i}' for i in range(num_features)] + ['user'] + ['day']"
   ]
  },
  {
   "cell_type": "code",
   "execution_count": 11,
   "metadata": {},
   "outputs": [],
   "source": [
    "if num_users <= 100 and num_features == 2:\n",
    "    sns.scatterplot(df_plt, x=\"feature_0\", y=\"feature_1\", hue='user', palette=\"Set1\", alpha=.5)\n",
    "    # move the legend outside\n",
    "    plt.legend(bbox_to_anchor=(1.05, 1), loc=2, borderaxespad=0., title='user', ncol=5)\n",
    "    plt.xlabel('Diurnal consumption')\n",
    "    plt.ylabel('Nocturnal consumption')\n",
    "    plt.show()"
   ]
  },
  {
   "cell_type": "code",
   "execution_count": 12,
   "metadata": {},
   "outputs": [],
   "source": [
    "n_bins = 100\n",
    "kmeans = KMeans(n_clusters=n_bins, random_state=RANDOM_SEED, n_init='auto').fit(X_flt)"
   ]
  },
  {
   "cell_type": "code",
   "execution_count": 13,
   "metadata": {},
   "outputs": [],
   "source": [
    "labels = kmeans.labels_\n",
    "labels_onehot = np.zeros((len(labels), len(set(labels))))\n",
    "labels_onehot[np.arange(len(labels)), labels] = 1\n",
    "X_words = torch.tensor(labels_onehot).reshape(num_users, num_days, -1)"
   ]
  },
  {
   "cell_type": "code",
   "execution_count": 14,
   "metadata": {},
   "outputs": [],
   "source": [
    "DOC_TYPE = \"day\"       # \"day\" or \"user\"\n",
    "\n",
    "if DOC_TYPE == \"day\":\n",
    "    X_document = X_words.sum(dim=0)\n",
    "elif DOC_TYPE == \"user\":\n",
    "    X_document = X_words.sum(dim=1)\n",
    "else:\n",
    "    raise ValueError(f\"Invalid DOC_TYPE: {DOC_TYPE}\")\n",
    "\n",
    "num_docs, num_words = X_document.shape"
   ]
  },
  {
   "cell_type": "code",
   "execution_count": 15,
   "metadata": {},
   "outputs": [],
   "source": [
    "if n_bins <= 50 and num_features == 2:\n",
    "    df_plt = pd.DataFrame(torch.cat((X_flt,torch.tensor(labels).unsqueeze(1)), dim=-1))\n",
    "    df_plt.columns = [f'feature_{i}' for i in range(num_features)] + ['word']\n",
    "    sns.scatterplot(df_plt, x=\"feature_0\", y=\"feature_1\", hue='word', palette=\"Set2\", alpha=.5)\n",
    "    plt.scatter(kmeans.cluster_centers_[:,0], kmeans.cluster_centers_[:,1], marker='x', s=100, c='black')\n",
    "    plt.legend(bbox_to_anchor=(1.05, 1), loc=2, borderaxespad=0., title='word_id', ncol=5)\n",
    "    plt.xlabel('Diurnal consumption')\n",
    "    plt.ylabel('Nocturnal consumption')\n",
    "    plt.show()"
   ]
  },
  {
   "cell_type": "code",
   "execution_count": 16,
   "metadata": {},
   "outputs": [],
   "source": [
    "X_labels = torch.tensor(labels).reshape(num_users, num_days)\n",
    "if DOC_TYPE == \"day\": X_labels = X_labels.T"
   ]
  },
  {
   "cell_type": "code",
   "execution_count": 17,
   "metadata": {},
   "outputs": [],
   "source": [
    "class Dataset(torch.utils.data.Dataset):\n",
    "    def __init__(self, X): self.X = X\n",
    "    def __len__(self): return len(self.X)\n",
    "    def __getitem__(self, index): return self.X[index]"
   ]
  },
  {
   "cell_type": "code",
   "execution_count": 18,
   "metadata": {},
   "outputs": [],
   "source": [
    "dataset = Dataset(X_document.to(torch.float32))"
   ]
  },
  {
   "cell_type": "code",
   "execution_count": 31,
   "metadata": {},
   "outputs": [],
   "source": [
    "# Set training parameters.\n",
    "num_topics = 10\n",
    "prodlda = False\n",
    "conv = False\n",
    "num_layers = 2\n",
    "num_neurons = 200"
   ]
  },
  {
   "cell_type": "code",
   "execution_count": 32,
   "metadata": {},
   "outputs": [],
   "source": [
    "model = NeuralLDA(input_dim=n_bins,\n",
    "                    num_topics=num_topics, \n",
    "                    conv=conv,\n",
    "                    prodlda=prodlda,\n",
    "                    num_hidden_layers=num_layers,\n",
    "                    num_neurons=num_neurons,\n",
    "                    )"
   ]
  },
  {
   "cell_type": "code",
   "execution_count": 33,
   "metadata": {},
   "outputs": [],
   "source": [
    "lr = 1e-3\n",
    "batch_size = 32\n",
    "num_epochs = 1000\n",
    "beta = 1\n",
    "learn_prior = False\n",
    "prior_params = {'alpha': 1.0}"
   ]
  },
  {
   "cell_type": "code",
   "execution_count": 34,
   "metadata": {},
   "outputs": [
    {
     "name": "stderr",
     "output_type": "stream",
     "text": [
      "Epoch:   1%|          | 9/1000 [00:01<02:01,  8.15it/s]\n",
      "Epoch:   1%|          | 10/1000 [00:01<02:03,  7.99it/s]  "
     ]
    },
    {
     "name": "stdout",
     "output_type": "stream",
     "text": [
      "Iteration: 100 -- ELBO=-7.84e+03 / RLL=-7.82e+03 / KL=1.36e+01\n"
     ]
    },
    {
     "name": "stderr",
     "output_type": "stream",
     "text": [
      "Epoch:   2%|▏         | 17/1000 [00:02<01:49,  8.98it/s]\n",
      "Epoch:   2%|▏         | 20/1000 [00:02<01:36, 10.19it/s]  "
     ]
    },
    {
     "name": "stdout",
     "output_type": "stream",
     "text": [
      "Iteration: 200 -- ELBO=-7.74e+03 / RLL=-7.73e+03 / KL=1.52e+01\n"
     ]
    },
    {
     "name": "stderr",
     "output_type": "stream",
     "text": [
      "Epoch:   2%|▏         | 24/1000 [00:02<01:19, 12.35it/s]\n",
      "Epoch:   3%|▎         | 28/1000 [00:02<01:10, 13.72it/s]  "
     ]
    },
    {
     "name": "stdout",
     "output_type": "stream",
     "text": [
      "Iteration: 300 -- ELBO=-7.68e+03 / RLL=-7.66e+03 / KL=1.68e+01\n"
     ]
    },
    {
     "name": "stderr",
     "output_type": "stream",
     "text": [
      "Epoch:   3%|▎         | 34/1000 [00:03<01:03, 15.31it/s]\n",
      "Epoch:   4%|▎         | 36/1000 [00:03<01:03, 15.18it/s]  "
     ]
    },
    {
     "name": "stdout",
     "output_type": "stream",
     "text": [
      "Iteration: 400 -- ELBO=-7.57e+03 / RLL=-7.55e+03 / KL=1.80e+01\n"
     ]
    },
    {
     "name": "stderr",
     "output_type": "stream",
     "text": [
      "Epoch:   4%|▍         | 42/1000 [00:03<01:05, 14.57it/s]\n",
      "Epoch:   5%|▍         | 46/1000 [00:03<01:01, 15.45it/s]  "
     ]
    },
    {
     "name": "stdout",
     "output_type": "stream",
     "text": [
      "Iteration: 500 -- ELBO=-7.55e+03 / RLL=-7.53e+03 / KL=1.92e+01\n"
     ]
    },
    {
     "name": "stderr",
     "output_type": "stream",
     "text": [
      "Epoch:   5%|▌         | 50/1000 [00:04<01:26, 10.98it/s]\n",
      "Epoch:   5%|▌         | 54/1000 [00:04<01:13, 12.90it/s]  "
     ]
    },
    {
     "name": "stdout",
     "output_type": "stream",
     "text": [
      "Iteration: 600 -- ELBO=-7.49e+03 / RLL=-7.47e+03 / KL=2.00e+01\n"
     ]
    },
    {
     "name": "stderr",
     "output_type": "stream",
     "text": [
      "Epoch:   6%|▌         | 58/1000 [00:04<01:05, 14.29it/s]\n",
      "Epoch:   6%|▌         | 62/1000 [00:05<01:03, 14.84it/s]  "
     ]
    },
    {
     "name": "stdout",
     "output_type": "stream",
     "text": [
      "Iteration: 700 -- ELBO=-7.45e+03 / RLL=-7.42e+03 / KL=2.08e+01\n"
     ]
    },
    {
     "name": "stderr",
     "output_type": "stream",
     "text": [
      "Epoch:   7%|▋         | 66/1000 [00:05<00:59, 15.75it/s]\n",
      "Epoch:   7%|▋         | 70/1000 [00:05<00:56, 16.52it/s]  "
     ]
    },
    {
     "name": "stdout",
     "output_type": "stream",
     "text": [
      "Iteration: 800 -- ELBO=-7.45e+03 / RLL=-7.43e+03 / KL=2.13e+01\n"
     ]
    },
    {
     "name": "stderr",
     "output_type": "stream",
     "text": [
      "Epoch:   7%|▋         | 74/1000 [00:05<00:57, 16.06it/s]\n",
      "Epoch:   8%|▊         | 78/1000 [00:06<00:55, 16.64it/s]  "
     ]
    },
    {
     "name": "stdout",
     "output_type": "stream",
     "text": [
      "Iteration: 900 -- ELBO=-7.40e+03 / RLL=-7.38e+03 / KL=2.18e+01\n"
     ]
    },
    {
     "name": "stderr",
     "output_type": "stream",
     "text": [
      "Epoch:   8%|▊         | 84/1000 [00:06<00:52, 17.34it/s]\n",
      "Epoch:   9%|▊         | 86/1000 [00:06<00:53, 17.12it/s]  "
     ]
    },
    {
     "name": "stdout",
     "output_type": "stream",
     "text": [
      "Iteration: 1000 -- ELBO=-7.39e+03 / RLL=-7.37e+03 / KL=2.21e+01\n"
     ]
    },
    {
     "name": "stderr",
     "output_type": "stream",
     "text": [
      "Epoch:   9%|▉         | 92/1000 [00:06<00:52, 17.20it/s]\n",
      "Epoch:  10%|▉         | 96/1000 [00:07<00:53, 16.94it/s]  \n"
     ]
    },
    {
     "name": "stdout",
     "output_type": "stream",
     "text": [
      "Iteration: 1100 -- ELBO=-7.35e+03 / RLL=-7.32e+03 / KL=2.24e+01\n"
     ]
    },
    {
     "name": "stderr",
     "output_type": "stream",
     "text": [
      "Epoch:  10%|█         | 100/1000 [00:07<00:51, 17.34it/s]]\u001b[A\n",
      "Epoch:  10%|█         | 104/1000 [00:07<00:53, 16.88it/s] "
     ]
    },
    {
     "name": "stdout",
     "output_type": "stream",
     "text": [
      "Iteration: 1200 -- ELBO=-7.33e+03 / RLL=-7.31e+03 / KL=2.26e+01\n"
     ]
    },
    {
     "name": "stderr",
     "output_type": "stream",
     "text": [
      "Epoch:  11%|█         | 108/1000 [00:08<01:04, 13.91it/s]\n",
      "Epoch:  11%|█         | 110/1000 [00:08<01:02, 14.19it/s] "
     ]
    },
    {
     "name": "stdout",
     "output_type": "stream",
     "text": [
      "Iteration: 1300 -- ELBO=-7.34e+03 / RLL=-7.31e+03 / KL=2.28e+01\n"
     ]
    },
    {
     "name": "stderr",
     "output_type": "stream",
     "text": [
      "Epoch:  12%|█▏        | 116/1000 [00:09<01:55,  7.65it/s]\n",
      "Epoch:  12%|█▏        | 120/1000 [00:09<01:22, 10.71it/s] "
     ]
    },
    {
     "name": "stdout",
     "output_type": "stream",
     "text": [
      "Iteration: 1400 -- ELBO=-7.33e+03 / RLL=-7.30e+03 / KL=2.28e+01\n"
     ]
    },
    {
     "name": "stderr",
     "output_type": "stream",
     "text": [
      "Epoch:  12%|█▏        | 124/1000 [00:09<01:06, 13.11it/s]\n",
      "Epoch:  13%|█▎        | 128/1000 [00:09<01:00, 14.40it/s] "
     ]
    },
    {
     "name": "stdout",
     "output_type": "stream",
     "text": [
      "Iteration: 1500 -- ELBO=-7.26e+03 / RLL=-7.24e+03 / KL=2.30e+01\n"
     ]
    },
    {
     "name": "stderr",
     "output_type": "stream",
     "text": [
      "Epoch:  13%|█▎        | 134/1000 [00:10<00:56, 15.39it/s]\n",
      "Epoch:  14%|█▎        | 136/1000 [00:10<00:56, 15.27it/s] "
     ]
    },
    {
     "name": "stdout",
     "output_type": "stream",
     "text": [
      "Iteration: 1600 -- ELBO=-7.33e+03 / RLL=-7.31e+03 / KL=2.30e+01\n"
     ]
    },
    {
     "name": "stderr",
     "output_type": "stream",
     "text": [
      "Epoch:  14%|█▍        | 142/1000 [00:10<00:51, 16.68it/s]\n",
      "Epoch:  15%|█▍        | 146/1000 [00:10<00:51, 16.70it/s] "
     ]
    },
    {
     "name": "stdout",
     "output_type": "stream",
     "text": [
      "Iteration: 1700 -- ELBO=-7.31e+03 / RLL=-7.28e+03 / KL=2.26e+01\n"
     ]
    },
    {
     "name": "stderr",
     "output_type": "stream",
     "text": [
      "Epoch:  15%|█▌        | 150/1000 [00:11<00:49, 17.21it/s]\n",
      "Epoch:  15%|█▌        | 154/1000 [00:11<00:49, 17.26it/s] "
     ]
    },
    {
     "name": "stdout",
     "output_type": "stream",
     "text": [
      "Iteration: 1800 -- ELBO=-7.30e+03 / RLL=-7.28e+03 / KL=2.30e+01\n"
     ]
    },
    {
     "name": "stderr",
     "output_type": "stream",
     "text": [
      "Epoch:  16%|█▌        | 158/1000 [00:11<00:48, 17.48it/s]\n",
      "Epoch:  16%|█▌        | 162/1000 [00:11<00:46, 17.99it/s] "
     ]
    },
    {
     "name": "stdout",
     "output_type": "stream",
     "text": [
      "Iteration: 1900 -- ELBO=-7.28e+03 / RLL=-7.26e+03 / KL=2.29e+01\n"
     ]
    },
    {
     "name": "stderr",
     "output_type": "stream",
     "text": [
      "Epoch:  17%|█▋        | 166/1000 [00:12<00:48, 17.28it/s]\n",
      "Epoch:  17%|█▋        | 170/1000 [00:12<00:54, 15.09it/s] "
     ]
    },
    {
     "name": "stdout",
     "output_type": "stream",
     "text": [
      "Iteration: 2000 -- ELBO=-7.28e+03 / RLL=-7.26e+03 / KL=2.29e+01\n"
     ]
    },
    {
     "name": "stderr",
     "output_type": "stream",
     "text": [
      "Epoch:  17%|█▋        | 174/1000 [00:12<00:52, 15.76it/s]\n",
      "Epoch:  18%|█▊        | 178/1000 [00:12<00:51, 16.07it/s] "
     ]
    },
    {
     "name": "stdout",
     "output_type": "stream",
     "text": [
      "Iteration: 2100 -- ELBO=-7.33e+03 / RLL=-7.31e+03 / KL=2.25e+01\n"
     ]
    },
    {
     "name": "stderr",
     "output_type": "stream",
     "text": [
      "Epoch:  18%|█▊        | 184/1000 [00:13<01:52,  7.25it/s]\n",
      "Epoch:  18%|█▊        | 184/1000 [00:13<01:52,  7.25it/s] "
     ]
    },
    {
     "name": "stdout",
     "output_type": "stream",
     "text": [
      "Iteration: 2200 -- ELBO=-7.22e+03 / RLL=-7.20e+03 / KL=2.25e+01\n"
     ]
    },
    {
     "name": "stderr",
     "output_type": "stream",
     "text": [
      "Epoch:  19%|█▉        | 192/1000 [00:15<01:38,  8.20it/s]\n",
      "Epoch:  19%|█▉        | 194/1000 [00:15<01:22,  9.71it/s] "
     ]
    },
    {
     "name": "stdout",
     "output_type": "stream",
     "text": [
      "Iteration: 2300 -- ELBO=-7.25e+03 / RLL=-7.23e+03 / KL=2.21e+01\n"
     ]
    },
    {
     "name": "stderr",
     "output_type": "stream",
     "text": [
      "Epoch:  20%|██        | 200/1000 [00:15<00:59, 13.54it/s]\n",
      "Epoch:  20%|██        | 204/1000 [00:15<00:53, 14.76it/s] "
     ]
    },
    {
     "name": "stdout",
     "output_type": "stream",
     "text": [
      "Iteration: 2400 -- ELBO=-7.24e+03 / RLL=-7.22e+03 / KL=2.22e+01\n"
     ]
    },
    {
     "name": "stderr",
     "output_type": "stream",
     "text": [
      "Epoch:  21%|██        | 208/1000 [00:16<00:52, 15.02it/s]\n",
      "Epoch:  21%|██        | 212/1000 [00:16<00:58, 13.49it/s] "
     ]
    },
    {
     "name": "stdout",
     "output_type": "stream",
     "text": [
      "Iteration: 2500 -- ELBO=-7.33e+03 / RLL=-7.31e+03 / KL=2.14e+01\n"
     ]
    },
    {
     "name": "stderr",
     "output_type": "stream",
     "text": [
      "Epoch:  22%|██▏       | 216/1000 [00:16<00:52, 14.82it/s]\n",
      "Epoch:  22%|██▏       | 220/1000 [00:16<00:50, 15.53it/s] "
     ]
    },
    {
     "name": "stdout",
     "output_type": "stream",
     "text": [
      "Iteration: 2600 -- ELBO=-7.27e+03 / RLL=-7.25e+03 / KL=2.17e+01\n"
     ]
    },
    {
     "name": "stderr",
     "output_type": "stream",
     "text": [
      "Epoch:  22%|██▏       | 224/1000 [00:17<00:48, 15.94it/s]\n",
      "Epoch:  23%|██▎       | 228/1000 [00:17<00:48, 16.03it/s] "
     ]
    },
    {
     "name": "stdout",
     "output_type": "stream",
     "text": [
      "Iteration: 2700 -- ELBO=-7.23e+03 / RLL=-7.21e+03 / KL=2.18e+01\n"
     ]
    },
    {
     "name": "stderr",
     "output_type": "stream",
     "text": [
      "Epoch:  23%|██▎       | 234/1000 [00:17<00:46, 16.52it/s]\n",
      "Epoch:  24%|██▎       | 236/1000 [00:17<00:47, 16.13it/s] "
     ]
    },
    {
     "name": "stdout",
     "output_type": "stream",
     "text": [
      "Iteration: 2800 -- ELBO=-7.26e+03 / RLL=-7.24e+03 / KL=2.15e+01\n"
     ]
    },
    {
     "name": "stderr",
     "output_type": "stream",
     "text": [
      "Epoch:  24%|██▍       | 242/1000 [00:18<00:46, 16.31it/s]\n",
      "Epoch:  24%|██▍       | 244/1000 [00:18<00:46, 16.20it/s] "
     ]
    },
    {
     "name": "stdout",
     "output_type": "stream",
     "text": [
      "Iteration: 2900 -- ELBO=-7.23e+03 / RLL=-7.21e+03 / KL=2.15e+01\n"
     ]
    },
    {
     "name": "stderr",
     "output_type": "stream",
     "text": [
      "Epoch:  25%|██▌       | 250/1000 [00:18<00:46, 15.99it/s]\n",
      "Epoch:  25%|██▌       | 252/1000 [00:19<01:04, 11.56it/s]          "
     ]
    },
    {
     "name": "stdout",
     "output_type": "stream",
     "text": [
      "Iteration: 3000 -- ELBO=-7.28e+03 / RLL=-7.26e+03 / KL=2.11e+01\n"
     ]
    },
    {
     "name": "stderr",
     "output_type": "stream",
     "text": [
      "Epoch:  26%|██▌       | 258/1000 [00:19<00:53, 13.87it/s]\n",
      "Epoch:  26%|██▌       | 262/1000 [00:19<00:49, 14.94it/s] "
     ]
    },
    {
     "name": "stdout",
     "output_type": "stream",
     "text": [
      "Iteration: 3100 -- ELBO=-7.25e+03 / RLL=-7.22e+03 / KL=2.11e+01\n"
     ]
    },
    {
     "name": "stderr",
     "output_type": "stream",
     "text": [
      "Epoch:  27%|██▋       | 266/1000 [00:20<00:47, 15.48it/s]\n",
      "Epoch:  27%|██▋       | 268/1000 [00:20<00:47, 15.31it/s] "
     ]
    },
    {
     "name": "stdout",
     "output_type": "stream",
     "text": [
      "Iteration: 3200 -- ELBO=-7.26e+03 / RLL=-7.24e+03 / KL=2.08e+01\n"
     ]
    },
    {
     "name": "stderr",
     "output_type": "stream",
     "text": [
      "Epoch:  27%|██▋       | 274/1000 [00:20<00:57, 12.71it/s]\n",
      "Epoch:  28%|██▊       | 278/1000 [00:20<00:50, 14.37it/s] "
     ]
    },
    {
     "name": "stdout",
     "output_type": "stream",
     "text": [
      "Iteration: 3300 -- ELBO=-7.26e+03 / RLL=-7.24e+03 / KL=2.12e+01\n"
     ]
    },
    {
     "name": "stderr",
     "output_type": "stream",
     "text": [
      "Epoch:  28%|██▊       | 284/1000 [00:21<01:26,  8.31it/s]\n",
      "Epoch:  29%|██▊       | 286/1000 [00:22<01:13,  9.69it/s] "
     ]
    },
    {
     "name": "stdout",
     "output_type": "stream",
     "text": [
      "Iteration: 3400 -- ELBO=-7.26e+03 / RLL=-7.24e+03 / KL=2.03e+01\n"
     ]
    },
    {
     "name": "stderr",
     "output_type": "stream",
     "text": [
      "Epoch:  29%|██▉       | 292/1000 [00:22<00:52, 13.45it/s]\n",
      "Epoch:  30%|██▉       | 296/1000 [00:22<00:47, 14.92it/s] \n"
     ]
    },
    {
     "name": "stdout",
     "output_type": "stream",
     "text": [
      "Iteration: 3500 -- ELBO=-7.24e+03 / RLL=-7.22e+03 / KL=2.05e+01\n"
     ]
    },
    {
     "name": "stderr",
     "output_type": "stream",
     "text": [
      "Epoch:  30%|███       | 300/1000 [00:22<00:44, 15.59it/s]]\u001b[A\n",
      "Epoch:  30%|███       | 304/1000 [00:23<00:42, 16.23it/s] "
     ]
    },
    {
     "name": "stdout",
     "output_type": "stream",
     "text": [
      "Iteration: 3600 -- ELBO=-7.29e+03 / RLL=-7.27e+03 / KL=2.05e+01\n"
     ]
    },
    {
     "name": "stderr",
     "output_type": "stream",
     "text": [
      "Epoch:  31%|███       | 308/1000 [00:23<00:41, 16.58it/s]\n",
      "Epoch:  31%|███       | 312/1000 [00:23<00:40, 16.84it/s] "
     ]
    },
    {
     "name": "stdout",
     "output_type": "stream",
     "text": [
      "Iteration: 3700 -- ELBO=-7.33e+03 / RLL=-7.31e+03 / KL=1.97e+01\n"
     ]
    },
    {
     "name": "stderr",
     "output_type": "stream",
     "text": [
      "Epoch:  32%|███▏      | 320/1000 [00:24<00:39, 17.32it/s]"
     ]
    },
    {
     "name": "stdout",
     "output_type": "stream",
     "text": [
      "Iteration: 3800 -- ELBO=-7.30e+03 / RLL=-7.28e+03 / KL=2.03e+01\n"
     ]
    },
    {
     "name": "stderr",
     "output_type": "stream",
     "text": [
      "Epoch:  32%|███▏      | 324/1000 [00:24<00:40, 16.88it/s]\n",
      "Epoch:  33%|███▎      | 328/1000 [00:24<00:39, 17.08it/s] "
     ]
    },
    {
     "name": "stdout",
     "output_type": "stream",
     "text": [
      "Iteration: 3900 -- ELBO=-7.16e+03 / RLL=-7.14e+03 / KL=2.05e+01\n"
     ]
    },
    {
     "name": "stderr",
     "output_type": "stream",
     "text": [
      "Epoch:  33%|███▎      | 334/1000 [00:24<00:38, 17.08it/s]\n",
      "Epoch:  34%|███▎      | 336/1000 [00:24<00:39, 16.98it/s] "
     ]
    },
    {
     "name": "stdout",
     "output_type": "stream",
     "text": [
      "Iteration: 4000 -- ELBO=-7.28e+03 / RLL=-7.26e+03 / KL=1.96e+01\n"
     ]
    },
    {
     "name": "stderr",
     "output_type": "stream",
     "text": [
      "Epoch:  34%|███▍      | 342/1000 [00:25<00:39, 16.63it/s]\n",
      "Epoch:  34%|███▍      | 344/1000 [00:25<00:40, 16.05it/s] "
     ]
    },
    {
     "name": "stdout",
     "output_type": "stream",
     "text": [
      "Iteration: 4100 -- ELBO=-7.23e+03 / RLL=-7.21e+03 / KL=1.97e+01\n"
     ]
    },
    {
     "name": "stderr",
     "output_type": "stream",
     "text": [
      "Epoch:  35%|███▌      | 350/1000 [00:25<00:40, 15.95it/s]\n",
      "Epoch:  35%|███▌      | 354/1000 [00:26<00:40, 15.96it/s] "
     ]
    },
    {
     "name": "stdout",
     "output_type": "stream",
     "text": [
      "Iteration: 4200 -- ELBO=-7.29e+03 / RLL=-7.27e+03 / KL=1.99e+01\n"
     ]
    },
    {
     "name": "stderr",
     "output_type": "stream",
     "text": [
      "Epoch:  36%|███▌      | 358/1000 [00:26<00:40, 15.96it/s]\n",
      "Epoch:  36%|███▌      | 362/1000 [00:26<00:40, 15.88it/s] "
     ]
    },
    {
     "name": "stdout",
     "output_type": "stream",
     "text": [
      "Iteration: 4300 -- ELBO=-7.23e+03 / RLL=-7.21e+03 / KL=1.99e+01\n"
     ]
    },
    {
     "name": "stderr",
     "output_type": "stream",
     "text": [
      "Epoch:  37%|███▋      | 366/1000 [00:26<00:39, 15.93it/s]\n",
      "Epoch:  37%|███▋      | 370/1000 [00:27<00:39, 15.93it/s] "
     ]
    },
    {
     "name": "stdout",
     "output_type": "stream",
     "text": [
      "Iteration: 4400 -- ELBO=-7.24e+03 / RLL=-7.22e+03 / KL=1.94e+01\n"
     ]
    },
    {
     "name": "stderr",
     "output_type": "stream",
     "text": [
      "Epoch:  37%|███▋      | 374/1000 [00:27<00:39, 15.83it/s]\n",
      "Epoch:  38%|███▊      | 378/1000 [00:27<00:39, 15.89it/s] "
     ]
    },
    {
     "name": "stdout",
     "output_type": "stream",
     "text": [
      "Iteration: 4500 -- ELBO=-7.28e+03 / RLL=-7.26e+03 / KL=1.98e+01\n"
     ]
    },
    {
     "name": "stderr",
     "output_type": "stream",
     "text": [
      "Epoch:  38%|███▊      | 384/1000 [00:28<00:38, 15.93it/s]\n",
      "Epoch:  39%|███▊      | 386/1000 [00:28<00:38, 16.03it/s] "
     ]
    },
    {
     "name": "stdout",
     "output_type": "stream",
     "text": [
      "Iteration: 4600 -- ELBO=-7.28e+03 / RLL=-7.26e+03 / KL=1.92e+01\n"
     ]
    },
    {
     "name": "stderr",
     "output_type": "stream",
     "text": [
      "Epoch:  39%|███▉      | 392/1000 [00:28<00:45, 13.26it/s]\n",
      "Epoch:  39%|███▉      | 394/1000 [00:28<00:43, 13.93it/s] "
     ]
    },
    {
     "name": "stdout",
     "output_type": "stream",
     "text": [
      "Iteration: 4700 -- ELBO=-7.24e+03 / RLL=-7.22e+03 / KL=1.92e+01\n"
     ]
    },
    {
     "name": "stderr",
     "output_type": "stream",
     "text": [
      "Epoch:  40%|████      | 400/1000 [00:29<00:38, 15.76it/s]\n",
      "Epoch:  40%|████      | 404/1000 [00:29<00:36, 16.32it/s] "
     ]
    },
    {
     "name": "stdout",
     "output_type": "stream",
     "text": [
      "Iteration: 4800 -- ELBO=-7.28e+03 / RLL=-7.26e+03 / KL=1.97e+01\n"
     ]
    },
    {
     "name": "stderr",
     "output_type": "stream",
     "text": [
      "Epoch:  41%|████      | 408/1000 [00:29<00:36, 16.24it/s]\n",
      "Epoch:  41%|████      | 412/1000 [00:29<00:36, 16.29it/s] "
     ]
    },
    {
     "name": "stdout",
     "output_type": "stream",
     "text": [
      "Iteration: 4900 -- ELBO=-7.25e+03 / RLL=-7.24e+03 / KL=1.86e+01\n"
     ]
    },
    {
     "name": "stderr",
     "output_type": "stream",
     "text": [
      "Epoch:  42%|████▏     | 416/1000 [00:30<00:36, 16.09it/s]\n",
      "Epoch:  42%|████▏     | 420/1000 [00:30<00:37, 15.66it/s] "
     ]
    },
    {
     "name": "stdout",
     "output_type": "stream",
     "text": [
      "Iteration: 5000 -- ELBO=-7.27e+03 / RLL=-7.25e+03 / KL=1.87e+01\n"
     ]
    },
    {
     "name": "stderr",
     "output_type": "stream",
     "text": [
      "Epoch:  42%|████▏     | 424/1000 [00:30<00:36, 15.83it/s]\n",
      "Epoch:  43%|████▎     | 428/1000 [00:30<00:35, 15.93it/s] "
     ]
    },
    {
     "name": "stdout",
     "output_type": "stream",
     "text": [
      "Iteration: 5100 -- ELBO=-7.34e+03 / RLL=-7.32e+03 / KL=1.88e+01\n"
     ]
    },
    {
     "name": "stderr",
     "output_type": "stream",
     "text": [
      "Epoch:  43%|████▎     | 434/1000 [00:31<00:35, 16.05it/s]\n",
      "Epoch:  44%|████▎     | 436/1000 [00:31<00:34, 16.14it/s] "
     ]
    },
    {
     "name": "stdout",
     "output_type": "stream",
     "text": [
      "Iteration: 5200 -- ELBO=-7.24e+03 / RLL=-7.22e+03 / KL=1.88e+01\n"
     ]
    },
    {
     "name": "stderr",
     "output_type": "stream",
     "text": [
      "Epoch:  44%|████▍     | 442/1000 [00:31<00:33, 16.76it/s]\n",
      "Epoch:  45%|████▍     | 446/1000 [00:31<00:32, 17.00it/s] "
     ]
    },
    {
     "name": "stdout",
     "output_type": "stream",
     "text": [
      "Iteration: 5300 -- ELBO=-7.25e+03 / RLL=-7.23e+03 / KL=1.88e+01\n"
     ]
    },
    {
     "name": "stderr",
     "output_type": "stream",
     "text": [
      "Epoch:  45%|████▌     | 450/1000 [00:32<00:32, 16.97it/s]\n",
      "Epoch:  45%|████▌     | 454/1000 [00:32<00:31, 17.11it/s] "
     ]
    },
    {
     "name": "stdout",
     "output_type": "stream",
     "text": [
      "Iteration: 5400 -- ELBO=-7.35e+03 / RLL=-7.33e+03 / KL=1.80e+01\n"
     ]
    },
    {
     "name": "stderr",
     "output_type": "stream",
     "text": [
      "Epoch:  46%|████▌     | 458/1000 [00:32<00:31, 17.08it/s]\n",
      "Epoch:  46%|████▌     | 462/1000 [00:32<00:30, 17.68it/s] \n"
     ]
    },
    {
     "name": "stdout",
     "output_type": "stream",
     "text": [
      "Iteration: 5500 -- ELBO=-7.25e+03 / RLL=-7.23e+03 / KL=1.88e+01\n"
     ]
    },
    {
     "name": "stderr",
     "output_type": "stream",
     "text": [
      "Epoch:  47%|████▋     | 466/1000 [00:33<00:30, 17.29it/s]]\u001b[A\n",
      "Epoch:  47%|████▋     | 470/1000 [00:33<00:31, 16.79it/s] "
     ]
    },
    {
     "name": "stdout",
     "output_type": "stream",
     "text": [
      "Iteration: 5600 -- ELBO=-7.28e+03 / RLL=-7.26e+03 / KL=1.84e+01\n"
     ]
    },
    {
     "name": "stderr",
     "output_type": "stream",
     "text": [
      "Epoch:  47%|████▋     | 474/1000 [00:33<00:31, 16.90it/s]\n",
      "Epoch:  48%|████▊     | 478/1000 [00:33<00:31, 16.61it/s] "
     ]
    },
    {
     "name": "stdout",
     "output_type": "stream",
     "text": [
      "Iteration: 5700 -- ELBO=-7.27e+03 / RLL=-7.25e+03 / KL=1.88e+01\n"
     ]
    },
    {
     "name": "stderr",
     "output_type": "stream",
     "text": [
      "Epoch:  48%|████▊     | 484/1000 [00:34<00:31, 16.22it/s]\n",
      "Epoch:  49%|████▊     | 486/1000 [00:34<00:32, 15.63it/s] "
     ]
    },
    {
     "name": "stdout",
     "output_type": "stream",
     "text": [
      "Iteration: 5800 -- ELBO=-7.27e+03 / RLL=-7.25e+03 / KL=1.83e+01\n"
     ]
    },
    {
     "name": "stderr",
     "output_type": "stream",
     "text": [
      "Epoch:  49%|████▉     | 492/1000 [00:34<00:31, 15.95it/s]\n",
      "Epoch:  49%|████▉     | 494/1000 [00:34<00:32, 15.70it/s] "
     ]
    },
    {
     "name": "stdout",
     "output_type": "stream",
     "text": [
      "Iteration: 5900 -- ELBO=-7.28e+03 / RLL=-7.26e+03 / KL=1.86e+01\n"
     ]
    },
    {
     "name": "stderr",
     "output_type": "stream",
     "text": [
      "Epoch:  50%|█████     | 500/1000 [00:35<00:31, 15.98it/s]\n",
      "Epoch:  50%|█████     | 504/1000 [00:35<00:31, 15.98it/s] "
     ]
    },
    {
     "name": "stdout",
     "output_type": "stream",
     "text": [
      "Iteration: 6000 -- ELBO=-7.26e+03 / RLL=-7.24e+03 / KL=1.86e+01\n"
     ]
    },
    {
     "name": "stderr",
     "output_type": "stream",
     "text": [
      "Epoch:  51%|█████     | 512/1000 [00:35<00:29, 16.79it/s]"
     ]
    },
    {
     "name": "stdout",
     "output_type": "stream",
     "text": [
      "Iteration: 6100 -- ELBO=-7.21e+03 / RLL=-7.20e+03 / KL=1.85e+01\n"
     ]
    },
    {
     "name": "stderr",
     "output_type": "stream",
     "text": [
      "Epoch:  52%|█████▏    | 516/1000 [00:36<00:28, 16.92it/s]\n",
      "Epoch:  52%|█████▏    | 520/1000 [00:36<00:28, 17.06it/s] "
     ]
    },
    {
     "name": "stdout",
     "output_type": "stream",
     "text": [
      "Iteration: 6200 -- ELBO=-7.30e+03 / RLL=-7.29e+03 / KL=1.79e+01\n"
     ]
    },
    {
     "name": "stderr",
     "output_type": "stream",
     "text": [
      "Epoch:  52%|█████▏    | 524/1000 [00:36<00:28, 16.60it/s]\n",
      "Epoch:  53%|█████▎    | 528/1000 [00:36<00:29, 16.26it/s] "
     ]
    },
    {
     "name": "stdout",
     "output_type": "stream",
     "text": [
      "Iteration: 6300 -- ELBO=-7.17e+03 / RLL=-7.16e+03 / KL=1.82e+01\n"
     ]
    },
    {
     "name": "stderr",
     "output_type": "stream",
     "text": [
      "Epoch:  53%|█████▎    | 534/1000 [00:37<00:28, 16.53it/s]\n",
      "Epoch:  54%|█████▎    | 536/1000 [00:37<00:27, 16.60it/s] "
     ]
    },
    {
     "name": "stdout",
     "output_type": "stream",
     "text": [
      "Iteration: 6400 -- ELBO=-7.25e+03 / RLL=-7.23e+03 / KL=1.80e+01\n"
     ]
    },
    {
     "name": "stderr",
     "output_type": "stream",
     "text": [
      "Epoch:  54%|█████▍    | 542/1000 [00:37<00:27, 16.71it/s]\n",
      "Epoch:  54%|█████▍    | 544/1000 [00:37<00:28, 16.25it/s] "
     ]
    },
    {
     "name": "stdout",
     "output_type": "stream",
     "text": [
      "Iteration: 6500 -- ELBO=-7.22e+03 / RLL=-7.20e+03 / KL=1.82e+01\n"
     ]
    },
    {
     "name": "stderr",
     "output_type": "stream",
     "text": [
      "Epoch:  55%|█████▌    | 550/1000 [00:38<00:26, 16.74it/s]\n",
      "Epoch:  55%|█████▌    | 554/1000 [00:38<00:27, 16.28it/s] "
     ]
    },
    {
     "name": "stdout",
     "output_type": "stream",
     "text": [
      "Iteration: 6600 -- ELBO=-7.19e+03 / RLL=-7.17e+03 / KL=1.82e+01\n"
     ]
    },
    {
     "name": "stderr",
     "output_type": "stream",
     "text": [
      "Epoch:  56%|█████▌    | 558/1000 [00:38<00:27, 15.94it/s]\n",
      "Epoch:  56%|█████▌    | 562/1000 [00:38<00:26, 16.26it/s] "
     ]
    },
    {
     "name": "stdout",
     "output_type": "stream",
     "text": [
      "Iteration: 6700 -- ELBO=-7.22e+03 / RLL=-7.20e+03 / KL=1.85e+01\n"
     ]
    },
    {
     "name": "stderr",
     "output_type": "stream",
     "text": [
      "Epoch:  57%|█████▋    | 566/1000 [00:39<00:26, 16.44it/s]\n",
      "Epoch:  57%|█████▋    | 570/1000 [00:39<00:26, 16.06it/s] "
     ]
    },
    {
     "name": "stdout",
     "output_type": "stream",
     "text": [
      "Iteration: 6800 -- ELBO=-7.20e+03 / RLL=-7.18e+03 / KL=1.83e+01\n"
     ]
    },
    {
     "name": "stderr",
     "output_type": "stream",
     "text": [
      "Epoch:  57%|█████▋    | 574/1000 [00:39<00:26, 15.99it/s]\n",
      "Epoch:  58%|█████▊    | 578/1000 [00:39<00:26, 15.81it/s] "
     ]
    },
    {
     "name": "stdout",
     "output_type": "stream",
     "text": [
      "Iteration: 6900 -- ELBO=-7.29e+03 / RLL=-7.27e+03 / KL=1.83e+01\n"
     ]
    },
    {
     "name": "stderr",
     "output_type": "stream",
     "text": [
      "Epoch:  58%|█████▊    | 584/1000 [00:40<00:25, 16.02it/s]\n",
      "Epoch:  59%|█████▊    | 586/1000 [00:40<00:26, 15.72it/s] "
     ]
    },
    {
     "name": "stdout",
     "output_type": "stream",
     "text": [
      "Iteration: 7000 -- ELBO=-7.30e+03 / RLL=-7.28e+03 / KL=1.77e+01\n"
     ]
    },
    {
     "name": "stderr",
     "output_type": "stream",
     "text": [
      "Epoch:  59%|█████▉    | 592/1000 [00:40<00:25, 15.92it/s]\n",
      "Epoch:  59%|█████▉    | 594/1000 [00:41<00:25, 15.70it/s] "
     ]
    },
    {
     "name": "stdout",
     "output_type": "stream",
     "text": [
      "Iteration: 7100 -- ELBO=-7.19e+03 / RLL=-7.17e+03 / KL=1.83e+01\n"
     ]
    },
    {
     "name": "stderr",
     "output_type": "stream",
     "text": [
      "Epoch:  60%|██████    | 600/1000 [00:41<00:24, 16.17it/s]\n",
      "Epoch:  60%|██████    | 604/1000 [00:41<00:23, 16.61it/s] "
     ]
    },
    {
     "name": "stdout",
     "output_type": "stream",
     "text": [
      "Iteration: 7200 -- ELBO=-7.25e+03 / RLL=-7.23e+03 / KL=1.79e+01\n"
     ]
    },
    {
     "name": "stderr",
     "output_type": "stream",
     "text": [
      "Epoch:  61%|██████    | 608/1000 [00:41<00:23, 16.95it/s]\n",
      "Epoch:  61%|██████    | 612/1000 [00:42<00:23, 16.83it/s] "
     ]
    },
    {
     "name": "stdout",
     "output_type": "stream",
     "text": [
      "Iteration: 7300 -- ELBO=-7.27e+03 / RLL=-7.25e+03 / KL=1.78e+01\n"
     ]
    },
    {
     "name": "stderr",
     "output_type": "stream",
     "text": [
      "Epoch:  62%|██████▏   | 616/1000 [00:42<00:22, 16.86it/s]\n",
      "Epoch:  62%|██████▏   | 620/1000 [00:42<00:22, 16.82it/s] "
     ]
    },
    {
     "name": "stdout",
     "output_type": "stream",
     "text": [
      "Iteration: 7400 -- ELBO=-7.23e+03 / RLL=-7.21e+03 / KL=1.79e+01\n"
     ]
    },
    {
     "name": "stderr",
     "output_type": "stream",
     "text": [
      "Epoch:  62%|██████▏   | 624/1000 [00:42<00:22, 16.72it/s]\n",
      "Epoch:  63%|██████▎   | 628/1000 [00:43<00:21, 16.95it/s] "
     ]
    },
    {
     "name": "stdout",
     "output_type": "stream",
     "text": [
      "Iteration: 7500 -- ELBO=-7.29e+03 / RLL=-7.27e+03 / KL=1.70e+01\n"
     ]
    },
    {
     "name": "stderr",
     "output_type": "stream",
     "text": [
      "Epoch:  63%|██████▎   | 634/1000 [00:43<00:21, 16.91it/s]\n",
      "Epoch:  64%|██████▎   | 636/1000 [00:43<00:21, 16.82it/s] "
     ]
    },
    {
     "name": "stdout",
     "output_type": "stream",
     "text": [
      "Iteration: 7600 -- ELBO=-7.14e+03 / RLL=-7.13e+03 / KL=1.77e+01\n"
     ]
    },
    {
     "name": "stderr",
     "output_type": "stream",
     "text": [
      "Epoch:  64%|██████▍   | 642/1000 [00:43<00:21, 16.83it/s]\n",
      "Epoch:  64%|██████▍   | 644/1000 [00:43<00:21, 16.50it/s] "
     ]
    },
    {
     "name": "stdout",
     "output_type": "stream",
     "text": [
      "Iteration: 7700 -- ELBO=-7.27e+03 / RLL=-7.25e+03 / KL=1.81e+01\n"
     ]
    },
    {
     "name": "stderr",
     "output_type": "stream",
     "text": [
      "Epoch:  65%|██████▌   | 650/1000 [00:44<00:21, 16.55it/s]\n",
      "Epoch:  65%|██████▌   | 654/1000 [00:44<00:20, 16.93it/s] "
     ]
    },
    {
     "name": "stdout",
     "output_type": "stream",
     "text": [
      "Iteration: 7800 -- ELBO=-7.25e+03 / RLL=-7.23e+03 / KL=1.78e+01\n"
     ]
    },
    {
     "name": "stderr",
     "output_type": "stream",
     "text": [
      "Epoch:  66%|██████▌   | 658/1000 [00:44<00:20, 16.94it/s]\n",
      "Epoch:  66%|██████▌   | 662/1000 [00:45<00:20, 16.84it/s] "
     ]
    },
    {
     "name": "stdout",
     "output_type": "stream",
     "text": [
      "Iteration: 7900 -- ELBO=-7.17e+03 / RLL=-7.16e+03 / KL=1.79e+01\n"
     ]
    },
    {
     "name": "stderr",
     "output_type": "stream",
     "text": [
      "Epoch:  67%|██████▋   | 666/1000 [00:45<00:19, 16.82it/s]\n",
      "Epoch:  67%|██████▋   | 670/1000 [00:45<00:19, 17.02it/s] "
     ]
    },
    {
     "name": "stdout",
     "output_type": "stream",
     "text": [
      "Iteration: 8000 -- ELBO=-7.24e+03 / RLL=-7.22e+03 / KL=1.77e+01\n"
     ]
    },
    {
     "name": "stderr",
     "output_type": "stream",
     "text": [
      "Epoch:  67%|██████▋   | 674/1000 [00:45<00:19, 16.85it/s]\n",
      "Epoch:  68%|██████▊   | 678/1000 [00:46<00:18, 17.03it/s] "
     ]
    },
    {
     "name": "stdout",
     "output_type": "stream",
     "text": [
      "Iteration: 8100 -- ELBO=-7.25e+03 / RLL=-7.24e+03 / KL=1.77e+01\n"
     ]
    },
    {
     "name": "stderr",
     "output_type": "stream",
     "text": [
      "Epoch:  68%|██████▊   | 684/1000 [00:46<00:24, 13.02it/s]\n",
      "Epoch:  69%|██████▊   | 686/1000 [00:46<00:22, 13.97it/s] "
     ]
    },
    {
     "name": "stdout",
     "output_type": "stream",
     "text": [
      "Iteration: 8200 -- ELBO=-7.23e+03 / RLL=-7.21e+03 / KL=1.75e+01\n"
     ]
    },
    {
     "name": "stderr",
     "output_type": "stream",
     "text": [
      "Epoch:  69%|██████▉   | 692/1000 [00:47<00:19, 15.84it/s]\n",
      "Epoch:  69%|██████▉   | 694/1000 [00:47<00:19, 15.83it/s] "
     ]
    },
    {
     "name": "stdout",
     "output_type": "stream",
     "text": [
      "Iteration: 8300 -- ELBO=-7.27e+03 / RLL=-7.25e+03 / KL=1.67e+01\n"
     ]
    },
    {
     "name": "stderr",
     "output_type": "stream",
     "text": [
      "Epoch:  70%|███████   | 700/1000 [00:47<00:18, 16.02it/s]\n",
      "Epoch:  70%|███████   | 704/1000 [00:47<00:18, 16.02it/s] "
     ]
    },
    {
     "name": "stdout",
     "output_type": "stream",
     "text": [
      "Iteration: 8400 -- ELBO=-7.30e+03 / RLL=-7.28e+03 / KL=1.71e+01\n"
     ]
    },
    {
     "name": "stderr",
     "output_type": "stream",
     "text": [
      "Epoch:  71%|███████   | 708/1000 [00:47<00:18, 16.13it/s]\n",
      "Epoch:  71%|███████   | 712/1000 [00:48<00:17, 16.03it/s] "
     ]
    },
    {
     "name": "stdout",
     "output_type": "stream",
     "text": [
      "Iteration: 8500 -- ELBO=-7.23e+03 / RLL=-7.21e+03 / KL=1.75e+01\n"
     ]
    },
    {
     "name": "stderr",
     "output_type": "stream",
     "text": [
      "Epoch:  72%|███████▏  | 716/1000 [00:48<00:17, 15.91it/s]\n",
      "Epoch:  72%|███████▏  | 720/1000 [00:48<00:17, 15.94it/s] "
     ]
    },
    {
     "name": "stdout",
     "output_type": "stream",
     "text": [
      "Iteration: 8600 -- ELBO=-7.27e+03 / RLL=-7.26e+03 / KL=1.75e+01\n"
     ]
    },
    {
     "name": "stderr",
     "output_type": "stream",
     "text": [
      "Epoch:  72%|███████▏  | 724/1000 [00:49<00:17, 15.94it/s]\n",
      "Epoch:  73%|███████▎  | 728/1000 [00:49<00:17, 15.76it/s] "
     ]
    },
    {
     "name": "stdout",
     "output_type": "stream",
     "text": [
      "Iteration: 8700 -- ELBO=-7.16e+03 / RLL=-7.14e+03 / KL=1.76e+01\n"
     ]
    },
    {
     "name": "stderr",
     "output_type": "stream",
     "text": [
      "Epoch:  73%|███████▎  | 734/1000 [00:49<00:16, 15.93it/s]\n",
      "Epoch:  74%|███████▎  | 736/1000 [00:49<00:16, 15.69it/s] "
     ]
    },
    {
     "name": "stdout",
     "output_type": "stream",
     "text": [
      "Iteration: 8800 -- ELBO=-7.21e+03 / RLL=-7.20e+03 / KL=1.71e+01\n"
     ]
    },
    {
     "name": "stderr",
     "output_type": "stream",
     "text": [
      "Epoch:  74%|███████▍  | 742/1000 [00:50<00:15, 16.24it/s]\n",
      "Epoch:  75%|███████▍  | 746/1000 [00:50<00:15, 16.60it/s] "
     ]
    },
    {
     "name": "stdout",
     "output_type": "stream",
     "text": [
      "Iteration: 8900 -- ELBO=-7.21e+03 / RLL=-7.19e+03 / KL=1.71e+01\n"
     ]
    },
    {
     "name": "stderr",
     "output_type": "stream",
     "text": [
      "Epoch:  75%|███████▌  | 750/1000 [00:50<00:15, 16.59it/s]\n",
      "Epoch:  75%|███████▌  | 754/1000 [00:50<00:14, 16.90it/s] "
     ]
    },
    {
     "name": "stdout",
     "output_type": "stream",
     "text": [
      "Iteration: 9000 -- ELBO=-7.30e+03 / RLL=-7.29e+03 / KL=1.74e+01\n"
     ]
    },
    {
     "name": "stderr",
     "output_type": "stream",
     "text": [
      "Epoch:  76%|███████▌  | 758/1000 [00:51<00:14, 16.86it/s]\n",
      "Epoch:  76%|███████▌  | 762/1000 [00:51<00:14, 16.68it/s] "
     ]
    },
    {
     "name": "stdout",
     "output_type": "stream",
     "text": [
      "Iteration: 9100 -- ELBO=-7.21e+03 / RLL=-7.20e+03 / KL=1.71e+01\n"
     ]
    },
    {
     "name": "stderr",
     "output_type": "stream",
     "text": [
      "Epoch:  77%|███████▋  | 766/1000 [00:51<00:14, 16.02it/s]\n",
      "Epoch:  77%|███████▋  | 770/1000 [00:51<00:14, 16.01it/s] "
     ]
    },
    {
     "name": "stdout",
     "output_type": "stream",
     "text": [
      "Iteration: 9200 -- ELBO=-7.20e+03 / RLL=-7.18e+03 / KL=1.73e+01\n"
     ]
    },
    {
     "name": "stderr",
     "output_type": "stream",
     "text": [
      "Epoch:  77%|███████▋  | 774/1000 [00:52<00:14, 15.98it/s]\n",
      "Epoch:  78%|███████▊  | 778/1000 [00:52<00:13, 15.99it/s] "
     ]
    },
    {
     "name": "stdout",
     "output_type": "stream",
     "text": [
      "Iteration: 9300 -- ELBO=-7.20e+03 / RLL=-7.19e+03 / KL=1.68e+01\n"
     ]
    },
    {
     "name": "stderr",
     "output_type": "stream",
     "text": [
      "Epoch:  78%|███████▊  | 784/1000 [00:52<00:13, 15.99it/s]\n",
      "Epoch:  79%|███████▊  | 786/1000 [00:52<00:13, 15.59it/s] "
     ]
    },
    {
     "name": "stdout",
     "output_type": "stream",
     "text": [
      "Iteration: 9400 -- ELBO=-7.20e+03 / RLL=-7.18e+03 / KL=1.70e+01\n"
     ]
    },
    {
     "name": "stderr",
     "output_type": "stream",
     "text": [
      "Epoch:  79%|███████▉  | 792/1000 [00:53<00:13, 15.95it/s]\n",
      "Epoch:  79%|███████▉  | 794/1000 [00:53<00:13, 15.64it/s] "
     ]
    },
    {
     "name": "stdout",
     "output_type": "stream",
     "text": [
      "Iteration: 9500 -- ELBO=-7.22e+03 / RLL=-7.20e+03 / KL=1.74e+01\n"
     ]
    },
    {
     "name": "stderr",
     "output_type": "stream",
     "text": [
      "Epoch:  80%|████████  | 800/1000 [00:53<00:12, 15.96it/s]\n",
      "Epoch:  80%|████████  | 804/1000 [00:53<00:12, 16.26it/s] "
     ]
    },
    {
     "name": "stdout",
     "output_type": "stream",
     "text": [
      "Iteration: 9600 -- ELBO=-7.15e+03 / RLL=-7.14e+03 / KL=1.68e+01\n"
     ]
    },
    {
     "name": "stderr",
     "output_type": "stream",
     "text": [
      "Epoch:  81%|████████  | 808/1000 [00:54<00:12, 15.91it/s]\n",
      "Epoch:  81%|████████  | 812/1000 [00:54<00:11, 15.92it/s] "
     ]
    },
    {
     "name": "stdout",
     "output_type": "stream",
     "text": [
      "Iteration: 9700 -- ELBO=-7.23e+03 / RLL=-7.21e+03 / KL=1.71e+01\n"
     ]
    },
    {
     "name": "stderr",
     "output_type": "stream",
     "text": [
      "Epoch:  82%|████████▏ | 816/1000 [00:54<00:11, 15.77it/s]\n",
      "Epoch:  82%|████████▏ | 820/1000 [00:55<00:11, 15.93it/s] "
     ]
    },
    {
     "name": "stdout",
     "output_type": "stream",
     "text": [
      "Iteration: 9800 -- ELBO=-7.23e+03 / RLL=-7.21e+03 / KL=1.69e+01\n"
     ]
    },
    {
     "name": "stderr",
     "output_type": "stream",
     "text": [
      "Epoch:  82%|████████▏ | 824/1000 [00:55<00:11, 15.80it/s]\n",
      "Epoch:  83%|████████▎ | 828/1000 [00:55<00:10, 15.70it/s] "
     ]
    },
    {
     "name": "stdout",
     "output_type": "stream",
     "text": [
      "Iteration: 9900 -- ELBO=-7.21e+03 / RLL=-7.19e+03 / KL=1.72e+01\n"
     ]
    },
    {
     "name": "stderr",
     "output_type": "stream",
     "text": [
      "Epoch:  83%|████████▎ | 834/1000 [00:55<00:10, 15.73it/s]\n",
      "Epoch:  84%|████████▎ | 836/1000 [00:56<00:10, 15.55it/s] "
     ]
    },
    {
     "name": "stdout",
     "output_type": "stream",
     "text": [
      "Iteration: 10000 -- ELBO=-7.20e+03 / RLL=-7.18e+03 / KL=1.75e+01\n"
     ]
    },
    {
     "name": "stderr",
     "output_type": "stream",
     "text": [
      "Epoch:  84%|████████▍ | 842/1000 [00:56<00:09, 15.86it/s]\n",
      "Epoch:  84%|████████▍ | 844/1000 [00:56<00:09, 15.69it/s] "
     ]
    },
    {
     "name": "stdout",
     "output_type": "stream",
     "text": [
      "Iteration: 10100 -- ELBO=-7.25e+03 / RLL=-7.23e+03 / KL=1.72e+01\n"
     ]
    },
    {
     "name": "stderr",
     "output_type": "stream",
     "text": [
      "Epoch:  85%|████████▌ | 850/1000 [00:56<00:09, 15.88it/s]\n",
      "Epoch:  85%|████████▌ | 854/1000 [00:57<00:09, 16.00it/s] "
     ]
    },
    {
     "name": "stdout",
     "output_type": "stream",
     "text": [
      "Iteration: 10200 -- ELBO=-7.18e+03 / RLL=-7.16e+03 / KL=1.74e+01\n"
     ]
    },
    {
     "name": "stderr",
     "output_type": "stream",
     "text": [
      "Epoch:  86%|████████▌ | 858/1000 [00:57<00:08, 15.83it/s]\n",
      "Epoch:  86%|████████▌ | 862/1000 [00:57<00:08, 15.91it/s] "
     ]
    },
    {
     "name": "stdout",
     "output_type": "stream",
     "text": [
      "Iteration: 10300 -- ELBO=-7.19e+03 / RLL=-7.17e+03 / KL=1.72e+01\n"
     ]
    },
    {
     "name": "stderr",
     "output_type": "stream",
     "text": [
      "Epoch:  87%|████████▋ | 866/1000 [00:57<00:08, 16.12it/s]\n",
      "Epoch:  87%|████████▋ | 870/1000 [00:58<00:08, 16.00it/s] "
     ]
    },
    {
     "name": "stdout",
     "output_type": "stream",
     "text": [
      "Iteration: 10400 -- ELBO=-7.25e+03 / RLL=-7.23e+03 / KL=1.71e+01\n"
     ]
    },
    {
     "name": "stderr",
     "output_type": "stream",
     "text": [
      "Epoch:  87%|████████▋ | 874/1000 [00:58<00:07, 15.98it/s]\n",
      "Epoch:  88%|████████▊ | 878/1000 [00:58<00:07, 16.07it/s] "
     ]
    },
    {
     "name": "stdout",
     "output_type": "stream",
     "text": [
      "Iteration: 10500 -- ELBO=-7.22e+03 / RLL=-7.20e+03 / KL=1.80e+01\n"
     ]
    },
    {
     "name": "stderr",
     "output_type": "stream",
     "text": [
      "Epoch:  88%|████████▊ | 884/1000 [00:59<00:07, 16.04it/s]\n",
      "Epoch:  89%|████████▊ | 886/1000 [00:59<00:07, 15.60it/s] "
     ]
    },
    {
     "name": "stdout",
     "output_type": "stream",
     "text": [
      "Iteration: 10600 -- ELBO=-7.26e+03 / RLL=-7.24e+03 / KL=1.73e+01\n"
     ]
    },
    {
     "name": "stderr",
     "output_type": "stream",
     "text": [
      "Epoch:  89%|████████▉ | 892/1000 [00:59<00:06, 15.85it/s]\n",
      "Epoch:  90%|████████▉ | 896/1000 [00:59<00:06, 16.17it/s] \n"
     ]
    },
    {
     "name": "stdout",
     "output_type": "stream",
     "text": [
      "Iteration: 10700 -- ELBO=-7.17e+03 / RLL=-7.15e+03 / KL=1.70e+01\n"
     ]
    },
    {
     "name": "stderr",
     "output_type": "stream",
     "text": [
      "Epoch:  90%|█████████ | 900/1000 [01:00<00:06, 16.27it/s]]\u001b[A\n",
      "Epoch:  90%|█████████ | 904/1000 [01:00<00:05, 16.10it/s] "
     ]
    },
    {
     "name": "stdout",
     "output_type": "stream",
     "text": [
      "Iteration: 10800 -- ELBO=-7.33e+03 / RLL=-7.32e+03 / KL=1.68e+01\n"
     ]
    },
    {
     "name": "stderr",
     "output_type": "stream",
     "text": [
      "Epoch:  91%|█████████ | 908/1000 [01:00<00:05, 15.77it/s]\n",
      "Epoch:  91%|█████████ | 912/1000 [01:00<00:05, 15.85it/s] "
     ]
    },
    {
     "name": "stdout",
     "output_type": "stream",
     "text": [
      "Iteration: 10900 -- ELBO=-7.26e+03 / RLL=-7.24e+03 / KL=1.70e+01\n"
     ]
    },
    {
     "name": "stderr",
     "output_type": "stream",
     "text": [
      "Epoch:  92%|█████████▏| 916/1000 [01:01<00:05, 15.94it/s]\n",
      "Epoch:  92%|█████████▏| 920/1000 [01:01<00:04, 16.00it/s] "
     ]
    },
    {
     "name": "stdout",
     "output_type": "stream",
     "text": [
      "Iteration: 11000 -- ELBO=-7.22e+03 / RLL=-7.20e+03 / KL=1.71e+01\n"
     ]
    },
    {
     "name": "stderr",
     "output_type": "stream",
     "text": [
      "Epoch:  92%|█████████▏| 924/1000 [01:01<00:04, 15.84it/s]\n",
      "Epoch:  93%|█████████▎| 928/1000 [01:01<00:04, 16.01it/s] "
     ]
    },
    {
     "name": "stdout",
     "output_type": "stream",
     "text": [
      "Iteration: 11100 -- ELBO=-7.16e+03 / RLL=-7.14e+03 / KL=1.68e+01\n"
     ]
    },
    {
     "name": "stderr",
     "output_type": "stream",
     "text": [
      "Epoch:  93%|█████████▎| 934/1000 [01:02<00:03, 16.56it/s]\n",
      "Epoch:  94%|█████████▎| 936/1000 [01:02<00:03, 16.26it/s] "
     ]
    },
    {
     "name": "stdout",
     "output_type": "stream",
     "text": [
      "Iteration: 11200 -- ELBO=-7.23e+03 / RLL=-7.22e+03 / KL=1.68e+01\n"
     ]
    },
    {
     "name": "stderr",
     "output_type": "stream",
     "text": [
      "Epoch:  94%|█████████▍| 942/1000 [01:02<00:03, 16.42it/s]\n",
      "Epoch:  95%|█████████▍| 946/1000 [01:02<00:03, 16.98it/s] "
     ]
    },
    {
     "name": "stdout",
     "output_type": "stream",
     "text": [
      "Iteration: 11300 -- ELBO=-7.25e+03 / RLL=-7.23e+03 / KL=1.65e+01\n"
     ]
    },
    {
     "name": "stderr",
     "output_type": "stream",
     "text": [
      "Epoch:  95%|█████████▌| 950/1000 [01:03<00:02, 16.71it/s]\n",
      "Epoch:  95%|█████████▌| 954/1000 [01:03<00:02, 16.74it/s] "
     ]
    },
    {
     "name": "stdout",
     "output_type": "stream",
     "text": [
      "Iteration: 11400 -- ELBO=-7.30e+03 / RLL=-7.28e+03 / KL=1.61e+01\n"
     ]
    },
    {
     "name": "stderr",
     "output_type": "stream",
     "text": [
      "Epoch:  96%|█████████▌| 958/1000 [01:03<00:02, 16.68it/s]\n",
      "Epoch:  96%|█████████▌| 962/1000 [01:03<00:02, 16.13it/s] "
     ]
    },
    {
     "name": "stdout",
     "output_type": "stream",
     "text": [
      "Iteration: 11500 -- ELBO=-7.20e+03 / RLL=-7.18e+03 / KL=1.69e+01\n"
     ]
    },
    {
     "name": "stderr",
     "output_type": "stream",
     "text": [
      "Epoch:  97%|█████████▋| 966/1000 [01:04<00:02, 15.95it/s]\n",
      "Epoch:  97%|█████████▋| 970/1000 [01:04<00:01, 15.93it/s] "
     ]
    },
    {
     "name": "stdout",
     "output_type": "stream",
     "text": [
      "Iteration: 11600 -- ELBO=-7.23e+03 / RLL=-7.22e+03 / KL=1.70e+01\n"
     ]
    },
    {
     "name": "stderr",
     "output_type": "stream",
     "text": [
      "Epoch:  97%|█████████▋| 974/1000 [01:04<00:01, 15.89it/s]\n",
      "Epoch:  98%|█████████▊| 978/1000 [01:04<00:01, 15.73it/s] "
     ]
    },
    {
     "name": "stdout",
     "output_type": "stream",
     "text": [
      "Iteration: 11700 -- ELBO=-7.27e+03 / RLL=-7.25e+03 / KL=1.68e+01\n"
     ]
    },
    {
     "name": "stderr",
     "output_type": "stream",
     "text": [
      "Epoch:  98%|█████████▊| 984/1000 [01:05<00:01, 15.87it/s]\n",
      "Epoch:  99%|█████████▊| 986/1000 [01:05<00:00, 15.65it/s] "
     ]
    },
    {
     "name": "stdout",
     "output_type": "stream",
     "text": [
      "Iteration: 11800 -- ELBO=-7.28e+03 / RLL=-7.27e+03 / KL=1.65e+01\n"
     ]
    },
    {
     "name": "stderr",
     "output_type": "stream",
     "text": [
      "Epoch:  99%|█████████▉| 992/1000 [01:05<00:00, 16.38it/s]\n",
      "Epoch: 100%|█████████▉| 996/1000 [01:06<00:00, 16.82it/s] "
     ]
    },
    {
     "name": "stdout",
     "output_type": "stream",
     "text": [
      "Iteration: 11900 -- ELBO=-7.25e+03 / RLL=-7.23e+03 / KL=1.65e+01\n"
     ]
    },
    {
     "name": "stderr",
     "output_type": "stream",
     "text": [
      "Epoch: 100%|██████████| 1000/1000 [01:06<00:00, 16.71it/s]\n",
      "Epoch: 100%|██████████| 1000/1000 [01:06<00:00, 15.08it/s]\n",
      "Iteration in Epoch: 100%|██████████| 12/12 [00:00<00:00, 194.70it/s]"
     ]
    },
    {
     "name": "stdout",
     "output_type": "stream",
     "text": [
      "Iteration: 12000 -- ELBO=-7.26e+03 / RLL=-7.24e+03 / KL=1.72e+01\n"
     ]
    },
    {
     "name": "stderr",
     "output_type": "stream",
     "text": [
      "\n"
     ]
    }
   ],
   "source": [
    "# Train the model using default partitioning choice \n",
    "model.train(lr=lr,\n",
    "            dataloader = torch.utils.data.DataLoader(dataset, batch_size=batch_size, shuffle=True),\n",
    "            num_epochs = num_epochs,\n",
    "            beta = beta,\n",
    "            prior_params = prior_params,\n",
    "            mc_samples = 1,\n",
    "            learn_prior = learn_prior,\n",
    "            tensorboard = False,\n",
    "            )"
   ]
  },
  {
   "cell_type": "code",
   "execution_count": 38,
   "metadata": {},
   "outputs": [
    {
     "data": {
      "text/plain": [
       "tensor([1., 1., 1., 1., 1., 1., 1., 1., 1., 1.])"
      ]
     },
     "execution_count": 38,
     "metadata": {},
     "output_type": "execute_result"
    }
   ],
   "source": [
    "model.prior_params[\"alpha\"]"
   ]
  },
  {
   "cell_type": "code",
   "execution_count": 39,
   "metadata": {},
   "outputs": [],
   "source": [
    "_, theta_dict = model(X_document.to(torch.float32), mc_samples=1000)\n",
    "gamma_document_sample_mean = theta_dict['samples'].mean(dim=0).T.detach().numpy()"
   ]
  },
  {
   "cell_type": "code",
   "execution_count": 40,
   "metadata": {},
   "outputs": [
    {
     "data": {
      "text/plain": [
       "array([0.03780634, 0.04182525, 0.03784651, 0.03818784, 0.08957909,\n",
       "       0.23508343, 0.2303193 , 0.07271291, 0.17811307, 0.03852626],\n",
       "      dtype=float32)"
      ]
     },
     "execution_count": 40,
     "metadata": {},
     "output_type": "execute_result"
    }
   ],
   "source": [
    "gamma_document_sample_mean[:,0]"
   ]
  },
  {
   "cell_type": "code",
   "execution_count": 41,
   "metadata": {},
   "outputs": [
    {
     "data": {
      "image/png": "[encoded data removed]",
      "text/plain": [
       "<Figure size 1500x500 with 2 Axes>"
      ]
     },
     "metadata": {},
     "output_type": "display_data"
    }
   ],
   "source": [
    "fig, ax = plt.subplots(figsize=(15,5))\n",
    "im = ax.imshow(gamma_document_sample_mean, aspect='auto', cmap='Purples', interpolation='none')\n",
    "ax.set_title('Topic distribution per document (Gamma of documents)')\n",
    "ax.set_ylabel('Topic')\n",
    "ax.set_xlabel('Document')\n",
    "ax.set_yticks(np.arange(num_topics))\n",
    "ax.set_xticks(np.arange(num_docs))\n",
    "ax.tick_params(axis=u'both', which=u'both',length=0)\n",
    "ax.xaxis.tick_top()\n",
    "ax.xaxis.set_label_position('top')\n",
    "fig.colorbar(im, ax=ax, label='Mean')\n",
    "plt.show()"
   ]
  },
  {
   "cell_type": "code",
   "execution_count": 42,
   "metadata": {},
   "outputs": [],
   "source": [
    "gamma_document = theta_dict['params']['alpha'].detach().numpy().T"
   ]
  },
  {
   "cell_type": "code",
   "execution_count": 43,
   "metadata": {},
   "outputs": [
    {
     "data": {
      "image/png": "[encoded data removed]",
      "text/plain": [
       "<Figure size 1500x500 with 2 Axes>"
      ]
     },
     "metadata": {},
     "output_type": "display_data"
    }
   ],
   "source": [
    "fig, ax = plt.subplots(figsize=(15,5))\n",
    "im = ax.imshow(gamma_document, aspect='auto', cmap='Purples', interpolation='none')\n",
    "ax.set_title('Topic distribution per document (Gamma of documents)')\n",
    "ax.set_ylabel('Topic')\n",
    "ax.set_xlabel('Document')\n",
    "ax.set_yticks(np.arange(num_topics))\n",
    "ax.set_xticks(np.arange(num_docs))\n",
    "ax.tick_params(axis=u'both', which=u'both',length=0)\n",
    "ax.xaxis.tick_top()\n",
    "ax.xaxis.set_label_position('top')\n",
    "fig.colorbar(im, ax=ax, label='Gamma')\n",
    "plt.show()"
   ]
  },
  {
   "cell_type": "code",
   "execution_count": 44,
   "metadata": {},
   "outputs": [
    {
     "data": {
      "text/plain": [
       "<matplotlib.collections.PathCollection at 0x7f01a68d8580>"
      ]
     },
     "execution_count": 44,
     "metadata": {},
     "output_type": "execute_result"
    },
    {
     "data": {
      "image/png": "[encoded data removed]",
      "text/plain": [
       "<Figure size 2000x500 with 1 Axes>"
      ]
     },
     "metadata": {},
     "output_type": "display_data"
    }
   ],
   "source": [
    "fig, ax = plt.subplots(figsize=(20,5))\n",
    "plt.scatter(np.arange(num_days), gamma_document.sum(axis=0))"
   ]
  },
  {
   "cell_type": "code",
   "execution_count": 45,
   "metadata": {},
   "outputs": [],
   "source": [
    "## entropy of dirichlet distribution\n",
    "entropy = torch.distributions.dirichlet.Dirichlet(theta_dict['params']['alpha'].detach()).entropy()"
   ]
  },
  {
   "cell_type": "code",
   "execution_count": 46,
   "metadata": {},
   "outputs": [
    {
     "data": {
      "text/plain": [
       "<matplotlib.collections.PathCollection at 0x7f01b4337760>"
      ]
     },
     "execution_count": 46,
     "metadata": {},
     "output_type": "execute_result"
    },
    {
     "data": {
      "image/png": "[encoded data removed]",
      "text/plain": [
       "<Figure size 2000x500 with 1 Axes>"
      ]
     },
     "metadata": {},
     "output_type": "display_data"
    }
   ],
   "source": [
    "fig, ax = plt.subplots(figsize=(20,5))\n",
    "plt.scatter(np.arange(num_days), entropy)"
   ]
  },
  {
   "cell_type": "code",
   "execution_count": 47,
   "metadata": {},
   "outputs": [
    {
     "data": {
      "text/plain": [
       "<matplotlib.collections.PathCollection at 0x7f01b43c6f70>"
      ]
     },
     "execution_count": 47,
     "metadata": {},
     "output_type": "execute_result"
    },
    {
     "data": {
      "image/png": "[encoded data removed]",
      "text/plain": [
       "<Figure size 640x480 with 1 Axes>"
      ]
     },
     "metadata": {},
     "output_type": "display_data"
    }
   ],
   "source": [
    "plt.scatter(gamma_document.sum(axis=0), entropy)"
   ]
  }
 ],
 "metadata": {
  "kernelspec": {
   "display_name": "torchenv",
   "language": "python",
   "name": "python3"
  },
  "language_info": {
   "codemirror_mode": {
    "name": "ipython",
    "version": 3
   },
   "file_extension": ".py",
   "mimetype": "text/x-python",
   "name": "python",
   "nbconvert_exporter": "python",
   "pygments_lexer": "ipython3",
   "version": "3.9.15"
  }
 },
 "nbformat": 4,
 "nbformat_minor": 2
}
