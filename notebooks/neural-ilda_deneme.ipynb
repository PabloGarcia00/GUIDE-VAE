{
 "cells": [
  {
   "cell_type": "markdown",
   "metadata": {},
   "source": [
    "# User Latent Dirichlet Allocation"
   ]
  },
  {
   "cell_type": "code",
   "execution_count": 24,
   "metadata": {},
   "outputs": [],
   "source": [
    "import os, sys\n",
    "import numpy as np\n",
    "import pandas as pd\n",
    "import matplotlib.pyplot as plt\n",
    "import seaborn as sns\n",
    "import torch\n",
    "sys.path.append(os.path.abspath('../../vae_playground'))\n",
    "sys.path.append(os.path.abspath('..'))"
   ]
  },
  {
   "cell_type": "code",
   "execution_count": 25,
   "metadata": {},
   "outputs": [
    {
     "name": "stdout",
     "output_type": "stream",
     "text": [
      "The autoreload extension is already loaded. To reload it, use:\n",
      "  %reload_ext autoreload\n"
     ]
    }
   ],
   "source": [
    "%load_ext autoreload\n",
    "%autoreload 2\n",
    "\n",
    "from lib.models import InductiveLDA as InductiveLDA\n",
    "\n",
    "from sklearn.cluster import KMeans\n",
    "\n",
    "import vae_playground.datasets as datasets"
   ]
  },
  {
   "cell_type": "markdown",
   "metadata": {},
   "source": [
    "Import Data"
   ]
  },
  {
   "cell_type": "code",
   "execution_count": 26,
   "metadata": {},
   "outputs": [],
   "source": [
    "DATASET_NAME = 'goi4_dp_small'\n",
    "RANDOM_SEED = 2112\n",
    "np.random.seed(RANDOM_SEED)"
   ]
  },
  {
   "cell_type": "code",
   "execution_count": 27,
   "metadata": {},
   "outputs": [
    {
     "name": "stdout",
     "output_type": "stream",
     "text": [
      "Loaded 631815 consumption profiles from 365 dates and 1731 users\n"
     ]
    }
   ],
   "source": [
    "df = pd.read_csv(f'../data/{DATASET_NAME}/dataset.csv')\n",
    "data, dates, users = df.iloc[:,:-2].values, df.date.values, df.user.values\n",
    "date_ids, user_ids = df.date.unique(), df.user.unique()\n",
    "num_days, num_users = len(date_ids), len(user_ids)\n",
    "print(f'Loaded {len(data)} consumption profiles from {num_days} dates and {num_users} users')"
   ]
  },
  {
   "cell_type": "code",
   "execution_count": 28,
   "metadata": {},
   "outputs": [],
   "source": [
    "RESOLUTION = 1 #in hours\n",
    "\n",
    "if RESOLUTION == 12:\n",
    "    X = torch.tensor(data, dtype=torch.float32).reshape(-1, 24)\n",
    "    #circle shift the last dimension of X\n",
    "    X = torch.cat([X[:,6:], X[:,:6]], dim=-1).reshape(num_users, num_days, int(24/RESOLUTION), int(RESOLUTION)).sum(dim=-1)\n",
    "else:\n",
    "    X = torch.tensor(data, dtype=torch.float32).reshape(num_users, num_days, int(24/RESOLUTION), int(RESOLUTION)).sum(dim=-1)\n",
    "dates, users = np.reshape(dates, (num_users, num_days)), np.reshape(users, (num_users, num_days))"
   ]
  },
  {
   "cell_type": "code",
   "execution_count": 29,
   "metadata": {},
   "outputs": [
    {
     "name": "stdout",
     "output_type": "stream",
     "text": [
      "Removing 4 users with all-zero consumption profiles\n",
      "Removing 18 users with any-negative consumption profiles\n"
     ]
    }
   ],
   "source": [
    "# Remove users with all-zero consumption profiles\n",
    "nonzero_user_mask = torch.sum(torch.all(X == 0, dim=2), dim=1) < num_days\n",
    "print(f'Removing {(~nonzero_user_mask).sum()} users with all-zero consumption profiles')\n",
    "positive_user_mask = torch.sum(torch.any(X < 0, dim=2), dim=1) == 0\n",
    "print(f'Removing {(~positive_user_mask).sum()} users with any-negative consumption profiles')\n",
    "user_mask = nonzero_user_mask & positive_user_mask"
   ]
  },
  {
   "cell_type": "code",
   "execution_count": 30,
   "metadata": {},
   "outputs": [],
   "source": [
    "X = X[user_mask]\n",
    "dates, users = dates[user_mask], users[user_mask]\n",
    "user_ids = user_ids[user_mask]"
   ]
  },
  {
   "cell_type": "code",
   "execution_count": 31,
   "metadata": {},
   "outputs": [
    {
     "name": "stdout",
     "output_type": "stream",
     "text": [
      "Number of (subsampled/filtered) users: 1709\n",
      "Number of (subsampled) days: 365\n",
      "Number of (aggregated) features: 24\n"
     ]
    }
   ],
   "source": [
    "USER_SUBSAMPLE_RATE = 1\n",
    "DAY_SUBSAMPLE_RATE = 1\n",
    "X = X[::USER_SUBSAMPLE_RATE, ::DAY_SUBSAMPLE_RATE, :]\n",
    "num_users, num_days, num_features = X.shape\n",
    "X = X.flatten(end_dim=1)\n",
    "print(f\"Number of (subsampled/filtered) users: {num_users}\")\n",
    "print(f\"Number of (subsampled) days: {num_days}\")\n",
    "print(f\"Number of (aggregated) features: {num_features}\")"
   ]
  },
  {
   "cell_type": "code",
   "execution_count": 32,
   "metadata": {},
   "outputs": [],
   "source": [
    "nonzero_mean, nonzero_std = datasets.zero_preserved_log_stats(X)\n",
    "X_norm = datasets.zero_preserved_log_normalize(X, nonzero_mean, nonzero_std).reshape(num_users, num_days, num_features)\n",
    "dataset = datasets.UserDayDataset(X_norm)\n",
    "X_flt = dataset.flatten_inputs\n",
    "user_idx, day_idx = dataset.user_day_list[:,0], dataset.user_day_list[:,1]"
   ]
  },
  {
   "cell_type": "code",
   "execution_count": 33,
   "metadata": {},
   "outputs": [],
   "source": [
    "df_plt = pd.DataFrame(torch.cat((X_flt, user_idx.unsqueeze(1), day_idx.unsqueeze(1)), dim=-1))\n",
    "df_plt.columns = [f'feature_{i}' for i in range(num_features)] + ['user'] + ['day']"
   ]
  },
  {
   "cell_type": "code",
   "execution_count": 34,
   "metadata": {},
   "outputs": [],
   "source": [
    "if num_users <= 100 and num_features == 2:\n",
    "    sns.scatterplot(df_plt, x=\"feature_0\", y=\"feature_1\", hue='user', palette=\"Set1\", alpha=.5)\n",
    "    # move the legend outside\n",
    "    plt.legend(bbox_to_anchor=(1.05, 1), loc=2, borderaxespad=0., title='user', ncol=5)\n",
    "    plt.xlabel('Diurnal consumption')\n",
    "    plt.ylabel('Nocturnal consumption')\n",
    "    plt.show()"
   ]
  },
  {
   "cell_type": "code",
   "execution_count": 35,
   "metadata": {},
   "outputs": [],
   "source": [
    "n_bins = 100\n",
    "kmeans = KMeans(n_clusters=n_bins, random_state=RANDOM_SEED, n_init='auto').fit(X_flt)"
   ]
  },
  {
   "cell_type": "code",
   "execution_count": 36,
   "metadata": {},
   "outputs": [],
   "source": [
    "labels = kmeans.labels_\n",
    "labels_onehot = np.zeros((len(labels), len(set(labels))))\n",
    "labels_onehot[np.arange(len(labels)), labels] = 1\n",
    "X_words = torch.tensor(labels_onehot).reshape(num_users, num_days, -1)"
   ]
  },
  {
   "cell_type": "code",
   "execution_count": 37,
   "metadata": {},
   "outputs": [],
   "source": [
    "DOC_TYPE = \"day\"       # \"day\" or \"user\"\n",
    "\n",
    "if DOC_TYPE == \"day\":\n",
    "    X_document, num_words = X_words.sum(dim=0), num_users\n",
    "elif DOC_TYPE == \"user\":\n",
    "    X_document, num_words = X_words.sum(dim=1), num_days\n",
    "else:\n",
    "    raise ValueError(f\"Invalid DOC_TYPE: {DOC_TYPE}\")\n",
    "\n",
    "num_docs, dict_size = X_document.shape[0], n_bins"
   ]
  },
  {
   "cell_type": "code",
   "execution_count": 38,
   "metadata": {},
   "outputs": [],
   "source": [
    "if dict_size <= 50 and num_features == 2:\n",
    "    df_plt = pd.DataFrame(torch.cat((X_flt,torch.tensor(labels).unsqueeze(1)), dim=-1))\n",
    "    df_plt.columns = [f'feature_{i}' for i in range(num_features)] + ['word']\n",
    "    sns.scatterplot(df_plt, x=\"feature_0\", y=\"feature_1\", hue='word', palette=\"Set2\", alpha=.5)\n",
    "    plt.scatter(kmeans.cluster_centers_[:,0], kmeans.cluster_centers_[:,1], marker='x', s=100, c='black')\n",
    "    plt.legend(bbox_to_anchor=(1.05, 1), loc=2, borderaxespad=0., title='word_id', ncol=5)\n",
    "    plt.xlabel('Diurnal consumption')\n",
    "    plt.ylabel('Nocturnal consumption')\n",
    "    plt.show()"
   ]
  },
  {
   "cell_type": "code",
   "execution_count": 39,
   "metadata": {},
   "outputs": [],
   "source": [
    "X_labels = torch.tensor(labels).reshape(num_users, num_days)\n",
    "if DOC_TYPE == \"day\": X_labels = X_labels.T"
   ]
  },
  {
   "cell_type": "code",
   "execution_count": 40,
   "metadata": {},
   "outputs": [],
   "source": [
    "class Dataset(torch.utils.data.Dataset):\n",
    "    def __init__(self, X): self.X = X\n",
    "    def __len__(self): return len(self.X)\n",
    "    def __getitem__(self, index): return self.X[index]"
   ]
  },
  {
   "cell_type": "code",
   "execution_count": 41,
   "metadata": {},
   "outputs": [],
   "source": [
    "dataset = Dataset(X_document.to(torch.float32))"
   ]
  },
  {
   "cell_type": "code",
   "execution_count": 42,
   "metadata": {},
   "outputs": [],
   "source": [
    "# Set training parameters.\n",
    "num_topics = 10\n",
    "prodlda = False\n",
    "conv = False\n",
    "num_layers = 2\n",
    "num_neurons = 200"
   ]
  },
  {
   "cell_type": "code",
   "execution_count": 43,
   "metadata": {},
   "outputs": [],
   "source": [
    "model = InductiveLDA(input_dim=n_bins,\n",
    "                    num_topics=num_topics, \n",
    "                    conv=conv,\n",
    "                    prodlda=prodlda,\n",
    "                    num_hidden_layers=num_layers,\n",
    "                    num_neurons=num_neurons,\n",
    "                    )"
   ]
  },
  {
   "cell_type": "code",
   "execution_count": 44,
   "metadata": {},
   "outputs": [],
   "source": [
    "lr = 1e-3\n",
    "batch_size = 32\n",
    "num_epochs = 1000\n",
    "beta = 1\n",
    "learn_prior = False\n",
    "prior_params = {'alpha': 1.0}"
   ]
  },
  {
   "cell_type": "code",
   "execution_count": 45,
   "metadata": {},
   "outputs": [
    {
     "name": "stderr",
     "output_type": "stream",
     "text": [
      "Epoch:   1%|          | 8/1000 [00:00<01:04, 15.38it/s]\n",
      "\n",
      "\u001b[A\u001b[A                                                  \n",
      "\n",
      "\n",
      "                                                                  \n",
      "\u001b[A                                                       \n",
      "\u001b[A\n",
      "\n",
      "Epoch:   1%|          | 12/1000 [00:00<01:08, 14.45it/s]"
     ]
    },
    {
     "name": "stdout",
     "output_type": "stream",
     "text": [
      "Iteration: 100 -- ELBO=-7.85e+03 / RLL=-7.83e+03 / KL=1.62e+01\n"
     ]
    },
    {
     "name": "stderr",
     "output_type": "stream",
     "text": [
      "Epoch:   2%|▏         | 16/1000 [00:01<01:10, 14.06it/s]\n",
      "\n",
      "\u001b[A\u001b[A                                                  \n",
      "\n",
      "\n",
      "                                                                  \n",
      "\u001b[A                                                               \n",
      "\u001b[A\n",
      "\n",
      "Epoch:   2%|▏         | 20/1000 [00:01<01:31, 10.73it/s]"
     ]
    },
    {
     "name": "stdout",
     "output_type": "stream",
     "text": [
      "Iteration: 200 -- ELBO=-7.76e+03 / RLL=-7.75e+03 / KL=1.77e+01\n"
     ]
    },
    {
     "name": "stderr",
     "output_type": "stream",
     "text": [
      "Epoch:   2%|▏         | 24/1000 [00:01<01:21, 11.91it/s]\n",
      "\n",
      "\u001b[A\u001b[A                                                  \n",
      "\n",
      "\n",
      "                                                                  \n",
      "\u001b[A                                                       \n",
      "\u001b[A\n",
      "\n",
      "Epoch:   3%|▎         | 28/1000 [00:02<01:16, 12.78it/s]"
     ]
    },
    {
     "name": "stdout",
     "output_type": "stream",
     "text": [
      "Iteration: 300 -- ELBO=-7.72e+03 / RLL=-7.71e+03 / KL=1.86e+01\n"
     ]
    },
    {
     "name": "stderr",
     "output_type": "stream",
     "text": [
      "Epoch:   3%|▎         | 34/1000 [00:02<01:11, 13.58it/s]\n",
      "\n",
      "\u001b[A\u001b[A                                                  \n",
      "\n",
      "\n",
      "                                                                  \n",
      "\u001b[A                                                       \n",
      "\u001b[A\n",
      "\n",
      "Epoch:   4%|▎         | 36/1000 [00:02<01:13, 13.14it/s]"
     ]
    },
    {
     "name": "stdout",
     "output_type": "stream",
     "text": [
      "Iteration: 400 -- ELBO=-7.63e+03 / RLL=-7.61e+03 / KL=1.88e+01\n"
     ]
    },
    {
     "name": "stderr",
     "output_type": "stream",
     "text": [
      "Epoch:   4%|▍         | 42/1000 [00:03<01:09, 13.71it/s]\n",
      "\n",
      "\u001b[A\u001b[A                                                  \n",
      "\n",
      "\n",
      "                                                                  \n",
      "\u001b[A                                                       \n",
      "\u001b[A\n",
      "\n",
      "Epoch:   4%|▍         | 44/1000 [00:03<01:12, 13.27it/s]"
     ]
    },
    {
     "name": "stdout",
     "output_type": "stream",
     "text": [
      "Iteration: 500 -- ELBO=-7.59e+03 / RLL=-7.57e+03 / KL=1.90e+01\n"
     ]
    },
    {
     "name": "stderr",
     "output_type": "stream",
     "text": [
      "Epoch:   5%|▌         | 50/1000 [00:03<01:09, 13.66it/s]\n",
      "\n",
      "\u001b[A\u001b[A                                                  \n",
      "\n",
      "\n",
      "                                                                  \n",
      "\u001b[A                                                       \n",
      "\u001b[A\n",
      "\n",
      "Epoch:   5%|▌         | 52/1000 [00:03<01:10, 13.49it/s]"
     ]
    },
    {
     "name": "stdout",
     "output_type": "stream",
     "text": [
      "Iteration: 600 -- ELBO=-7.55e+03 / RLL=-7.53e+03 / KL=1.84e+01\n"
     ]
    },
    {
     "name": "stderr",
     "output_type": "stream",
     "text": [
      "Epoch:   6%|▌         | 58/1000 [00:04<01:08, 13.67it/s]\n",
      "\n",
      "\u001b[A\u001b[A                                                  \n",
      "\n",
      "\n",
      "                                                                  \n",
      "\u001b[A                                                       \n",
      "\u001b[A\n",
      "\n",
      "Epoch:   6%|▌         | 62/1000 [00:04<01:08, 13.63it/s]"
     ]
    },
    {
     "name": "stdout",
     "output_type": "stream",
     "text": [
      "Iteration: 700 -- ELBO=-7.53e+03 / RLL=-7.51e+03 / KL=1.85e+01\n"
     ]
    },
    {
     "name": "stderr",
     "output_type": "stream",
     "text": [
      "Epoch:   7%|▋         | 66/1000 [00:04<01:07, 13.78it/s]\n",
      "\n",
      "\u001b[A\u001b[A                                                  \n",
      "\n",
      "\n",
      "                                                                  \n",
      "\u001b[A                                                       \n",
      "\u001b[A\n",
      "\n",
      "Epoch:   7%|▋         | 70/1000 [00:05<01:08, 13.65it/s]"
     ]
    },
    {
     "name": "stdout",
     "output_type": "stream",
     "text": [
      "Iteration: 800 -- ELBO=-7.50e+03 / RLL=-7.48e+03 / KL=1.82e+01\n"
     ]
    },
    {
     "name": "stderr",
     "output_type": "stream",
     "text": [
      "Epoch:   7%|▋         | 74/1000 [00:05<01:06, 13.87it/s]\n",
      "\n",
      "\u001b[A\u001b[A                                                  \n",
      "\n",
      "\n",
      "                                                                  \n",
      "\u001b[A                                                       \n",
      "\u001b[A\n",
      "\n",
      "Epoch:   8%|▊         | 78/1000 [00:05<01:06, 13.78it/s]"
     ]
    },
    {
     "name": "stdout",
     "output_type": "stream",
     "text": [
      "Iteration: 900 -- ELBO=-7.45e+03 / RLL=-7.43e+03 / KL=1.85e+01\n"
     ]
    },
    {
     "name": "stderr",
     "output_type": "stream",
     "text": [
      "Epoch:   8%|▊         | 84/1000 [00:06<01:07, 13.62it/s]\n",
      "\n",
      "\u001b[A\u001b[A                                                  \n",
      "\n",
      "\n",
      "                                                                  \n",
      "\u001b[A                                                       \n",
      "\u001b[A\n",
      "\n",
      "Epoch:   9%|▊         | 86/1000 [00:06<01:11, 12.85it/s]"
     ]
    },
    {
     "name": "stdout",
     "output_type": "stream",
     "text": [
      "Iteration: 1000 -- ELBO=-7.44e+03 / RLL=-7.42e+03 / KL=1.82e+01\n"
     ]
    },
    {
     "name": "stderr",
     "output_type": "stream",
     "text": [
      "Epoch:   9%|▉         | 92/1000 [00:06<01:08, 13.25it/s]\n",
      "\n",
      "\u001b[A\u001b[A                                                  \n",
      "\n",
      "\n",
      "                                                                  \n",
      "\u001b[A                                                       \n",
      "\u001b[A\n",
      "\n",
      "Epoch:   9%|▉         | 94/1000 [00:07<01:11, 12.58it/s]"
     ]
    },
    {
     "name": "stdout",
     "output_type": "stream",
     "text": [
      "Iteration: 1100 -- ELBO=-7.43e+03 / RLL=-7.41e+03 / KL=1.79e+01\n"
     ]
    },
    {
     "name": "stderr",
     "output_type": "stream",
     "text": [
      "Epoch:  10%|█         | 100/1000 [00:07<01:09, 13.00it/s]\n",
      "\n",
      "\u001b[A\u001b[A                                                  \n",
      "\n",
      "\n",
      "                                                                  \n",
      "\u001b[A                                                       \n",
      "\u001b[A\n",
      "\n",
      "Epoch:  10%|█         | 102/1000 [00:07<01:11, 12.54it/s]"
     ]
    },
    {
     "name": "stdout",
     "output_type": "stream",
     "text": [
      "Iteration: 1200 -- ELBO=-7.37e+03 / RLL=-7.36e+03 / KL=1.83e+01\n"
     ]
    },
    {
     "name": "stderr",
     "output_type": "stream",
     "text": [
      "Epoch:  11%|█         | 108/1000 [00:08<01:08, 12.99it/s]\n",
      "\n",
      "\u001b[A\u001b[A                                                  \n",
      "\n",
      "\n",
      "                                                                  \n",
      "\u001b[A                                                       \n",
      "\u001b[A\n",
      "\n",
      "Epoch:  11%|█         | 110/1000 [00:08<01:11, 12.49it/s]"
     ]
    },
    {
     "name": "stdout",
     "output_type": "stream",
     "text": [
      "Iteration: 1300 -- ELBO=-7.39e+03 / RLL=-7.38e+03 / KL=1.78e+01\n"
     ]
    },
    {
     "name": "stderr",
     "output_type": "stream",
     "text": [
      "Epoch:  12%|█▏        | 116/1000 [00:08<01:07, 13.03it/s]\n",
      "\n",
      "\u001b[A\u001b[A                                                  \n",
      "\n",
      "\n",
      "                                                                  \n",
      "\u001b[A                                                       \n",
      "\u001b[A\n",
      "\n",
      "Epoch:  12%|█▏        | 120/1000 [00:09<01:08, 12.78it/s]"
     ]
    },
    {
     "name": "stdout",
     "output_type": "stream",
     "text": [
      "Iteration: 1400 -- ELBO=-7.32e+03 / RLL=-7.30e+03 / KL=1.78e+01\n"
     ]
    },
    {
     "name": "stderr",
     "output_type": "stream",
     "text": [
      "Epoch:  12%|█▏        | 124/1000 [00:09<01:07, 12.93it/s]\n",
      "\n",
      "\u001b[A\u001b[A                                                  \n",
      "\n",
      "\n",
      "                                                                  \n",
      "\u001b[A                                                       \n",
      "\u001b[A\n",
      "\n",
      "Epoch:  13%|█▎        | 128/1000 [00:09<01:08, 12.73it/s]"
     ]
    },
    {
     "name": "stdout",
     "output_type": "stream",
     "text": [
      "Iteration: 1500 -- ELBO=-7.39e+03 / RLL=-7.37e+03 / KL=1.76e+01\n"
     ]
    },
    {
     "name": "stderr",
     "output_type": "stream",
     "text": [
      "Epoch:  13%|█▎        | 134/1000 [00:10<01:06, 12.95it/s]\n",
      "\n",
      "\u001b[A\u001b[A                                                  \n",
      "\n",
      "\n",
      "                                                                  \n",
      "\u001b[A                                                       \n",
      "\u001b[A\n",
      "\n",
      "Epoch:  14%|█▎        | 136/1000 [00:10<01:09, 12.47it/s]"
     ]
    },
    {
     "name": "stdout",
     "output_type": "stream",
     "text": [
      "Iteration: 1600 -- ELBO=-7.32e+03 / RLL=-7.30e+03 / KL=1.75e+01\n"
     ]
    },
    {
     "name": "stderr",
     "output_type": "stream",
     "text": [
      "Epoch:  14%|█▍        | 142/1000 [00:10<01:06, 12.99it/s]\n",
      "\n",
      "\u001b[A\u001b[A                                                  \n",
      "\n",
      "\n",
      "                                                                  \n",
      "\u001b[A                                                       \n",
      "\u001b[A\n",
      "\n",
      "Epoch:  14%|█▍        | 144/1000 [00:11<01:07, 12.65it/s]"
     ]
    },
    {
     "name": "stdout",
     "output_type": "stream",
     "text": [
      "Iteration: 1700 -- ELBO=-7.32e+03 / RLL=-7.30e+03 / KL=1.74e+01\n"
     ]
    },
    {
     "name": "stderr",
     "output_type": "stream",
     "text": [
      "Epoch:  15%|█▌        | 150/1000 [00:11<01:02, 13.68it/s]\n",
      "\n",
      "\u001b[A\u001b[A                                                  \n",
      "\n",
      "\n",
      "                                                                  \n",
      "\u001b[A                                                       \n",
      "\u001b[A\n",
      "\n",
      "Epoch:  15%|█▌        | 152/1000 [00:11<01:02, 13.60it/s]"
     ]
    },
    {
     "name": "stdout",
     "output_type": "stream",
     "text": [
      "Iteration: 1800 -- ELBO=-7.34e+03 / RLL=-7.32e+03 / KL=1.71e+01\n"
     ]
    },
    {
     "name": "stderr",
     "output_type": "stream",
     "text": [
      "Epoch:  16%|█▌        | 158/1000 [00:12<01:00, 13.83it/s]\n",
      "\n",
      "\u001b[A\u001b[A                                                  \n",
      "\n",
      "\n",
      "                                                                  \n",
      "\u001b[A                                                       \n",
      "\u001b[A\n",
      "\n",
      "Epoch:  16%|█▌        | 160/1000 [00:12<01:02, 13.45it/s]"
     ]
    },
    {
     "name": "stdout",
     "output_type": "stream",
     "text": [
      "Iteration: 1900 -- ELBO=-7.32e+03 / RLL=-7.30e+03 / KL=1.71e+01\n"
     ]
    },
    {
     "name": "stderr",
     "output_type": "stream",
     "text": [
      "Epoch:  17%|█▋        | 166/1000 [00:12<01:01, 13.58it/s]\n",
      "\n",
      "\u001b[A\u001b[A                                                  \n",
      "\n",
      "\n",
      "                                                                  \n",
      "\u001b[A                                                       \n",
      "\u001b[A\n",
      "\n",
      "Epoch:  17%|█▋        | 170/1000 [00:12<01:02, 13.37it/s]"
     ]
    },
    {
     "name": "stdout",
     "output_type": "stream",
     "text": [
      "Iteration: 2000 -- ELBO=-7.29e+03 / RLL=-7.27e+03 / KL=1.70e+01\n"
     ]
    },
    {
     "name": "stderr",
     "output_type": "stream",
     "text": [
      "Epoch:  17%|█▋        | 174/1000 [00:13<01:00, 13.60it/s]\n",
      "\n",
      "\u001b[A\u001b[A                                                  \n",
      "\n",
      "\n",
      "                                                                  \n",
      "\u001b[A                                                       \n",
      "\u001b[A\n",
      "\n",
      "Epoch:  18%|█▊        | 178/1000 [00:13<01:01, 13.27it/s]"
     ]
    },
    {
     "name": "stdout",
     "output_type": "stream",
     "text": [
      "Iteration: 2100 -- ELBO=-7.45e+03 / RLL=-7.43e+03 / KL=1.57e+01\n"
     ]
    },
    {
     "name": "stderr",
     "output_type": "stream",
     "text": [
      "Epoch:  18%|█▊        | 184/1000 [00:13<00:59, 13.77it/s]\n",
      "\n",
      "\u001b[A\u001b[A                                                  \n",
      "\n",
      "\n",
      "                                                                  \n",
      "\u001b[A                                                       \n",
      "\u001b[A\n",
      "\n",
      "Epoch:  19%|█▊        | 186/1000 [00:14<01:00, 13.50it/s]\n"
     ]
    },
    {
     "name": "stdout",
     "output_type": "stream",
     "text": [
      "Iteration: 2200 -- ELBO=-7.27e+03 / RLL=-7.25e+03 / KL=1.66e+01\n"
     ]
    },
    {
     "name": "stderr",
     "output_type": "stream",
     "text": [
      "Epoch:  19%|█▉        | 192/1000 [00:14<00:58, 13.86it/s]]\u001b[A\n",
      "\n",
      "\u001b[A\u001b[A                                                  \n",
      "\n",
      "\n",
      "                                                                  \n",
      "\u001b[A                                                       \n",
      "\u001b[A\n",
      "\n",
      "Epoch:  19%|█▉        | 194/1000 [00:14<01:01, 13.21it/s]"
     ]
    },
    {
     "name": "stdout",
     "output_type": "stream",
     "text": [
      "Iteration: 2300 -- ELBO=-7.27e+03 / RLL=-7.25e+03 / KL=1.64e+01\n"
     ]
    },
    {
     "name": "stderr",
     "output_type": "stream",
     "text": [
      "Epoch:  20%|██        | 200/1000 [00:15<01:00, 13.21it/s]\n",
      "\n",
      "\u001b[A\u001b[A                                                  \n",
      "\n",
      "\n",
      "                                                                  \n",
      "\u001b[A                                                       \n",
      "\u001b[A\n",
      "\n",
      "Epoch:  20%|██        | 202/1000 [00:15<01:02, 12.70it/s]"
     ]
    },
    {
     "name": "stdout",
     "output_type": "stream",
     "text": [
      "Iteration: 2400 -- ELBO=-7.33e+03 / RLL=-7.31e+03 / KL=1.58e+01\n"
     ]
    },
    {
     "name": "stderr",
     "output_type": "stream",
     "text": [
      "Epoch:  21%|██        | 208/1000 [00:15<01:01, 12.93it/s]\n",
      "\n",
      "\u001b[A\u001b[A                                                  \n",
      "\n",
      "\n",
      "                                                                  \n",
      "\u001b[A                                                       \n",
      "\u001b[A\n",
      "\n",
      "Epoch:  21%|██        | 210/1000 [00:15<01:03, 12.43it/s]"
     ]
    },
    {
     "name": "stdout",
     "output_type": "stream",
     "text": [
      "Iteration: 2500 -- ELBO=-7.31e+03 / RLL=-7.30e+03 / KL=1.55e+01\n"
     ]
    },
    {
     "name": "stderr",
     "output_type": "stream",
     "text": [
      "Epoch:  22%|██▏       | 216/1000 [00:16<01:00, 13.04it/s]\n",
      "\n",
      "\u001b[A\u001b[A                                                  \n",
      "\n",
      "\n",
      "                                                                   \n",
      "\u001b[A                                                       \n",
      "\u001b[A\n",
      "\n",
      "Epoch:  22%|██▏       | 220/1000 [00:16<01:00, 12.87it/s]"
     ]
    },
    {
     "name": "stdout",
     "output_type": "stream",
     "text": [
      "Iteration: 2600 -- ELBO=-7.27e+03 / RLL=-7.25e+03 / KL=1.57e+01\n"
     ]
    },
    {
     "name": "stderr",
     "output_type": "stream",
     "text": [
      "Epoch:  22%|██▏       | 224/1000 [00:17<01:00, 12.89it/s]\n",
      "\n",
      "\u001b[A\u001b[A                                                  \n",
      "\n",
      "\n",
      "                                                                   \n",
      "\u001b[A                                                       \n",
      "\u001b[A\n",
      "\n",
      "Epoch:  23%|██▎       | 228/1000 [00:17<01:00, 12.75it/s]"
     ]
    },
    {
     "name": "stdout",
     "output_type": "stream",
     "text": [
      "Iteration: 2700 -- ELBO=-7.34e+03 / RLL=-7.32e+03 / KL=1.55e+01\n"
     ]
    },
    {
     "name": "stderr",
     "output_type": "stream",
     "text": [
      "Epoch:  23%|██▎       | 234/1000 [00:17<00:58, 13.17it/s]\n",
      "\n",
      "\u001b[A\u001b[A                                                  \n",
      "\n",
      "\n",
      "                                                                   \n",
      "\u001b[A                                                       \n",
      "\u001b[A\n",
      "\n",
      "Epoch:  24%|██▎       | 236/1000 [00:18<01:00, 12.57it/s]"
     ]
    },
    {
     "name": "stdout",
     "output_type": "stream",
     "text": [
      "Iteration: 2800 -- ELBO=-7.30e+03 / RLL=-7.28e+03 / KL=1.54e+01\n"
     ]
    },
    {
     "name": "stderr",
     "output_type": "stream",
     "text": [
      "Epoch:  24%|██▍       | 242/1000 [00:18<00:57, 13.18it/s]\n",
      "\n",
      "\u001b[A\u001b[A                                                  \n",
      "\n",
      "\n",
      "                                                                   \n",
      "\u001b[A                                                       \n",
      "\u001b[A\n",
      "\n",
      "Epoch:  24%|██▍       | 244/1000 [00:18<00:57, 13.11it/s]"
     ]
    },
    {
     "name": "stdout",
     "output_type": "stream",
     "text": [
      "Iteration: 2900 -- ELBO=-7.24e+03 / RLL=-7.22e+03 / KL=1.59e+01\n"
     ]
    },
    {
     "name": "stderr",
     "output_type": "stream",
     "text": [
      "Epoch:  25%|██▌       | 250/1000 [00:19<00:54, 13.71it/s]\n",
      "\n",
      "\u001b[A\u001b[A                                                  \n",
      "\n",
      "\n",
      "                                                                   \n",
      "\u001b[A                                                       \n",
      "\u001b[A\n",
      "\n",
      "Epoch:  25%|██▌       | 252/1000 [00:19<00:55, 13.50it/s]"
     ]
    },
    {
     "name": "stdout",
     "output_type": "stream",
     "text": [
      "Iteration: 3000 -- ELBO=-7.27e+03 / RLL=-7.25e+03 / KL=1.51e+01\n"
     ]
    },
    {
     "name": "stderr",
     "output_type": "stream",
     "text": [
      "Epoch:  26%|██▌       | 258/1000 [00:19<00:53, 13.87it/s]\n",
      "\n",
      "\u001b[A\u001b[A                                                  \n",
      "\n",
      "\n",
      "                                                                   \n",
      "\u001b[A                                                       \n",
      "\u001b[A\n",
      "\n",
      "Epoch:  26%|██▌       | 262/1000 [00:19<00:53, 13.84it/s]"
     ]
    },
    {
     "name": "stdout",
     "output_type": "stream",
     "text": [
      "Iteration: 3100 -- ELBO=-7.29e+03 / RLL=-7.28e+03 / KL=1.50e+01\n"
     ]
    },
    {
     "name": "stderr",
     "output_type": "stream",
     "text": [
      "Epoch:  27%|██▋       | 266/1000 [00:20<00:52, 13.85it/s]\n",
      "\n",
      "\u001b[A\u001b[A                                                  \n",
      "\n",
      "\n",
      "                                                                   \n",
      "\u001b[A                                                       \n",
      "\u001b[A\n",
      "\n",
      "Epoch:  27%|██▋       | 270/1000 [00:20<00:51, 14.19it/s]"
     ]
    },
    {
     "name": "stdout",
     "output_type": "stream",
     "text": [
      "Iteration: 3200 -- ELBO=-7.25e+03 / RLL=-7.24e+03 / KL=1.46e+01\n"
     ]
    },
    {
     "name": "stderr",
     "output_type": "stream",
     "text": [
      "Epoch:  27%|██▋       | 274/1000 [00:20<00:52, 13.95it/s]\n",
      "\n",
      "\u001b[A\u001b[A                                                  \n",
      "\n",
      "\n",
      "                                                                   \n",
      "\u001b[A                                                       \n",
      "\u001b[A\n",
      "\n",
      "Epoch:  28%|██▊       | 278/1000 [00:21<00:54, 13.24it/s]"
     ]
    },
    {
     "name": "stdout",
     "output_type": "stream",
     "text": [
      "Iteration: 3300 -- ELBO=-7.25e+03 / RLL=-7.24e+03 / KL=1.46e+01\n"
     ]
    },
    {
     "name": "stderr",
     "output_type": "stream",
     "text": [
      "Epoch:  28%|██▊       | 284/1000 [00:21<00:53, 13.47it/s]\n",
      "\n",
      "\u001b[A\u001b[A                                                  \n",
      "\n",
      "\n",
      "                                                                   \n",
      "\u001b[A                                                       \n",
      "\u001b[A\n",
      "\n",
      "Epoch:  29%|██▊       | 286/1000 [00:21<00:55, 12.86it/s]"
     ]
    },
    {
     "name": "stdout",
     "output_type": "stream",
     "text": [
      "Iteration: 3400 -- ELBO=-7.28e+03 / RLL=-7.26e+03 / KL=1.46e+01\n"
     ]
    },
    {
     "name": "stderr",
     "output_type": "stream",
     "text": [
      "Epoch:  29%|██▉       | 292/1000 [00:22<00:53, 13.18it/s]\n",
      "\n",
      "\u001b[A\u001b[A                                                  \n",
      "\n",
      "\n",
      "                                                                   \n",
      "\u001b[A                                                       \n",
      "\u001b[A\n",
      "\n",
      "Epoch:  29%|██▉       | 294/1000 [00:22<00:56, 12.41it/s]"
     ]
    },
    {
     "name": "stdout",
     "output_type": "stream",
     "text": [
      "Iteration: 3500 -- ELBO=-7.25e+03 / RLL=-7.23e+03 / KL=1.46e+01\n"
     ]
    },
    {
     "name": "stderr",
     "output_type": "stream",
     "text": [
      "Epoch:  30%|███       | 300/1000 [00:22<00:52, 13.29it/s]\n",
      "\n",
      "\u001b[A\u001b[A                                                  \n",
      "\n",
      "\n",
      "                                                                   \n",
      "\u001b[A                                                       \n",
      "\u001b[A\n",
      "\n",
      "Epoch:  30%|███       | 302/1000 [00:22<00:53, 13.15it/s]"
     ]
    },
    {
     "name": "stdout",
     "output_type": "stream",
     "text": [
      "Iteration: 3600 -- ELBO=-7.22e+03 / RLL=-7.20e+03 / KL=1.42e+01\n"
     ]
    },
    {
     "name": "stderr",
     "output_type": "stream",
     "text": [
      "Epoch:  31%|███       | 308/1000 [00:23<00:50, 13.60it/s]\n",
      "\n",
      "\u001b[A\u001b[A                                                  \n",
      "\n",
      "\n",
      "                                                                   \n",
      "\u001b[A                                                       \n",
      "\u001b[A\n",
      "\n",
      "Epoch:  31%|███       | 312/1000 [00:23<00:49, 13.86it/s]"
     ]
    },
    {
     "name": "stdout",
     "output_type": "stream",
     "text": [
      "Iteration: 3700 -- ELBO=-7.28e+03 / RLL=-7.27e+03 / KL=1.40e+01\n"
     ]
    },
    {
     "name": "stderr",
     "output_type": "stream",
     "text": [
      "Epoch:  32%|███▏      | 316/1000 [00:23<00:49, 13.95it/s]\n",
      "\n",
      "\u001b[A\u001b[A                                                  \n",
      "\n",
      "\n",
      "                                                                   \n",
      "\u001b[A                                                       \n",
      "\u001b[A\n",
      "\n",
      "Epoch:  32%|███▏      | 320/1000 [00:24<00:49, 13.83it/s]"
     ]
    },
    {
     "name": "stdout",
     "output_type": "stream",
     "text": [
      "Iteration: 3800 -- ELBO=-7.22e+03 / RLL=-7.21e+03 / KL=1.40e+01\n"
     ]
    },
    {
     "name": "stderr",
     "output_type": "stream",
     "text": [
      "Epoch:  32%|███▏      | 324/1000 [00:24<00:49, 13.72it/s]\n",
      "\n",
      "\u001b[A\u001b[A                                                  \n",
      "\n",
      "\n",
      "                                                                   \n",
      "\u001b[A                                                       \n",
      "\u001b[A\n",
      "\n",
      "Epoch:  33%|███▎      | 328/1000 [00:24<00:50, 13.44it/s]"
     ]
    },
    {
     "name": "stdout",
     "output_type": "stream",
     "text": [
      "Iteration: 3900 -- ELBO=-7.26e+03 / RLL=-7.25e+03 / KL=1.40e+01\n"
     ]
    },
    {
     "name": "stderr",
     "output_type": "stream",
     "text": [
      "Epoch:  33%|███▎      | 334/1000 [00:25<00:47, 13.94it/s]\n",
      "\n",
      "\u001b[A\u001b[A                                                  \n",
      "\n",
      "\n",
      "                                                                   \n",
      "\u001b[A                                                       \n",
      "\u001b[A\n",
      "\n",
      "Epoch:  34%|███▎      | 336/1000 [00:25<00:50, 13.19it/s]"
     ]
    },
    {
     "name": "stdout",
     "output_type": "stream",
     "text": [
      "Iteration: 4000 -- ELBO=-7.22e+03 / RLL=-7.21e+03 / KL=1.42e+01\n"
     ]
    },
    {
     "name": "stderr",
     "output_type": "stream",
     "text": [
      "Epoch:  34%|███▍      | 342/1000 [00:25<00:47, 13.71it/s]\n",
      "\n",
      "\u001b[A\u001b[A                                                  \n",
      "\n",
      "\n",
      "                                                                   \n",
      "\u001b[A                                                       \n",
      "\u001b[A\n",
      "\n",
      "Epoch:  34%|███▍      | 344/1000 [00:26<00:48, 13.41it/s]"
     ]
    },
    {
     "name": "stdout",
     "output_type": "stream",
     "text": [
      "Iteration: 4100 -- ELBO=-7.22e+03 / RLL=-7.21e+03 / KL=1.41e+01\n"
     ]
    },
    {
     "name": "stderr",
     "output_type": "stream",
     "text": [
      "Epoch:  35%|███▌      | 350/1000 [00:26<00:46, 13.90it/s]\n",
      "\n",
      "\u001b[A\u001b[A                                                  \n",
      "\n",
      "\n",
      "                                                                   \n",
      "\u001b[A                                                       \n",
      "\u001b[A\n",
      "\n",
      "Epoch:  35%|███▌      | 352/1000 [00:26<00:48, 13.29it/s]"
     ]
    },
    {
     "name": "stdout",
     "output_type": "stream",
     "text": [
      "Iteration: 4200 -- ELBO=-7.29e+03 / RLL=-7.27e+03 / KL=1.38e+01\n"
     ]
    },
    {
     "name": "stderr",
     "output_type": "stream",
     "text": [
      "Epoch:  36%|███▌      | 358/1000 [00:27<00:47, 13.64it/s]\n",
      "\n",
      "\u001b[A\u001b[A                                                  \n",
      "\n",
      "\n",
      "                                                                   \n",
      "\u001b[A                                                       \n",
      "\u001b[A\n",
      "\n",
      "Epoch:  36%|███▌      | 362/1000 [00:27<00:46, 13.68it/s]"
     ]
    },
    {
     "name": "stdout",
     "output_type": "stream",
     "text": [
      "Iteration: 4300 -- ELBO=-7.26e+03 / RLL=-7.24e+03 / KL=1.37e+01\n"
     ]
    },
    {
     "name": "stderr",
     "output_type": "stream",
     "text": [
      "Epoch:  37%|███▋      | 366/1000 [00:27<00:46, 13.57it/s]\n",
      "\n",
      "\u001b[A\u001b[A                                                  \n",
      "\n",
      "\n",
      "                                                                   \n",
      "\u001b[A                                                       \n",
      "\u001b[A\n",
      "\n",
      "Epoch:  37%|███▋      | 370/1000 [00:27<00:48, 13.02it/s]"
     ]
    },
    {
     "name": "stdout",
     "output_type": "stream",
     "text": [
      "Iteration: 4400 -- ELBO=-7.28e+03 / RLL=-7.27e+03 / KL=1.37e+01\n"
     ]
    },
    {
     "name": "stderr",
     "output_type": "stream",
     "text": [
      "Epoch:  37%|███▋      | 374/1000 [00:28<00:48, 13.02it/s]\n",
      "\n",
      "\u001b[A\u001b[A                                                  \n",
      "\n",
      "\n",
      "                                                                   \n",
      "\u001b[A                                                       \n",
      "\u001b[A\n",
      "\n",
      "Epoch:  38%|███▊      | 378/1000 [00:28<00:48, 12.74it/s]"
     ]
    },
    {
     "name": "stdout",
     "output_type": "stream",
     "text": [
      "Iteration: 4500 -- ELBO=-7.20e+03 / RLL=-7.19e+03 / KL=1.38e+01\n"
     ]
    },
    {
     "name": "stderr",
     "output_type": "stream",
     "text": [
      "Epoch:  38%|███▊      | 384/1000 [00:29<00:45, 13.40it/s]\n",
      "\n",
      "\u001b[A\u001b[A                                                  \n",
      "\n",
      "\n",
      "                                                                   \n",
      "\u001b[A                                                       \n",
      "\u001b[A\n",
      "\n",
      "Epoch:  39%|███▊      | 386/1000 [00:29<00:48, 12.74it/s]"
     ]
    },
    {
     "name": "stdout",
     "output_type": "stream",
     "text": [
      "Iteration: 4600 -- ELBO=-7.26e+03 / RLL=-7.25e+03 / KL=1.35e+01\n"
     ]
    },
    {
     "name": "stderr",
     "output_type": "stream",
     "text": [
      "Epoch:  39%|███▉      | 392/1000 [00:29<00:45, 13.32it/s]\n",
      "\n",
      "\u001b[A\u001b[A                                                  \n",
      "\n",
      "\n",
      "                                                                   \n",
      "\u001b[A                                                       \n",
      "\u001b[A\n",
      "\n",
      "Epoch:  39%|███▉      | 394/1000 [00:29<00:48, 12.56it/s]"
     ]
    },
    {
     "name": "stdout",
     "output_type": "stream",
     "text": [
      "Iteration: 4700 -- ELBO=-7.21e+03 / RLL=-7.19e+03 / KL=1.35e+01\n"
     ]
    },
    {
     "name": "stderr",
     "output_type": "stream",
     "text": [
      "Epoch:  40%|████      | 400/1000 [00:30<00:46, 12.91it/s]\n",
      "\n",
      "\u001b[A\u001b[A                                                  \n",
      "\n",
      "\n",
      "                                                                   \n",
      "\u001b[A                                                       \n",
      "\u001b[A\n",
      "\n",
      "Epoch:  40%|████      | 402/1000 [00:30<00:47, 12.50it/s]"
     ]
    },
    {
     "name": "stdout",
     "output_type": "stream",
     "text": [
      "Iteration: 4800 -- ELBO=-7.31e+03 / RLL=-7.30e+03 / KL=1.33e+01\n"
     ]
    },
    {
     "name": "stderr",
     "output_type": "stream",
     "text": [
      "Epoch:  41%|████      | 408/1000 [00:30<00:45, 12.99it/s]\n",
      "\n",
      "\u001b[A\u001b[A                                                  \n",
      "\n",
      "\n",
      "                                                                   \n",
      "\u001b[A                                                       \n",
      "\u001b[A\n",
      "\n",
      "Epoch:  41%|████      | 410/1000 [00:31<00:47, 12.45it/s]"
     ]
    },
    {
     "name": "stdout",
     "output_type": "stream",
     "text": [
      "Iteration: 4900 -- ELBO=-7.21e+03 / RLL=-7.20e+03 / KL=1.37e+01\n"
     ]
    },
    {
     "name": "stderr",
     "output_type": "stream",
     "text": [
      "Epoch:  42%|████▏     | 416/1000 [00:31<00:45, 12.96it/s]\n",
      "\n",
      "\u001b[A\u001b[A                                                  \n",
      "\n",
      "\n",
      "                                                                   \n",
      "\u001b[A                                                       \n",
      "\u001b[A\n",
      "\n",
      "Epoch:  42%|████▏     | 420/1000 [00:31<00:45, 12.85it/s]"
     ]
    },
    {
     "name": "stdout",
     "output_type": "stream",
     "text": [
      "Iteration: 5000 -- ELBO=-7.23e+03 / RLL=-7.21e+03 / KL=1.33e+01\n"
     ]
    },
    {
     "name": "stderr",
     "output_type": "stream",
     "text": [
      "Epoch:  42%|████▏     | 424/1000 [00:32<00:43, 13.24it/s]\n",
      "\n",
      "\u001b[A\u001b[A                                                  \n",
      "\n",
      "\n",
      "                                                                   \n",
      "\u001b[A                                                       \n",
      "\u001b[A\n",
      "\n",
      "Epoch:  43%|████▎     | 428/1000 [00:32<00:41, 13.79it/s]"
     ]
    },
    {
     "name": "stdout",
     "output_type": "stream",
     "text": [
      "Iteration: 5100 -- ELBO=-7.25e+03 / RLL=-7.23e+03 / KL=1.36e+01\n"
     ]
    },
    {
     "name": "stderr",
     "output_type": "stream",
     "text": [
      "Epoch:  43%|████▎     | 434/1000 [00:32<00:40, 14.02it/s]\n",
      "\n",
      "\u001b[A\u001b[A                                                  \n",
      "\n",
      "\n",
      "                                                                   \n",
      "\u001b[A                                                       \n",
      "\u001b[A\n",
      "\n",
      "Epoch:  44%|████▎     | 436/1000 [00:33<00:41, 13.62it/s]"
     ]
    },
    {
     "name": "stdout",
     "output_type": "stream",
     "text": [
      "Iteration: 5200 -- ELBO=-7.26e+03 / RLL=-7.24e+03 / KL=1.35e+01\n"
     ]
    },
    {
     "name": "stderr",
     "output_type": "stream",
     "text": [
      "Epoch:  44%|████▍     | 442/1000 [00:33<00:41, 13.57it/s]\n",
      "\n",
      "\u001b[A\u001b[A                                                  \n",
      "\n",
      "\n",
      "                                                                   \n",
      "\u001b[A                                                       \n",
      "\u001b[A\n",
      "\n",
      "Epoch:  44%|████▍     | 444/1000 [00:33<00:42, 13.15it/s]"
     ]
    },
    {
     "name": "stdout",
     "output_type": "stream",
     "text": [
      "Iteration: 5300 -- ELBO=-7.27e+03 / RLL=-7.25e+03 / KL=1.33e+01\n"
     ]
    },
    {
     "name": "stderr",
     "output_type": "stream",
     "text": [
      "Epoch:  45%|████▌     | 450/1000 [00:34<00:40, 13.71it/s]\n",
      "\n",
      "\u001b[A\u001b[A                                                  \n",
      "\n",
      "\n",
      "                                                                   \n",
      "\u001b[A                                                       \n",
      "\u001b[A\n",
      "\n",
      "Epoch:  45%|████▌     | 452/1000 [00:34<00:41, 13.17it/s]"
     ]
    },
    {
     "name": "stdout",
     "output_type": "stream",
     "text": [
      "Iteration: 5400 -- ELBO=-7.14e+03 / RLL=-7.13e+03 / KL=1.35e+01\n"
     ]
    },
    {
     "name": "stderr",
     "output_type": "stream",
     "text": [
      "Epoch:  46%|████▌     | 458/1000 [00:34<00:39, 13.74it/s]\n",
      "\n",
      "\u001b[A\u001b[A                                                  \n",
      "\n",
      "\n",
      "                                                                   \n",
      "\u001b[A                                                       \n",
      "\u001b[A\n",
      "\n",
      "Epoch:  46%|████▌     | 462/1000 [00:34<00:39, 13.75it/s]"
     ]
    },
    {
     "name": "stdout",
     "output_type": "stream",
     "text": [
      "Iteration: 5500 -- ELBO=-7.23e+03 / RLL=-7.22e+03 / KL=1.36e+01\n"
     ]
    },
    {
     "name": "stderr",
     "output_type": "stream",
     "text": [
      "Epoch:  47%|████▋     | 466/1000 [00:35<00:38, 13.82it/s]\n",
      "\n",
      "\u001b[A\u001b[A                                                  \n",
      "\n",
      "\n",
      "                                                                   \n",
      "\u001b[A                                                       \n",
      "\u001b[A\n",
      "\n",
      "Epoch:  47%|████▋     | 470/1000 [00:35<00:37, 14.07it/s]"
     ]
    },
    {
     "name": "stdout",
     "output_type": "stream",
     "text": [
      "Iteration: 5600 -- ELBO=-7.29e+03 / RLL=-7.27e+03 / KL=1.29e+01\n"
     ]
    },
    {
     "name": "stderr",
     "output_type": "stream",
     "text": [
      "Epoch:  47%|████▋     | 474/1000 [00:35<00:37, 13.97it/s]\n",
      "\n",
      "\u001b[A\u001b[A                                                  \n",
      "\n",
      "\n",
      "                                                                   \n",
      "\u001b[A                                                       \n",
      "\u001b[A\n",
      "\n",
      "Epoch:  48%|████▊     | 478/1000 [00:36<00:39, 13.18it/s]"
     ]
    },
    {
     "name": "stdout",
     "output_type": "stream",
     "text": [
      "Iteration: 5700 -- ELBO=-7.22e+03 / RLL=-7.20e+03 / KL=1.32e+01\n"
     ]
    },
    {
     "name": "stderr",
     "output_type": "stream",
     "text": [
      "Epoch:  48%|████▊     | 484/1000 [00:36<00:38, 13.26it/s]\n",
      "\n",
      "\u001b[A\u001b[A                                                  \n",
      "\n",
      "\n",
      "                                                                   \n",
      "\u001b[A                                                       \n",
      "\u001b[A\n",
      "\n",
      "Epoch:  49%|████▊     | 486/1000 [00:36<00:40, 12.70it/s]"
     ]
    },
    {
     "name": "stdout",
     "output_type": "stream",
     "text": [
      "Iteration: 5800 -- ELBO=-7.21e+03 / RLL=-7.20e+03 / KL=1.34e+01\n"
     ]
    },
    {
     "name": "stderr",
     "output_type": "stream",
     "text": [
      "Epoch:  49%|████▉     | 492/1000 [00:37<00:39, 12.99it/s]\n",
      "\n",
      "\u001b[A\u001b[A                                                  \n",
      "\n",
      "\n",
      "                                                                   \n",
      "\u001b[A                                                       \n",
      "\u001b[A\n",
      "\n",
      "Epoch:  49%|████▉     | 494/1000 [00:37<00:40, 12.43it/s]"
     ]
    },
    {
     "name": "stdout",
     "output_type": "stream",
     "text": [
      "Iteration: 5900 -- ELBO=-7.20e+03 / RLL=-7.18e+03 / KL=1.31e+01\n"
     ]
    },
    {
     "name": "stderr",
     "output_type": "stream",
     "text": [
      "Epoch:  50%|█████     | 500/1000 [00:37<00:38, 12.96it/s]\n",
      "\n",
      "\u001b[A\u001b[A                                                  \n",
      "\n",
      "\n",
      "                                                                   \n",
      "\u001b[A                                                       \n",
      "\u001b[A\n",
      "\n",
      "Epoch:  50%|█████     | 502/1000 [00:38<00:39, 12.53it/s]"
     ]
    },
    {
     "name": "stdout",
     "output_type": "stream",
     "text": [
      "Iteration: 6000 -- ELBO=-7.27e+03 / RLL=-7.26e+03 / KL=1.26e+01\n"
     ]
    },
    {
     "name": "stderr",
     "output_type": "stream",
     "text": [
      "Epoch:  51%|█████     | 508/1000 [00:38<00:36, 13.38it/s]\n",
      "\n",
      "\u001b[A\u001b[A                                                  \n",
      "\n",
      "\n",
      "                                                                   \n",
      "\u001b[A                                                       \n",
      "\u001b[A\n",
      "\n",
      "Epoch:  51%|█████     | 512/1000 [00:38<00:35, 13.62it/s]"
     ]
    },
    {
     "name": "stdout",
     "output_type": "stream",
     "text": [
      "Iteration: 6100 -- ELBO=-7.21e+03 / RLL=-7.20e+03 / KL=1.27e+01\n"
     ]
    },
    {
     "name": "stderr",
     "output_type": "stream",
     "text": [
      "Epoch:  52%|█████▏    | 516/1000 [00:39<00:35, 13.61it/s]\n",
      "\n",
      "\u001b[A\u001b[A                                                  \n",
      "\n",
      "\n",
      "                                                                   \n",
      "\u001b[A                                                       \n",
      "\u001b[A\n",
      "\n",
      "Epoch:  52%|█████▏    | 520/1000 [00:39<00:35, 13.55it/s]"
     ]
    },
    {
     "name": "stdout",
     "output_type": "stream",
     "text": [
      "Iteration: 6200 -- ELBO=-7.20e+03 / RLL=-7.19e+03 / KL=1.29e+01\n"
     ]
    },
    {
     "name": "stderr",
     "output_type": "stream",
     "text": [
      "Epoch:  52%|█████▏    | 524/1000 [00:39<00:34, 13.70it/s]\n",
      "\n",
      "\u001b[A\u001b[A                                                  \n",
      "\n",
      "\n",
      "                                                                   \n",
      "\u001b[A                                                       \n",
      "\u001b[A\n",
      "\n",
      "Epoch:  53%|█████▎    | 528/1000 [00:39<00:34, 13.57it/s]"
     ]
    },
    {
     "name": "stdout",
     "output_type": "stream",
     "text": [
      "Iteration: 6300 -- ELBO=-7.22e+03 / RLL=-7.21e+03 / KL=1.29e+01\n"
     ]
    },
    {
     "name": "stderr",
     "output_type": "stream",
     "text": [
      "Epoch:  53%|█████▎    | 534/1000 [00:40<00:33, 13.92it/s]\n",
      "\n",
      "\u001b[A\u001b[A                                                  \n",
      "\n",
      "\n",
      "                                                                   \n",
      "\u001b[A                                                       \n",
      "\u001b[A\n",
      "\n",
      "Epoch:  54%|█████▎    | 536/1000 [00:40<00:34, 13.46it/s]"
     ]
    },
    {
     "name": "stdout",
     "output_type": "stream",
     "text": [
      "Iteration: 6400 -- ELBO=-7.27e+03 / RLL=-7.26e+03 / KL=1.28e+01\n"
     ]
    },
    {
     "name": "stderr",
     "output_type": "stream",
     "text": [
      "Epoch:  54%|█████▍    | 542/1000 [00:40<00:33, 13.86it/s]\n",
      "\n",
      "\u001b[A\u001b[A                                                  \n",
      "\n",
      "\n",
      "                                                                   \n",
      "\u001b[A                                                       \n",
      "\u001b[A\n",
      "\n",
      "Epoch:  54%|█████▍    | 544/1000 [00:41<00:33, 13.64it/s]"
     ]
    },
    {
     "name": "stdout",
     "output_type": "stream",
     "text": [
      "Iteration: 6500 -- ELBO=-7.24e+03 / RLL=-7.22e+03 / KL=1.26e+01\n"
     ]
    },
    {
     "name": "stderr",
     "output_type": "stream",
     "text": [
      "Epoch:  55%|█████▌    | 550/1000 [00:41<00:31, 14.21it/s]\n",
      "\n",
      "\u001b[A\u001b[A                                                  \n",
      "\n",
      "\n",
      "                                                                   \n",
      "\u001b[A                                                       \n",
      "\u001b[A\n",
      "\n",
      "Epoch:  55%|█████▌    | 552/1000 [00:41<00:32, 13.84it/s]"
     ]
    },
    {
     "name": "stdout",
     "output_type": "stream",
     "text": [
      "Iteration: 6600 -- ELBO=-7.18e+03 / RLL=-7.16e+03 / KL=1.25e+01\n"
     ]
    },
    {
     "name": "stderr",
     "output_type": "stream",
     "text": [
      "Epoch:  56%|█████▌    | 558/1000 [00:42<00:32, 13.69it/s]\n",
      "\n",
      "\u001b[A\u001b[A                                                  \n",
      "\n",
      "\n",
      "                                                                   \n",
      "\u001b[A                                                       \n",
      "\u001b[A\n",
      "\n",
      "Epoch:  56%|█████▌    | 560/1000 [00:42<00:34, 12.91it/s]"
     ]
    },
    {
     "name": "stdout",
     "output_type": "stream",
     "text": [
      "Iteration: 6700 -- ELBO=-7.24e+03 / RLL=-7.23e+03 / KL=1.24e+01\n"
     ]
    },
    {
     "name": "stderr",
     "output_type": "stream",
     "text": [
      "Epoch:  57%|█████▋    | 566/1000 [00:42<00:32, 13.18it/s]\n",
      "\n",
      "\u001b[A\u001b[A                                                  \n",
      "\n",
      "\n",
      "                                                                   \n",
      "\u001b[A                                                       \n",
      "\u001b[A\n",
      "\n",
      "Epoch:  57%|█████▋    | 570/1000 [00:43<00:33, 12.82it/s]"
     ]
    },
    {
     "name": "stdout",
     "output_type": "stream",
     "text": [
      "Iteration: 6800 -- ELBO=-7.19e+03 / RLL=-7.18e+03 / KL=1.24e+01\n"
     ]
    },
    {
     "name": "stderr",
     "output_type": "stream",
     "text": [
      "Epoch:  57%|█████▋    | 574/1000 [00:43<00:33, 12.89it/s]\n",
      "\n",
      "\u001b[A\u001b[A                                                  \n",
      "\n",
      "\n",
      "                                                                   \n",
      "\u001b[A                                                       \n",
      "\u001b[A\n",
      "\n",
      "Epoch:  58%|█████▊    | 578/1000 [00:43<00:32, 12.83it/s]"
     ]
    },
    {
     "name": "stdout",
     "output_type": "stream",
     "text": [
      "Iteration: 6900 -- ELBO=-7.23e+03 / RLL=-7.22e+03 / KL=1.25e+01\n"
     ]
    },
    {
     "name": "stderr",
     "output_type": "stream",
     "text": [
      "Epoch:  58%|█████▊    | 584/1000 [00:44<00:31, 13.11it/s]\n",
      "\n",
      "\u001b[A\u001b[A                                                  \n",
      "\n",
      "\n",
      "                                                                   \n",
      "\u001b[A                                                       \n",
      "\u001b[A\n",
      "\n",
      "Epoch:  59%|█████▊    | 586/1000 [00:44<00:32, 12.64it/s]"
     ]
    },
    {
     "name": "stdout",
     "output_type": "stream",
     "text": [
      "Iteration: 7000 -- ELBO=-7.21e+03 / RLL=-7.20e+03 / KL=1.26e+01\n"
     ]
    },
    {
     "name": "stderr",
     "output_type": "stream",
     "text": [
      "Epoch:  59%|█████▉    | 592/1000 [00:44<00:29, 13.62it/s]\n",
      "\n",
      "\u001b[A\u001b[A                                                  \n",
      "\n",
      "\n",
      "                                                                   \n",
      "\u001b[A                                                       \n",
      "\u001b[A\n",
      "\n",
      "Epoch:  59%|█████▉    | 594/1000 [00:44<00:31, 12.99it/s]"
     ]
    },
    {
     "name": "stdout",
     "output_type": "stream",
     "text": [
      "Iteration: 7100 -- ELBO=-7.24e+03 / RLL=-7.22e+03 / KL=1.27e+01\n"
     ]
    },
    {
     "name": "stderr",
     "output_type": "stream",
     "text": [
      "Epoch:  60%|██████    | 600/1000 [00:45<00:31, 12.87it/s]\n",
      "\n",
      "\u001b[A\u001b[A                                                  \n",
      "\n",
      "\n",
      "                                                                   \n",
      "\u001b[A                                                       \n",
      "\u001b[A\n",
      "\n",
      "Epoch:  60%|██████    | 602/1000 [00:45<00:31, 12.57it/s]"
     ]
    },
    {
     "name": "stdout",
     "output_type": "stream",
     "text": [
      "Iteration: 7200 -- ELBO=-7.28e+03 / RLL=-7.27e+03 / KL=1.17e+01\n"
     ]
    },
    {
     "name": "stderr",
     "output_type": "stream",
     "text": [
      "Epoch:  61%|██████    | 608/1000 [00:46<00:30, 12.92it/s]\n",
      "\n",
      "\u001b[A\u001b[A                                                  \n",
      "\n",
      "\n",
      "                                                                   \n",
      "\u001b[A                                                       \n",
      "\u001b[A\n",
      "\n",
      "Epoch:  61%|██████    | 610/1000 [00:46<00:31, 12.44it/s]"
     ]
    },
    {
     "name": "stdout",
     "output_type": "stream",
     "text": [
      "Iteration: 7300 -- ELBO=-7.22e+03 / RLL=-7.20e+03 / KL=1.22e+01\n"
     ]
    },
    {
     "name": "stderr",
     "output_type": "stream",
     "text": [
      "Epoch:  62%|██████▏   | 616/1000 [00:46<00:29, 12.94it/s]\n",
      "\n",
      "\u001b[A\u001b[A                                                  \n",
      "\n",
      "\n",
      "                                                                   \n",
      "\u001b[A                                                       \n",
      "\u001b[A\n",
      "\n",
      "Epoch:  62%|██████▏   | 620/1000 [00:47<00:29, 12.73it/s]"
     ]
    },
    {
     "name": "stdout",
     "output_type": "stream",
     "text": [
      "Iteration: 7400 -- ELBO=-7.26e+03 / RLL=-7.25e+03 / KL=1.22e+01\n"
     ]
    },
    {
     "name": "stderr",
     "output_type": "stream",
     "text": [
      "Epoch:  62%|██████▏   | 624/1000 [00:47<00:29, 12.96it/s]\n",
      "\n",
      "\u001b[A\u001b[A                                                  \n",
      "\n",
      "\n",
      "                                                                   \n",
      "\u001b[A                                                       \n",
      "\u001b[A\n",
      "\n",
      "Epoch:  63%|██████▎   | 628/1000 [00:47<00:29, 12.72it/s]"
     ]
    },
    {
     "name": "stdout",
     "output_type": "stream",
     "text": [
      "Iteration: 7500 -- ELBO=-7.22e+03 / RLL=-7.21e+03 / KL=1.25e+01\n"
     ]
    },
    {
     "name": "stderr",
     "output_type": "stream",
     "text": [
      "Epoch:  63%|██████▎   | 634/1000 [00:48<00:27, 13.08it/s]\n",
      "\n",
      "\u001b[A\u001b[A                                                  \n",
      "\n",
      "\n",
      "                                                                   \n",
      "\u001b[A                                                       \n",
      "\u001b[A\n",
      "\n",
      "Epoch:  64%|██████▎   | 636/1000 [00:48<00:28, 12.55it/s]"
     ]
    },
    {
     "name": "stdout",
     "output_type": "stream",
     "text": [
      "Iteration: 7600 -- ELBO=-7.21e+03 / RLL=-7.20e+03 / KL=1.22e+01\n"
     ]
    },
    {
     "name": "stderr",
     "output_type": "stream",
     "text": [
      "Epoch:  64%|██████▍   | 642/1000 [00:48<00:26, 13.56it/s]\n",
      "\n",
      "\u001b[A\u001b[A                                                  \n",
      "\n",
      "\n",
      "                                                                   \n",
      "\u001b[A                                                       \n",
      "\u001b[A\n",
      "\n",
      "Epoch:  64%|██████▍   | 644/1000 [00:48<00:26, 13.30it/s]"
     ]
    },
    {
     "name": "stdout",
     "output_type": "stream",
     "text": [
      "Iteration: 7700 -- ELBO=-7.22e+03 / RLL=-7.21e+03 / KL=1.22e+01\n"
     ]
    },
    {
     "name": "stderr",
     "output_type": "stream",
     "text": [
      "Epoch:  65%|██████▌   | 650/1000 [00:49<00:25, 13.72it/s]\n",
      "\n",
      "\u001b[A\u001b[A                                                  \n",
      "\n",
      "\n",
      "                                                                   \n",
      "\u001b[A                                                       \n",
      "\u001b[A\n",
      "\n",
      "Epoch:  65%|██████▌   | 652/1000 [00:49<00:26, 13.25it/s]"
     ]
    },
    {
     "name": "stdout",
     "output_type": "stream",
     "text": [
      "Iteration: 7800 -- ELBO=-7.16e+03 / RLL=-7.14e+03 / KL=1.19e+01\n"
     ]
    },
    {
     "name": "stderr",
     "output_type": "stream",
     "text": [
      "Epoch:  66%|██████▌   | 658/1000 [00:49<00:25, 13.66it/s]\n",
      "\n",
      "\u001b[A\u001b[A                                                  \n",
      "\n",
      "\n",
      "                                                                   \n",
      "\u001b[A                                                       \n",
      "\u001b[A\n",
      "\n",
      "Epoch:  66%|██████▌   | 662/1000 [00:50<00:24, 13.62it/s]"
     ]
    },
    {
     "name": "stdout",
     "output_type": "stream",
     "text": [
      "Iteration: 7900 -- ELBO=-7.23e+03 / RLL=-7.22e+03 / KL=1.16e+01\n"
     ]
    },
    {
     "name": "stderr",
     "output_type": "stream",
     "text": [
      "Epoch:  67%|██████▋   | 666/1000 [00:50<00:25, 12.96it/s]\n",
      "\n",
      "\u001b[A\u001b[A                                                  \n",
      "\n",
      "\n",
      "                                                                   \n",
      "\u001b[A                                                       \n",
      "\u001b[A\n",
      "\n",
      "Epoch:  67%|██████▋   | 670/1000 [00:50<00:26, 12.67it/s]"
     ]
    },
    {
     "name": "stdout",
     "output_type": "stream",
     "text": [
      "Iteration: 8000 -- ELBO=-7.21e+03 / RLL=-7.20e+03 / KL=1.23e+01\n"
     ]
    },
    {
     "name": "stderr",
     "output_type": "stream",
     "text": [
      "Epoch:  67%|██████▋   | 674/1000 [00:51<00:25, 12.70it/s]\n",
      "\n",
      "\u001b[A\u001b[A                                                  \n",
      "\n",
      "\n",
      "                                                                   \n",
      "\u001b[A                                                       \n",
      "\u001b[A\n",
      "\n",
      "Epoch:  68%|██████▊   | 678/1000 [00:51<00:25, 12.57it/s]"
     ]
    },
    {
     "name": "stdout",
     "output_type": "stream",
     "text": [
      "Iteration: 8100 -- ELBO=-7.21e+03 / RLL=-7.20e+03 / KL=1.20e+01\n"
     ]
    },
    {
     "name": "stderr",
     "output_type": "stream",
     "text": [
      "Epoch:  68%|██████▊   | 684/1000 [00:51<00:24, 12.94it/s]\n",
      "\n",
      "\u001b[A\u001b[A                                                  \n",
      "\n",
      "\n",
      "                                                                   \n",
      "\u001b[A                                                       \n",
      "\u001b[A\n",
      "\n",
      "Epoch:  69%|██████▊   | 686/1000 [00:52<00:25, 12.50it/s]"
     ]
    },
    {
     "name": "stdout",
     "output_type": "stream",
     "text": [
      "Iteration: 8200 -- ELBO=-7.18e+03 / RLL=-7.17e+03 / KL=1.19e+01\n"
     ]
    },
    {
     "name": "stderr",
     "output_type": "stream",
     "text": [
      "Epoch:  69%|██████▉   | 692/1000 [00:52<00:23, 12.94it/s]\n",
      "\n",
      "\u001b[A\u001b[A                                                  \n",
      "\n",
      "\n",
      "                                                                   \n",
      "\u001b[A                                                       \n",
      "\u001b[A\n",
      "\n",
      "Epoch:  69%|██████▉   | 694/1000 [00:52<00:24, 12.42it/s]\n",
      "Iteration in Epoch:   0%|          | 0/12 [00:00<?, ?it/s]"
     ]
    },
    {
     "name": "stdout",
     "output_type": "stream",
     "text": [
      "Iteration: 8300 -- ELBO=-7.24e+03 / RLL=-7.23e+03 / KL=1.20e+01\n"
     ]
    },
    {
     "name": "stderr",
     "output_type": "stream",
     "text": [
      "Epoch:  70%|███████   | 700/1000 [00:53<00:30,  9.77it/s]\n",
      "\n",
      "\u001b[A\u001b[A                                                  \n",
      "\n",
      "\n",
      "                                                                   \n",
      "\u001b[A                                                                 \n",
      "\u001b[A\n",
      "\n",
      "Epoch:  70%|███████   | 702/1000 [00:53<00:35,  8.40it/s]"
     ]
    },
    {
     "name": "stdout",
     "output_type": "stream",
     "text": [
      "Iteration: 8400 -- ELBO=-7.24e+03 / RLL=-7.23e+03 / KL=1.20e+01\n"
     ]
    },
    {
     "name": "stderr",
     "output_type": "stream",
     "text": [
      "Epoch:  71%|███████   | 709/1000 [00:54<00:36,  8.04it/s]\n",
      "\n",
      "\u001b[A\u001b[A                                                  \n",
      "\n",
      "\n",
      "                                                                   \n",
      "\u001b[A                                                       \n",
      "\u001b[A\n",
      "\n",
      "Epoch:  71%|███████   | 711/1000 [00:54<00:35,  8.15it/s]"
     ]
    },
    {
     "name": "stdout",
     "output_type": "stream",
     "text": [
      "Iteration: 8500 -- ELBO=-7.25e+03 / RLL=-7.23e+03 / KL=1.20e+01\n"
     ]
    },
    {
     "name": "stderr",
     "output_type": "stream",
     "text": [
      "Epoch:  72%|███████▏  | 717/1000 [00:55<00:25, 11.04it/s]\n",
      "\n",
      "\u001b[A\u001b[A                                                  \n",
      "\n",
      "\n",
      "                                                                   \n",
      "\u001b[A                                                       \n",
      "\u001b[A\n",
      "\n",
      "Epoch:  72%|███████▏  | 719/1000 [00:55<00:25, 11.08it/s]"
     ]
    },
    {
     "name": "stdout",
     "output_type": "stream",
     "text": [
      "Iteration: 8600 -- ELBO=-7.27e+03 / RLL=-7.26e+03 / KL=1.14e+01\n"
     ]
    },
    {
     "name": "stderr",
     "output_type": "stream",
     "text": [
      "Epoch:  72%|███████▎  | 725/1000 [00:56<00:22, 12.30it/s]\n",
      "\n",
      "\u001b[A\u001b[A                                                  \n",
      "\n",
      "\n",
      "                                                                   \n",
      "\u001b[A                                                       \n",
      "\u001b[A\n",
      "\n",
      "Epoch:  73%|███████▎  | 727/1000 [00:56<00:23, 11.85it/s]"
     ]
    },
    {
     "name": "stdout",
     "output_type": "stream",
     "text": [
      "Iteration: 8700 -- ELBO=-7.33e+03 / RLL=-7.32e+03 / KL=1.15e+01\n"
     ]
    },
    {
     "name": "stderr",
     "output_type": "stream",
     "text": [
      "Epoch:  73%|███████▎  | 733/1000 [00:56<00:20, 12.80it/s]\n",
      "\n",
      "\u001b[A\u001b[A                                                  \n",
      "\n",
      "\n",
      "                                                                   \n",
      "\u001b[A                                                       \n",
      "\u001b[A\n",
      "\n",
      "Epoch:  74%|███████▎  | 735/1000 [00:56<00:21, 12.29it/s]"
     ]
    },
    {
     "name": "stdout",
     "output_type": "stream",
     "text": [
      "Iteration: 8800 -- ELBO=-7.20e+03 / RLL=-7.19e+03 / KL=1.19e+01\n"
     ]
    },
    {
     "name": "stderr",
     "output_type": "stream",
     "text": [
      "Epoch:  74%|███████▍  | 741/1000 [00:57<00:20, 12.55it/s]\n",
      "\n",
      "\u001b[A\u001b[A                                                  \n",
      "\n",
      "\n",
      "                                                                   \n",
      "\u001b[A                                                       \n",
      "\u001b[A\n",
      "\n",
      "Epoch:  74%|███████▍  | 745/1000 [00:57<00:20, 12.35it/s]"
     ]
    },
    {
     "name": "stdout",
     "output_type": "stream",
     "text": [
      "Iteration: 8900 -- ELBO=-7.27e+03 / RLL=-7.26e+03 / KL=1.18e+01\n"
     ]
    },
    {
     "name": "stderr",
     "output_type": "stream",
     "text": [
      "Epoch:  75%|███████▍  | 749/1000 [00:57<00:20, 12.54it/s]\n",
      "\n",
      "\u001b[A\u001b[A                                                  \n",
      "\n",
      "\n",
      "                                                                   \n",
      "\u001b[A                                                       \n",
      "\u001b[A\n",
      "\n",
      "Epoch:  75%|███████▌  | 753/1000 [00:58<00:19, 12.41it/s]"
     ]
    },
    {
     "name": "stdout",
     "output_type": "stream",
     "text": [
      "Iteration: 9000 -- ELBO=-7.22e+03 / RLL=-7.21e+03 / KL=1.22e+01\n"
     ]
    },
    {
     "name": "stderr",
     "output_type": "stream",
     "text": [
      "Epoch:  76%|███████▌  | 759/1000 [00:58<00:18, 12.69it/s]\n",
      "\n",
      "\u001b[A\u001b[A                                                  \n",
      "\n",
      "\n",
      "                                                                   \n",
      "\u001b[A                                                       \n",
      "\u001b[A\n",
      "\n",
      "Epoch:  76%|███████▌  | 761/1000 [00:58<00:19, 12.19it/s]"
     ]
    },
    {
     "name": "stdout",
     "output_type": "stream",
     "text": [
      "Iteration: 9100 -- ELBO=-7.25e+03 / RLL=-7.24e+03 / KL=1.16e+01\n"
     ]
    },
    {
     "name": "stderr",
     "output_type": "stream",
     "text": [
      "Epoch:  77%|███████▋  | 767/1000 [00:59<00:18, 12.75it/s]\n",
      "\n",
      "\u001b[A\u001b[A                                                  \n",
      "\n",
      "\n",
      "                                                                   \n",
      "\u001b[A\n",
      "\n",
      "Epoch:  77%|███████▋  | 769/1000 [00:59<00:18, 12.32it/s]"
     ]
    },
    {
     "name": "stdout",
     "output_type": "stream",
     "text": [
      "Iteration: 9200 -- ELBO=-7.21e+03 / RLL=-7.20e+03 / KL=1.13e+01\n"
     ]
    },
    {
     "name": "stderr",
     "output_type": "stream",
     "text": [
      "Epoch:  78%|███████▊  | 775/1000 [01:00<00:17, 12.88it/s]\n",
      "\n",
      "\u001b[A\u001b[A                                                  \n",
      "\n",
      "\n",
      "                                                                   \n",
      "\u001b[A                                                       \n",
      "\u001b[A\n",
      "\n",
      "Epoch:  78%|███████▊  | 777/1000 [01:00<00:17, 12.47it/s]"
     ]
    },
    {
     "name": "stdout",
     "output_type": "stream",
     "text": [
      "Iteration: 9300 -- ELBO=-7.17e+03 / RLL=-7.16e+03 / KL=1.17e+01\n"
     ]
    },
    {
     "name": "stderr",
     "output_type": "stream",
     "text": [
      "Epoch:  78%|███████▊  | 783/1000 [01:00<00:16, 13.12it/s]\n",
      "\n",
      "\u001b[A\u001b[A                                                  \n",
      "\n",
      "\n",
      "                                                                   \n",
      "\u001b[A                                                       \n",
      "\u001b[A\n",
      "\n",
      "Epoch:  78%|███████▊  | 785/1000 [01:00<00:17, 12.52it/s]"
     ]
    },
    {
     "name": "stdout",
     "output_type": "stream",
     "text": [
      "Iteration: 9400 -- ELBO=-7.21e+03 / RLL=-7.20e+03 / KL=1.15e+01\n"
     ]
    },
    {
     "name": "stderr",
     "output_type": "stream",
     "text": [
      "Epoch:  79%|███████▉  | 791/1000 [01:01<00:16, 12.72it/s]\n",
      "\n",
      "\u001b[A\u001b[A                                                  \n",
      "\n",
      "\n",
      "                                                                   \n",
      "\u001b[A                                                       \n",
      "\u001b[A\n",
      "\n",
      "Epoch:  80%|███████▉  | 795/1000 [01:01<00:16, 12.58it/s]"
     ]
    },
    {
     "name": "stdout",
     "output_type": "stream",
     "text": [
      "Iteration: 9500 -- ELBO=-7.23e+03 / RLL=-7.21e+03 / KL=1.14e+01\n"
     ]
    },
    {
     "name": "stderr",
     "output_type": "stream",
     "text": [
      "Epoch:  80%|███████▉  | 799/1000 [01:01<00:16, 12.55it/s]\n",
      "\n",
      "\u001b[A\u001b[A                                                  \n",
      "\n",
      "\n",
      "                                                                   \n",
      "\u001b[A                                                       \n",
      "\u001b[A\n",
      "\n",
      "Epoch:  80%|████████  | 803/1000 [01:02<00:15, 12.71it/s]"
     ]
    },
    {
     "name": "stdout",
     "output_type": "stream",
     "text": [
      "Iteration: 9600 -- ELBO=-7.19e+03 / RLL=-7.18e+03 / KL=1.12e+01\n"
     ]
    },
    {
     "name": "stderr",
     "output_type": "stream",
     "text": [
      "Epoch:  81%|████████  | 809/1000 [01:02<00:14, 13.51it/s]\n",
      "\n",
      "\u001b[A\u001b[A                                                  \n",
      "\n",
      "\n",
      "                                                                   \n",
      "\u001b[A                                                       \n",
      "\u001b[A\n",
      "\n",
      "Epoch:  81%|████████  | 811/1000 [01:02<00:14, 12.92it/s]"
     ]
    },
    {
     "name": "stdout",
     "output_type": "stream",
     "text": [
      "Iteration: 9700 -- ELBO=-7.30e+03 / RLL=-7.28e+03 / KL=1.09e+01\n"
     ]
    },
    {
     "name": "stderr",
     "output_type": "stream",
     "text": [
      "Epoch:  82%|████████▏ | 817/1000 [01:03<00:13, 13.15it/s]\n",
      "\n",
      "\u001b[A\u001b[A                                                  \n",
      "\n",
      "\n",
      "                                                                   \n",
      "\u001b[A                                                       \n",
      "\u001b[A\n",
      "\n",
      "Epoch:  82%|████████▏ | 819/1000 [01:03<00:13, 12.96it/s]"
     ]
    },
    {
     "name": "stdout",
     "output_type": "stream",
     "text": [
      "Iteration: 9800 -- ELBO=-7.29e+03 / RLL=-7.28e+03 / KL=1.12e+01\n"
     ]
    },
    {
     "name": "stderr",
     "output_type": "stream",
     "text": [
      "Epoch:  82%|████████▎ | 825/1000 [01:03<00:13, 13.20it/s]\n",
      "\n",
      "\u001b[A\u001b[A                                                  \n",
      "\n",
      "\n",
      "                                                                   \n",
      "\u001b[A                                                       \n",
      "\u001b[A\n",
      "\n",
      "Epoch:  83%|████████▎ | 827/1000 [01:04<00:13, 12.79it/s]"
     ]
    },
    {
     "name": "stdout",
     "output_type": "stream",
     "text": [
      "Iteration: 9900 -- ELBO=-7.32e+03 / RLL=-7.31e+03 / KL=1.14e+01\n"
     ]
    },
    {
     "name": "stderr",
     "output_type": "stream",
     "text": [
      "Epoch:  83%|████████▎ | 833/1000 [01:04<00:12, 13.21it/s]\n",
      "\n",
      "\u001b[A\u001b[A                                                  \n",
      "\n",
      "\n",
      "                                                                   \n",
      "\u001b[A                                                       \n",
      "\u001b[A\n",
      "\n",
      "Epoch:  84%|████████▎ | 835/1000 [01:04<00:12, 13.02it/s]"
     ]
    },
    {
     "name": "stdout",
     "output_type": "stream",
     "text": [
      "Iteration: 10000 -- ELBO=-7.25e+03 / RLL=-7.24e+03 / KL=1.17e+01\n"
     ]
    },
    {
     "name": "stderr",
     "output_type": "stream",
     "text": [
      "Epoch:  84%|████████▍ | 841/1000 [01:05<00:11, 13.29it/s]\n",
      "\n",
      "\u001b[A\u001b[A                                                  \n",
      "\n",
      "\n",
      "                                                                   \n",
      "\u001b[A                                                       \n",
      "\u001b[A\n",
      "\n",
      "Epoch:  84%|████████▍ | 845/1000 [01:05<00:11, 13.60it/s]"
     ]
    },
    {
     "name": "stdout",
     "output_type": "stream",
     "text": [
      "Iteration: 10100 -- ELBO=-7.22e+03 / RLL=-7.21e+03 / KL=1.14e+01\n"
     ]
    },
    {
     "name": "stderr",
     "output_type": "stream",
     "text": [
      "Epoch:  85%|████████▍ | 849/1000 [01:05<00:11, 13.61it/s]\n",
      "\n",
      "\u001b[A\u001b[A                                                  \n",
      "\n",
      "\n",
      "                                                                   \n",
      "\u001b[A                                                       \n",
      "\u001b[A\n",
      "\n",
      "Epoch:  85%|████████▌ | 853/1000 [01:06<00:10, 13.40it/s]"
     ]
    },
    {
     "name": "stdout",
     "output_type": "stream",
     "text": [
      "Iteration: 10200 -- ELBO=-7.23e+03 / RLL=-7.22e+03 / KL=1.16e+01\n"
     ]
    },
    {
     "name": "stderr",
     "output_type": "stream",
     "text": [
      "Epoch:  86%|████████▌ | 859/1000 [01:06<00:10, 13.60it/s]\n",
      "\n",
      "\u001b[A\u001b[A                                                  \n",
      "\n",
      "\n",
      "                                                                   \n",
      "\u001b[A                                                       \n",
      "\u001b[A\n",
      "\n",
      "Epoch:  86%|████████▌ | 861/1000 [01:06<00:10, 13.30it/s]\n"
     ]
    },
    {
     "name": "stdout",
     "output_type": "stream",
     "text": [
      "Iteration: 10300 -- ELBO=-7.23e+03 / RLL=-7.22e+03 / KL=1.13e+01\n"
     ]
    },
    {
     "name": "stderr",
     "output_type": "stream",
     "text": [
      "Epoch:  87%|████████▋ | 867/1000 [01:07<00:09, 13.52it/s]]\u001b[A\n",
      "\n",
      "\u001b[A\u001b[A                                                  \n",
      "\n",
      "\n",
      "                                                                   \n",
      "\u001b[A                                                       \n",
      "\u001b[A\n",
      "\n",
      "Epoch:  87%|████████▋ | 869/1000 [01:07<00:10, 13.06it/s]"
     ]
    },
    {
     "name": "stdout",
     "output_type": "stream",
     "text": [
      "Iteration: 10400 -- ELBO=-7.21e+03 / RLL=-7.19e+03 / KL=1.16e+01\n"
     ]
    },
    {
     "name": "stderr",
     "output_type": "stream",
     "text": [
      "Epoch:  88%|████████▊ | 875/1000 [01:07<00:09, 13.36it/s]\n",
      "\n",
      "\u001b[A\u001b[A                                                  \n",
      "\n",
      "\n",
      "                                                                   \n",
      "\u001b[A                                                       \n",
      "\u001b[A\n",
      "\n",
      "Epoch:  88%|████████▊ | 877/1000 [01:07<00:09, 12.79it/s]"
     ]
    },
    {
     "name": "stdout",
     "output_type": "stream",
     "text": [
      "Iteration: 10500 -- ELBO=-7.19e+03 / RLL=-7.18e+03 / KL=1.17e+01\n"
     ]
    },
    {
     "name": "stderr",
     "output_type": "stream",
     "text": [
      "Epoch:  88%|████████▊ | 883/1000 [01:08<00:08, 13.14it/s]\n",
      "\n",
      "\u001b[A\u001b[A                                                  \n",
      "\n",
      "\n",
      "                                                                   \n",
      "\u001b[A                                                       \n",
      "\u001b[A\n",
      "\n",
      "Epoch:  88%|████████▊ | 885/1000 [01:08<00:09, 12.65it/s]"
     ]
    },
    {
     "name": "stdout",
     "output_type": "stream",
     "text": [
      "Iteration: 10600 -- ELBO=-7.16e+03 / RLL=-7.15e+03 / KL=1.17e+01\n"
     ]
    },
    {
     "name": "stderr",
     "output_type": "stream",
     "text": [
      "Epoch:  89%|████████▉ | 891/1000 [01:08<00:08, 12.79it/s]\n",
      "\n",
      "\u001b[A\u001b[A                                                  \n",
      "\n",
      "\n",
      "                                                                   \n",
      "\u001b[A                                                       \n",
      "\u001b[A\n",
      "\n",
      "Epoch:  90%|████████▉ | 895/1000 [01:09<00:08, 12.54it/s]"
     ]
    },
    {
     "name": "stdout",
     "output_type": "stream",
     "text": [
      "Iteration: 10700 -- ELBO=-7.23e+03 / RLL=-7.22e+03 / KL=1.17e+01\n"
     ]
    },
    {
     "name": "stderr",
     "output_type": "stream",
     "text": [
      "Epoch:  90%|████████▉ | 899/1000 [01:09<00:08, 12.55it/s]\n",
      "\n",
      "\u001b[A\u001b[A                                                  \n",
      "\n",
      "\n",
      "                                                                   \n",
      "\u001b[A                                                       \n",
      "\u001b[A\n",
      "\n",
      "Epoch:  90%|█████████ | 903/1000 [01:09<00:07, 12.35it/s]"
     ]
    },
    {
     "name": "stdout",
     "output_type": "stream",
     "text": [
      "Iteration: 10800 -- ELBO=-7.16e+03 / RLL=-7.15e+03 / KL=1.07e+01\n"
     ]
    },
    {
     "name": "stderr",
     "output_type": "stream",
     "text": [
      "Epoch:  91%|█████████ | 909/1000 [01:10<00:07, 12.71it/s]\n",
      "\n",
      "\u001b[A\u001b[A                                                  \n",
      "\n",
      "\n",
      "                                                                   \n",
      "\u001b[A                                                       \n",
      "\u001b[A\n",
      "\n",
      "Epoch:  91%|█████████ | 911/1000 [01:10<00:07, 12.04it/s]"
     ]
    },
    {
     "name": "stdout",
     "output_type": "stream",
     "text": [
      "Iteration: 10900 -- ELBO=-7.22e+03 / RLL=-7.21e+03 / KL=1.16e+01\n"
     ]
    },
    {
     "name": "stderr",
     "output_type": "stream",
     "text": [
      "Epoch:  92%|█████████▏| 917/1000 [01:11<00:06, 12.62it/s]\n",
      "\n",
      "\u001b[A\u001b[A                                                  \n",
      "\n",
      "\n",
      "                                                                   \n",
      "\u001b[A                                                       \n",
      "\u001b[A\n",
      "\n",
      "Epoch:  92%|█████████▏| 919/1000 [01:11<00:06, 12.14it/s]"
     ]
    },
    {
     "name": "stdout",
     "output_type": "stream",
     "text": [
      "Iteration: 11000 -- ELBO=-7.19e+03 / RLL=-7.18e+03 / KL=1.12e+01\n"
     ]
    },
    {
     "name": "stderr",
     "output_type": "stream",
     "text": [
      "Epoch:  92%|█████████▎| 925/1000 [01:11<00:05, 12.73it/s]\n",
      "\n",
      "\u001b[A\u001b[A                                                  \n",
      "\n",
      "\n",
      "                                                                   \n",
      "\u001b[A                                                       \n",
      "\u001b[A\n",
      "\n",
      "Epoch:  93%|█████████▎| 927/1000 [01:11<00:05, 12.25it/s]"
     ]
    },
    {
     "name": "stdout",
     "output_type": "stream",
     "text": [
      "Iteration: 11100 -- ELBO=-7.31e+03 / RLL=-7.30e+03 / KL=1.05e+01\n"
     ]
    },
    {
     "name": "stderr",
     "output_type": "stream",
     "text": [
      "Epoch:  93%|█████████▎| 933/1000 [01:12<00:05, 12.63it/s]\n",
      "\n",
      "\u001b[A\u001b[A                                                  \n",
      "\n",
      "\n",
      "                                                                   \n",
      "\u001b[A                                                       \n",
      "\u001b[A\n",
      "\n",
      "Epoch:  94%|█████████▎| 935/1000 [01:12<00:05, 12.16it/s]"
     ]
    },
    {
     "name": "stdout",
     "output_type": "stream",
     "text": [
      "Iteration: 11200 -- ELBO=-7.18e+03 / RLL=-7.17e+03 / KL=1.14e+01\n"
     ]
    },
    {
     "name": "stderr",
     "output_type": "stream",
     "text": [
      "Epoch:  94%|█████████▍| 941/1000 [01:13<00:05, 10.19it/s]\n",
      "\n",
      "\u001b[A\u001b[A                                                  \n",
      "\n",
      "\n",
      "                                                                   \n",
      "\u001b[A                                                       \n",
      "\u001b[A\n",
      "\n",
      "Epoch:  94%|█████████▍| 945/1000 [01:13<00:04, 11.20it/s]"
     ]
    },
    {
     "name": "stdout",
     "output_type": "stream",
     "text": [
      "Iteration: 11300 -- ELBO=-7.17e+03 / RLL=-7.16e+03 / KL=1.07e+01\n"
     ]
    },
    {
     "name": "stderr",
     "output_type": "stream",
     "text": [
      "Epoch:  95%|█████████▍| 949/1000 [01:13<00:04, 12.00it/s]\n",
      "\n",
      "\u001b[A\u001b[A                                                  \n",
      "\n",
      "\n",
      "                                                                   \n",
      "\u001b[A                                                       \n",
      "\u001b[A\n",
      "\n",
      "Epoch:  95%|█████████▌| 953/1000 [01:14<00:03, 12.17it/s]"
     ]
    },
    {
     "name": "stdout",
     "output_type": "stream",
     "text": [
      "Iteration: 11400 -- ELBO=-7.22e+03 / RLL=-7.21e+03 / KL=1.07e+01\n"
     ]
    },
    {
     "name": "stderr",
     "output_type": "stream",
     "text": [
      "Epoch:  96%|█████████▌| 959/1000 [01:14<00:03, 12.62it/s]\n",
      "\n",
      "\u001b[A\u001b[A                                                  \n",
      "\n",
      "\n",
      "                                                                   \n",
      "\u001b[A                                                       \n",
      "\u001b[A\n",
      "\n",
      "Epoch:  96%|█████████▌| 961/1000 [01:14<00:03, 12.21it/s]"
     ]
    },
    {
     "name": "stdout",
     "output_type": "stream",
     "text": [
      "Iteration: 11500 -- ELBO=-7.23e+03 / RLL=-7.22e+03 / KL=1.17e+01\n"
     ]
    },
    {
     "name": "stderr",
     "output_type": "stream",
     "text": [
      "Epoch:  97%|█████████▋| 967/1000 [01:15<00:02, 12.79it/s]\n",
      "\n",
      "\u001b[A\u001b[A                                                  \n",
      "\n",
      "\n",
      "                                                                   \n",
      "\u001b[A                                                       \n",
      "\u001b[A\n",
      "\n",
      "Epoch:  97%|█████████▋| 969/1000 [01:15<00:02, 12.03it/s]"
     ]
    },
    {
     "name": "stdout",
     "output_type": "stream",
     "text": [
      "Iteration: 11600 -- ELBO=-7.20e+03 / RLL=-7.18e+03 / KL=1.17e+01\n"
     ]
    },
    {
     "name": "stderr",
     "output_type": "stream",
     "text": [
      "Epoch:  98%|█████████▊| 975/1000 [01:15<00:01, 12.68it/s]\n",
      "\n",
      "\u001b[A\u001b[A                                                  \n",
      "\n",
      "\n",
      "                                                                   \n",
      "\u001b[A                                                       \n",
      "\u001b[A\n",
      "\n",
      "Epoch:  98%|█████████▊| 977/1000 [01:16<00:01, 12.21it/s]"
     ]
    },
    {
     "name": "stdout",
     "output_type": "stream",
     "text": [
      "Iteration: 11700 -- ELBO=-7.19e+03 / RLL=-7.18e+03 / KL=1.03e+01\n"
     ]
    },
    {
     "name": "stderr",
     "output_type": "stream",
     "text": [
      "Epoch:  98%|█████████▊| 983/1000 [01:16<00:01, 12.62it/s]\n",
      "\n",
      "\u001b[A\u001b[A                                                  \n",
      "\n",
      "\n",
      "                                                                   \n",
      "\u001b[A                                                       \n",
      "\u001b[A\n",
      "\n",
      "Epoch:  98%|█████████▊| 985/1000 [01:16<00:01, 12.23it/s]"
     ]
    },
    {
     "name": "stdout",
     "output_type": "stream",
     "text": [
      "Iteration: 11800 -- ELBO=-7.20e+03 / RLL=-7.19e+03 / KL=1.09e+01\n"
     ]
    },
    {
     "name": "stderr",
     "output_type": "stream",
     "text": [
      "Epoch:  99%|█████████▉| 991/1000 [01:17<00:00, 12.70it/s]\n",
      "\n",
      "\u001b[A\u001b[A                                                  \n",
      "\n",
      "\n",
      "                                                                   \n",
      "\u001b[A                                                       \n",
      "\u001b[A\n",
      "\n",
      "Epoch: 100%|█████████▉| 995/1000 [01:17<00:00, 12.65it/s]"
     ]
    },
    {
     "name": "stdout",
     "output_type": "stream",
     "text": [
      "Iteration: 11900 -- ELBO=-7.23e+03 / RLL=-7.22e+03 / KL=1.14e+01\n"
     ]
    },
    {
     "name": "stderr",
     "output_type": "stream",
     "text": [
      "Epoch: 100%|█████████▉| 999/1000 [01:17<00:00, 12.77it/s]\n",
      "\n",
      "\u001b[A\u001b[A                                                  \n",
      "\n",
      "\n",
      "                                                                   \n",
      "\u001b[A                                                       \n",
      "\u001b[A\n",
      "\n",
      "Epoch: 100%|██████████| 1000/1000 [01:18<00:00, 12.81it/s]\n",
      "Iteration in Epoch: 100%|██████████| 12/12 [00:00<00:00, 125.55it/s]"
     ]
    },
    {
     "name": "stdout",
     "output_type": "stream",
     "text": [
      "Iteration: 12000 -- ELBO=-7.17e+03 / RLL=-7.16e+03 / KL=1.02e+01\n"
     ]
    },
    {
     "name": "stderr",
     "output_type": "stream",
     "text": [
      "\n"
     ]
    }
   ],
   "source": [
    "# Train the model using default partitioning choice \n",
    "model.train(lr=lr,\n",
    "            dataloader = torch.utils.data.DataLoader(dataset, batch_size=batch_size, shuffle=True),\n",
    "            num_epochs = num_epochs,\n",
    "            beta = beta,\n",
    "            prior_params = prior_params,\n",
    "            mc_samples = 1,\n",
    "            learn_prior = learn_prior,\n",
    "            tensorboard = False,\n",
    "            )"
   ]
  },
  {
   "cell_type": "code",
   "execution_count": 46,
   "metadata": {},
   "outputs": [
    {
     "data": {
      "text/plain": [
       "tensor([1., 1., 1., 1., 1., 1., 1., 1., 1., 1.])"
      ]
     },
     "execution_count": 46,
     "metadata": {},
     "output_type": "execute_result"
    }
   ],
   "source": [
    "model.prior_params[\"alpha\"]"
   ]
  },
  {
   "cell_type": "code",
   "execution_count": 47,
   "metadata": {},
   "outputs": [],
   "source": [
    "_, theta_dict = model(X_document.to(torch.float32))\n",
    "gamma_document = theta_dict['params']['alpha'].detach().T\n",
    "gamma_document_mean = gamma_document / gamma_document.sum(dim=0, keepdim=True)"
   ]
  },
  {
   "cell_type": "code",
   "execution_count": 48,
   "metadata": {},
   "outputs": [
    {
     "data": {
      "image/png": "[encoded data removed]",
      "text/plain": [
       "<Figure size 1500x500 with 2 Axes>"
      ]
     },
     "metadata": {},
     "output_type": "display_data"
    }
   ],
   "source": [
    "fig, ax = plt.subplots(figsize=(15,5))\n",
    "im = ax.imshow(gamma_document, aspect='auto', cmap='Purples', interpolation='none')\n",
    "ax.set_title('Topic distribution per document (Gamma of documents)')\n",
    "ax.set_ylabel('Topic')\n",
    "ax.set_xlabel('Document')\n",
    "ax.set_yticks(np.arange(num_topics))\n",
    "ax.set_xticks(np.arange(num_docs))\n",
    "ax.tick_params(axis=u'both', which=u'both',length=0)\n",
    "ax.xaxis.tick_top()\n",
    "ax.xaxis.set_label_position('top')\n",
    "fig.colorbar(im, ax=ax, label='Gamma')\n",
    "plt.show()"
   ]
  },
  {
   "cell_type": "code",
   "execution_count": 49,
   "metadata": {},
   "outputs": [
    {
     "data": {
      "image/png": "[encoded data removed]",
      "text/plain": [
       "<Figure size 1500x500 with 2 Axes>"
      ]
     },
     "metadata": {},
     "output_type": "display_data"
    }
   ],
   "source": [
    "fig, ax = plt.subplots(figsize=(15,5))\n",
    "im = ax.imshow(gamma_document_mean, aspect='auto', cmap='Purples', interpolation='none')\n",
    "ax.set_title('Topic distribution per document (Gamma of documents)')\n",
    "ax.set_ylabel('Topic')\n",
    "ax.set_xlabel('Document')\n",
    "ax.set_yticks(np.arange(num_topics))\n",
    "ax.set_xticks(np.arange(num_docs))\n",
    "ax.tick_params(axis=u'both', which=u'both',length=0)\n",
    "ax.xaxis.tick_top()\n",
    "ax.xaxis.set_label_position('top')\n",
    "fig.colorbar(im, ax=ax, label='Mean')\n",
    "plt.show()"
   ]
  },
  {
   "cell_type": "code",
   "execution_count": 50,
   "metadata": {},
   "outputs": [
    {
     "data": {
      "text/plain": [
       "<matplotlib.collections.PathCollection at 0x7f3e3eec3c10>"
      ]
     },
     "execution_count": 50,
     "metadata": {},
     "output_type": "execute_result"
    },
    {
     "data": {
      "image/png": "[encoded data removed]",
      "text/plain": [
       "<Figure size 2000x500 with 1 Axes>"
      ]
     },
     "metadata": {},
     "output_type": "display_data"
    }
   ],
   "source": [
    "fig, ax = plt.subplots(figsize=(20,5))\n",
    "plt.scatter(np.arange(num_days), gamma_document.sum(axis=0))"
   ]
  },
  {
   "cell_type": "code",
   "execution_count": 51,
   "metadata": {},
   "outputs": [],
   "source": [
    "## entropy of dirichlet distribution\n",
    "entropy = torch.distributions.dirichlet.Dirichlet(theta_dict['params']['alpha'].detach()).entropy()"
   ]
  },
  {
   "cell_type": "code",
   "execution_count": 52,
   "metadata": {},
   "outputs": [
    {
     "data": {
      "text/plain": [
       "<matplotlib.collections.PathCollection at 0x7f3e3ede52b0>"
      ]
     },
     "execution_count": 52,
     "metadata": {},
     "output_type": "execute_result"
    },
    {
     "data": {
      "image/png": "[encoded data removed]",
      "text/plain": [
       "<Figure size 2000x500 with 1 Axes>"
      ]
     },
     "metadata": {},
     "output_type": "display_data"
    }
   ],
   "source": [
    "fig, ax = plt.subplots(figsize=(20,5))\n",
    "plt.scatter(np.arange(num_days), entropy)"
   ]
  },
  {
   "cell_type": "code",
   "execution_count": 53,
   "metadata": {},
   "outputs": [
    {
     "data": {
      "text/plain": [
       "<matplotlib.collections.PathCollection at 0x7f3e3ecd6ac0>"
      ]
     },
     "execution_count": 53,
     "metadata": {},
     "output_type": "execute_result"
    },
    {
     "data": {
      "image/png": "[encoded data removed]",
      "text/plain": [
       "<Figure size 640x480 with 1 Axes>"
      ]
     },
     "metadata": {},
     "output_type": "display_data"
    }
   ],
   "source": [
    "plt.scatter(gamma_document.sum(axis=0), entropy)"
   ]
  },
  {
   "cell_type": "code",
   "execution_count": 54,
   "metadata": {},
   "outputs": [],
   "source": [
    "corpus = X_document.to(torch.float32)\n",
    "corp_mean = corpus.mean(dim=1, keepdim=True)\n",
    "inputs = corpus/corp_mean"
   ]
  },
  {
   "cell_type": "code",
   "execution_count": 55,
   "metadata": {},
   "outputs": [
    {
     "data": {
      "text/plain": [
       "tensor([0.0005, 0.0046, 0.4853, 0.0322, 0.0301, 0.0301, 0.0058, 0.0078, 0.2418,\n",
       "        0.1618], grad_fn=<SelectBackward0>)"
      ]
     },
     "execution_count": 55,
     "metadata": {},
     "output_type": "execute_result"
    }
   ],
   "source": [
    "model.encoder(inputs)['alpha'].log().softmax(1)[100]"
   ]
  },
  {
   "cell_type": "code",
   "execution_count": 56,
   "metadata": {},
   "outputs": [
    {
     "data": {
      "text/plain": [
       "tensor([0.0129, 0.0188, 0.3872, 0.0899, 0.0391, 0.0408, 0.0139, 0.0200, 0.2378,\n",
       "        0.1397])"
      ]
     },
     "execution_count": 56,
     "metadata": {},
     "output_type": "execute_result"
    }
   ],
   "source": [
    "gamma_document_mean[:,100]"
   ]
  },
  {
   "cell_type": "code",
   "execution_count": 57,
   "metadata": {},
   "outputs": [
    {
     "data": {
      "image/png": "[encoded data removed]",
      "text/plain": [
       "<Figure size 1500x500 with 2 Axes>"
      ]
     },
     "metadata": {},
     "output_type": "display_data"
    }
   ],
   "source": [
    "fig, ax = plt.subplots(figsize=(15,5))\n",
    "im = ax.imshow(model.encoder(inputs)['alpha'].log().softmax(1).detach().T, aspect='auto', cmap='Purples', interpolation='none')\n",
    "ax.set_title('Topic distribution per document (Gamma of documents)')\n",
    "ax.set_ylabel('Topic')\n",
    "ax.set_xlabel('Document')\n",
    "ax.set_yticks(np.arange(num_topics))\n",
    "ax.set_xticks(np.arange(num_docs))\n",
    "ax.tick_params(axis=u'both', which=u'both',length=0)\n",
    "ax.xaxis.tick_top()\n",
    "ax.xaxis.set_label_position('top')\n",
    "fig.colorbar(im, ax=ax, label='Mean')\n",
    "plt.show()"
   ]
  },
  {
   "cell_type": "code",
   "execution_count": null,
   "metadata": {},
   "outputs": [],
   "source": []
  }
 ],
 "metadata": {
  "kernelspec": {
   "display_name": "torchenv",
   "language": "python",
   "name": "python3"
  },
  "language_info": {
   "codemirror_mode": {
    "name": "ipython",
    "version": 3
   },
   "file_extension": ".py",
   "mimetype": "text/x-python",
   "name": "python",
   "nbconvert_exporter": "python",
   "pygments_lexer": "ipython3",
   "version": "3.9.15"
  }
 },
 "nbformat": 4,
 "nbformat_minor": 2
}
