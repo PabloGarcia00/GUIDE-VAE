{
 "cells": [
  {
   "cell_type": "markdown",
   "metadata": {},
   "source": [
    "# User Latent Dirichlet Allocation"
   ]
  },
  {
   "cell_type": "code",
   "execution_count": 2,
   "metadata": {},
   "outputs": [],
   "source": [
    "import os, sys\n",
    "import numpy as np\n",
    "import pandas as pd\n",
    "import matplotlib.pyplot as plt\n",
    "import seaborn as sns\n",
    "import torch\n",
    "sys.path.append(os.path.abspath('../../vae_playground'))\n",
    "sys.path.append(os.path.abspath('..'))"
   ]
  },
  {
   "cell_type": "code",
   "execution_count": 3,
   "metadata": {},
   "outputs": [],
   "source": [
    "%load_ext autoreload\n",
    "%autoreload 2\n",
    "\n",
    "from lib.models import InductiveLDA as InductiveLDA\n",
    "\n",
    "from sklearn.cluster import KMeans\n",
    "\n",
    "import vae_playground.datasets as datasets"
   ]
  },
  {
   "cell_type": "markdown",
   "metadata": {},
   "source": [
    "Import Data"
   ]
  },
  {
   "cell_type": "code",
   "execution_count": 4,
   "metadata": {},
   "outputs": [],
   "source": [
    "DATASET_NAME = 'goi4_dp_small'\n",
    "RANDOM_SEED = 2112\n",
    "np.random.seed(RANDOM_SEED)"
   ]
  },
  {
   "cell_type": "code",
   "execution_count": 5,
   "metadata": {},
   "outputs": [
    {
     "name": "stdout",
     "output_type": "stream",
     "text": [
      "Loaded 631815 consumption profiles from 365 dates and 1731 users\n"
     ]
    }
   ],
   "source": [
    "df = pd.read_csv(f'../data/{DATASET_NAME}/dataset.csv')\n",
    "data, dates, users = df.iloc[:,:-2].values, df.date.values, df.user.values\n",
    "date_ids, user_ids = df.date.unique(), df.user.unique()\n",
    "num_days, num_users = len(date_ids), len(user_ids)\n",
    "print(f'Loaded {len(data)} consumption profiles from {num_days} dates and {num_users} users')"
   ]
  },
  {
   "cell_type": "code",
   "execution_count": 6,
   "metadata": {},
   "outputs": [],
   "source": [
    "RESOLUTION = 1 #in hours\n",
    "\n",
    "if RESOLUTION == 12:\n",
    "    X = torch.tensor(data, dtype=torch.float32).reshape(-1, 24)\n",
    "    #circle shift the last dimension of X\n",
    "    X = torch.cat([X[:,6:], X[:,:6]], dim=-1).reshape(num_users, num_days, int(24/RESOLUTION), int(RESOLUTION)).sum(dim=-1)\n",
    "else:\n",
    "    X = torch.tensor(data, dtype=torch.float32).reshape(num_users, num_days, int(24/RESOLUTION), int(RESOLUTION)).sum(dim=-1)\n",
    "dates, users = np.reshape(dates, (num_users, num_days)), np.reshape(users, (num_users, num_days))"
   ]
  },
  {
   "cell_type": "code",
   "execution_count": 7,
   "metadata": {},
   "outputs": [
    {
     "name": "stdout",
     "output_type": "stream",
     "text": [
      "Removing 4 users with all-zero consumption profiles\n",
      "Removing 18 users with any-negative consumption profiles\n"
     ]
    }
   ],
   "source": [
    "# Remove users with all-zero consumption profiles\n",
    "nonzero_user_mask = torch.sum(torch.all(X == 0, dim=2), dim=1) < num_days\n",
    "print(f'Removing {(~nonzero_user_mask).sum()} users with all-zero consumption profiles')\n",
    "positive_user_mask = torch.sum(torch.any(X < 0, dim=2), dim=1) == 0\n",
    "print(f'Removing {(~positive_user_mask).sum()} users with any-negative consumption profiles')\n",
    "user_mask = nonzero_user_mask & positive_user_mask"
   ]
  },
  {
   "cell_type": "code",
   "execution_count": 8,
   "metadata": {},
   "outputs": [],
   "source": [
    "X = X[user_mask]\n",
    "dates, users = dates[user_mask], users[user_mask]\n",
    "user_ids = user_ids[user_mask]"
   ]
  },
  {
   "cell_type": "code",
   "execution_count": 9,
   "metadata": {},
   "outputs": [
    {
     "name": "stdout",
     "output_type": "stream",
     "text": [
      "Number of (subsampled/filtered) users: 1709\n",
      "Number of (subsampled) days: 365\n",
      "Number of (aggregated) features: 24\n"
     ]
    }
   ],
   "source": [
    "USER_SUBSAMPLE_RATE = 1\n",
    "DAY_SUBSAMPLE_RATE = 1\n",
    "X = X[::USER_SUBSAMPLE_RATE, ::DAY_SUBSAMPLE_RATE, :]\n",
    "num_users, num_days, num_features = X.shape\n",
    "X = X.flatten(end_dim=1)\n",
    "print(f\"Number of (subsampled/filtered) users: {num_users}\")\n",
    "print(f\"Number of (subsampled) days: {num_days}\")\n",
    "print(f\"Number of (aggregated) features: {num_features}\")"
   ]
  },
  {
   "cell_type": "code",
   "execution_count": 10,
   "metadata": {},
   "outputs": [],
   "source": [
    "nonzero_mean, nonzero_std = datasets.zero_preserved_log_stats(X)\n",
    "X_norm = datasets.zero_preserved_log_normalize(X, nonzero_mean, nonzero_std).reshape(num_users, num_days, num_features)\n",
    "dataset = datasets.UserDayDataset(X_norm)\n",
    "X_flt = dataset.flatten_inputs\n",
    "user_idx, day_idx = dataset.user_day_list[:,0], dataset.user_day_list[:,1]"
   ]
  },
  {
   "cell_type": "code",
   "execution_count": 11,
   "metadata": {},
   "outputs": [],
   "source": [
    "df_plt = pd.DataFrame(torch.cat((X_flt, user_idx.unsqueeze(1), day_idx.unsqueeze(1)), dim=-1))\n",
    "df_plt.columns = [f'feature_{i}' for i in range(num_features)] + ['user'] + ['day']"
   ]
  },
  {
   "cell_type": "code",
   "execution_count": 12,
   "metadata": {},
   "outputs": [],
   "source": [
    "if num_users <= 100 and num_features == 2:\n",
    "    sns.scatterplot(df_plt, x=\"feature_0\", y=\"feature_1\", hue='user', palette=\"Set1\", alpha=.5)\n",
    "    # move the legend outside\n",
    "    plt.legend(bbox_to_anchor=(1.05, 1), loc=2, borderaxespad=0., title='user', ncol=5)\n",
    "    plt.xlabel('Diurnal consumption')\n",
    "    plt.ylabel('Nocturnal consumption')\n",
    "    plt.show()"
   ]
  },
  {
   "cell_type": "code",
   "execution_count": 13,
   "metadata": {},
   "outputs": [],
   "source": [
    "n_bins = 100\n",
    "kmeans = KMeans(n_clusters=n_bins, random_state=RANDOM_SEED, n_init='auto').fit(X_flt)"
   ]
  },
  {
   "cell_type": "code",
   "execution_count": 14,
   "metadata": {},
   "outputs": [],
   "source": [
    "labels = kmeans.labels_\n",
    "labels_onehot = np.zeros((len(labels), len(set(labels))))\n",
    "labels_onehot[np.arange(len(labels)), labels] = 1\n",
    "X_words = torch.tensor(labels_onehot).reshape(num_users, num_days, -1)"
   ]
  },
  {
   "cell_type": "code",
   "execution_count": 15,
   "metadata": {},
   "outputs": [],
   "source": [
    "DOC_TYPE = \"day\"       # \"day\" or \"user\"\n",
    "\n",
    "if DOC_TYPE == \"day\":\n",
    "    X_document, num_words = X_words.sum(dim=0), num_users\n",
    "elif DOC_TYPE == \"user\":\n",
    "    X_document, num_words = X_words.sum(dim=1), num_days\n",
    "else:\n",
    "    raise ValueError(f\"Invalid DOC_TYPE: {DOC_TYPE}\")\n",
    "\n",
    "num_docs, dict_size = X_document.shape[0], n_bins"
   ]
  },
  {
   "cell_type": "code",
   "execution_count": 16,
   "metadata": {},
   "outputs": [],
   "source": [
    "if dict_size <= 50 and num_features == 2:\n",
    "    df_plt = pd.DataFrame(torch.cat((X_flt,torch.tensor(labels).unsqueeze(1)), dim=-1))\n",
    "    df_plt.columns = [f'feature_{i}' for i in range(num_features)] + ['word']\n",
    "    sns.scatterplot(df_plt, x=\"feature_0\", y=\"feature_1\", hue='word', palette=\"Set2\", alpha=.5)\n",
    "    plt.scatter(kmeans.cluster_centers_[:,0], kmeans.cluster_centers_[:,1], marker='x', s=100, c='black')\n",
    "    plt.legend(bbox_to_anchor=(1.05, 1), loc=2, borderaxespad=0., title='word_id', ncol=5)\n",
    "    plt.xlabel('Diurnal consumption')\n",
    "    plt.ylabel('Nocturnal consumption')\n",
    "    plt.show()"
   ]
  },
  {
   "cell_type": "code",
   "execution_count": 17,
   "metadata": {},
   "outputs": [],
   "source": [
    "X_labels = torch.tensor(labels).reshape(num_users, num_days)\n",
    "if DOC_TYPE == \"day\": X_labels = X_labels.T"
   ]
  },
  {
   "cell_type": "code",
   "execution_count": 18,
   "metadata": {},
   "outputs": [],
   "source": [
    "class Dataset(torch.utils.data.Dataset):\n",
    "    def __init__(self, X): self.X = X\n",
    "    def __len__(self): return len(self.X)\n",
    "    def __getitem__(self, index): return self.X[index]"
   ]
  },
  {
   "cell_type": "code",
   "execution_count": 19,
   "metadata": {},
   "outputs": [],
   "source": [
    "dataset = Dataset(X_document.to(torch.float32))"
   ]
  },
  {
   "cell_type": "code",
   "execution_count": 20,
   "metadata": {},
   "outputs": [],
   "source": [
    "# Set training parameters.\n",
    "num_topics = 10\n",
    "prodlda = False\n",
    "conv = False\n",
    "num_layers = 2 # num hidden layers in the NN block. There are at least 1+num_heads hidden layers in the encoder and decoder. num_layers comes on top of those. Total number of hidden layers is 1+num_layers+num_heads.\n",
    "num_neurons = 200\n",
    "dropout = True\n",
    "dropout_rate = 0.5\n",
    "batch_normalization = True\n",
    "prior_params = {'alpha': 1.0}"
   ]
  },
  {
   "cell_type": "code",
   "execution_count": 21,
   "metadata": {},
   "outputs": [],
   "source": [
    "model = InductiveLDA(input_dim=n_bins,\n",
    "                    num_topics=num_topics,\n",
    "                    prior_params=prior_params,\n",
    "                    conv=conv,\n",
    "                    prodlda=prodlda,\n",
    "                    num_hidden_layers=num_layers,\n",
    "                    num_neurons=num_neurons,\n",
    "                    dropout=dropout,\n",
    "                    dropout_rate=dropout_rate,\n",
    "                    batch_normalization=batch_normalization,\n",
    "                    )"
   ]
  },
  {
   "cell_type": "code",
   "execution_count": 22,
   "metadata": {},
   "outputs": [],
   "source": [
    "lr = 1e-3\n",
    "batch_size = 32\n",
    "num_epochs = 1000\n",
    "beta = 1.0\n",
    "learn_prior = True"
   ]
  },
  {
   "cell_type": "code",
   "execution_count": 23,
   "metadata": {},
   "outputs": [
    {
     "name": "stderr",
     "output_type": "stream",
     "text": [
      "Epoch:   0%|          | 0/1000 [00:00<?, ?it/s]"
     ]
    },
    {
     "name": "stderr",
     "output_type": "stream",
     "text": [
      "Epoch:   0%|          | 1/1000 [00:00<11:48,  1.41it/s]/home/kbolat/miniconda3/envs/torchenv/lib/python3.9/site-packages/torch/autograd/__init__.py:251: UserWarning: CUDA initialization: The NVIDIA driver on your system is too old (found version 11020). Please update your GPU driver by downloading and installing a new version from the URL: http://www.nvidia.com/Download/index.aspx Alternatively, go to: https://pytorch.org to install a PyTorch version that has been compiled with your version of the CUDA driver. (Triggered internally at ../c10/cuda/CUDAFunctions.cpp:108.)\n",
      "  Variable._execution_engine.run_backward(  # Calls into the C++ engine to run the backward pass\n",
      "                                                       \n",
      "Epoch:   1%|          | 10/1000 [00:01<02:11,  7.54it/s]  "
     ]
    },
    {
     "name": "stdout",
     "output_type": "stream",
     "text": [
      "Iteration: 100 -- ELBO=-7.93e+03 / RLL=-7.91e+03 / KL=2.18e+01\n"
     ]
    },
    {
     "name": "stderr",
     "output_type": "stream",
     "text": [
      "                                                        \n",
      "Epoch:   2%|▏         | 20/1000 [00:02<01:17, 12.56it/s]  "
     ]
    },
    {
     "name": "stdout",
     "output_type": "stream",
     "text": [
      "Iteration: 200 -- ELBO=-7.83e+03 / RLL=-7.81e+03 / KL=2.17e+01\n"
     ]
    },
    {
     "name": "stderr",
     "output_type": "stream",
     "text": [
      "                                                        \n",
      "Epoch:   3%|▎         | 28/1000 [00:03<01:04, 14.97it/s]  "
     ]
    },
    {
     "name": "stdout",
     "output_type": "stream",
     "text": [
      "Iteration: 300 -- ELBO=-7.74e+03 / RLL=-7.72e+03 / KL=2.12e+01\n"
     ]
    },
    {
     "name": "stderr",
     "output_type": "stream",
     "text": [
      "                                                        \n",
      "Epoch:   4%|▎         | 36/1000 [00:03<01:02, 15.50it/s]  "
     ]
    },
    {
     "name": "stdout",
     "output_type": "stream",
     "text": [
      "Iteration: 400 -- ELBO=-7.69e+03 / RLL=-7.67e+03 / KL=2.09e+01\n"
     ]
    },
    {
     "name": "stderr",
     "output_type": "stream",
     "text": [
      "                                                        \n",
      "Epoch:   4%|▍         | 44/1000 [00:04<01:00, 15.90it/s]  "
     ]
    },
    {
     "name": "stdout",
     "output_type": "stream",
     "text": [
      "Iteration: 500 -- ELBO=-7.63e+03 / RLL=-7.61e+03 / KL=2.03e+01\n"
     ]
    },
    {
     "name": "stderr",
     "output_type": "stream",
     "text": [
      "                                                        \n",
      "Epoch:   5%|▌         | 54/1000 [00:04<00:58, 16.23it/s]  "
     ]
    },
    {
     "name": "stdout",
     "output_type": "stream",
     "text": [
      "Iteration: 600 -- ELBO=-7.62e+03 / RLL=-7.60e+03 / KL=1.94e+01\n"
     ]
    },
    {
     "name": "stderr",
     "output_type": "stream",
     "text": [
      "                                                        \n",
      "Epoch:   6%|▌         | 62/1000 [00:05<00:58, 16.02it/s]  "
     ]
    },
    {
     "name": "stdout",
     "output_type": "stream",
     "text": [
      "Iteration: 700 -- ELBO=-7.53e+03 / RLL=-7.51e+03 / KL=1.88e+01\n"
     ]
    },
    {
     "name": "stderr",
     "output_type": "stream",
     "text": [
      "                                                        \n",
      "Epoch:   7%|▋         | 70/1000 [00:05<00:57, 16.11it/s]  "
     ]
    },
    {
     "name": "stdout",
     "output_type": "stream",
     "text": [
      "Iteration: 800 -- ELBO=-7.47e+03 / RLL=-7.45e+03 / KL=1.82e+01\n"
     ]
    },
    {
     "name": "stderr",
     "output_type": "stream",
     "text": [
      "                                                        \n",
      "Epoch:   8%|▊         | 78/1000 [00:06<00:57, 16.14it/s]  "
     ]
    },
    {
     "name": "stdout",
     "output_type": "stream",
     "text": [
      "Iteration: 900 -- ELBO=-7.48e+03 / RLL=-7.46e+03 / KL=1.77e+01\n"
     ]
    },
    {
     "name": "stderr",
     "output_type": "stream",
     "text": [
      "                                                        \n",
      "Epoch:   9%|▊         | 86/1000 [00:06<00:56, 16.21it/s]  "
     ]
    },
    {
     "name": "stdout",
     "output_type": "stream",
     "text": [
      "Iteration: 1000 -- ELBO=-7.39e+03 / RLL=-7.38e+03 / KL=1.74e+01\n"
     ]
    },
    {
     "name": "stderr",
     "output_type": "stream",
     "text": [
      "                                                        \n",
      "Epoch:   9%|▉         | 94/1000 [00:07<00:57, 15.89it/s]  "
     ]
    },
    {
     "name": "stdout",
     "output_type": "stream",
     "text": [
      "Iteration: 1100 -- ELBO=-7.42e+03 / RLL=-7.41e+03 / KL=1.71e+01\n"
     ]
    },
    {
     "name": "stderr",
     "output_type": "stream",
     "text": [
      "                                                         \n",
      "Epoch:  10%|█         | 102/1000 [00:07<01:00, 14.89it/s] "
     ]
    },
    {
     "name": "stdout",
     "output_type": "stream",
     "text": [
      "Iteration: 1200 -- ELBO=-7.39e+03 / RLL=-7.37e+03 / KL=1.68e+01\n"
     ]
    },
    {
     "name": "stderr",
     "output_type": "stream",
     "text": [
      "                                                         \n",
      "Epoch:  11%|█         | 112/1000 [00:08<00:59, 14.95it/s] "
     ]
    },
    {
     "name": "stdout",
     "output_type": "stream",
     "text": [
      "Iteration: 1300 -- ELBO=-7.36e+03 / RLL=-7.35e+03 / KL=1.68e+01\n"
     ]
    },
    {
     "name": "stderr",
     "output_type": "stream",
     "text": [
      "                                                         \n",
      "Epoch:  12%|█▏        | 120/1000 [00:08<00:56, 15.62it/s] "
     ]
    },
    {
     "name": "stdout",
     "output_type": "stream",
     "text": [
      "Iteration: 1400 -- ELBO=-7.34e+03 / RLL=-7.33e+03 / KL=1.64e+01\n"
     ]
    },
    {
     "name": "stderr",
     "output_type": "stream",
     "text": [
      "                                                         \n",
      "Epoch:  13%|█▎        | 128/1000 [00:09<00:53, 16.21it/s] "
     ]
    },
    {
     "name": "stdout",
     "output_type": "stream",
     "text": [
      "Iteration: 1500 -- ELBO=-7.38e+03 / RLL=-7.37e+03 / KL=1.65e+01\n"
     ]
    },
    {
     "name": "stderr",
     "output_type": "stream",
     "text": [
      "                                                         \n",
      "Epoch:  14%|█▎        | 136/1000 [00:09<00:59, 14.63it/s] "
     ]
    },
    {
     "name": "stdout",
     "output_type": "stream",
     "text": [
      "Iteration: 1600 -- ELBO=-7.33e+03 / RLL=-7.31e+03 / KL=1.64e+01\n"
     ]
    },
    {
     "name": "stderr",
     "output_type": "stream",
     "text": [
      "                                                         \n",
      "Epoch:  14%|█▍        | 144/1000 [00:10<00:55, 15.51it/s] "
     ]
    },
    {
     "name": "stdout",
     "output_type": "stream",
     "text": [
      "Iteration: 1700 -- ELBO=-7.31e+03 / RLL=-7.29e+03 / KL=1.65e+01\n"
     ]
    },
    {
     "name": "stderr",
     "output_type": "stream",
     "text": [
      "                                                         \n",
      "Epoch:  15%|█▌        | 154/1000 [00:11<00:53, 15.91it/s] "
     ]
    },
    {
     "name": "stdout",
     "output_type": "stream",
     "text": [
      "Iteration: 1800 -- ELBO=-7.39e+03 / RLL=-7.37e+03 / KL=1.65e+01\n"
     ]
    },
    {
     "name": "stderr",
     "output_type": "stream",
     "text": [
      "                                                         \n",
      "Epoch:  16%|█▌        | 162/1000 [00:11<00:51, 16.21it/s] "
     ]
    },
    {
     "name": "stdout",
     "output_type": "stream",
     "text": [
      "Iteration: 1900 -- ELBO=-7.33e+03 / RLL=-7.31e+03 / KL=1.62e+01\n"
     ]
    },
    {
     "name": "stderr",
     "output_type": "stream",
     "text": [
      "                                                         \n",
      "Epoch:  17%|█▋        | 170/1000 [00:12<00:51, 16.13it/s] "
     ]
    },
    {
     "name": "stdout",
     "output_type": "stream",
     "text": [
      "Iteration: 2000 -- ELBO=-7.27e+03 / RLL=-7.25e+03 / KL=1.60e+01\n"
     ]
    },
    {
     "name": "stderr",
     "output_type": "stream",
     "text": [
      "                                                         \n",
      "Epoch:  18%|█▊        | 178/1000 [00:12<00:50, 16.31it/s] "
     ]
    },
    {
     "name": "stdout",
     "output_type": "stream",
     "text": [
      "Iteration: 2100 -- ELBO=-7.28e+03 / RLL=-7.26e+03 / KL=1.59e+01\n"
     ]
    },
    {
     "name": "stderr",
     "output_type": "stream",
     "text": [
      "                                                         \n",
      "Epoch:  19%|█▊        | 186/1000 [00:13<00:52, 15.36it/s] "
     ]
    },
    {
     "name": "stdout",
     "output_type": "stream",
     "text": [
      "Iteration: 2200 -- ELBO=-7.28e+03 / RLL=-7.27e+03 / KL=1.61e+01\n"
     ]
    },
    {
     "name": "stderr",
     "output_type": "stream",
     "text": [
      "                                                         \n",
      "Epoch:  19%|█▉        | 194/1000 [00:13<00:53, 14.96it/s] "
     ]
    },
    {
     "name": "stdout",
     "output_type": "stream",
     "text": [
      "Iteration: 2300 -- ELBO=-7.32e+03 / RLL=-7.31e+03 / KL=1.59e+01\n"
     ]
    },
    {
     "name": "stderr",
     "output_type": "stream",
     "text": [
      "                                                         \n",
      "Epoch:  20%|██        | 202/1000 [00:14<00:53, 14.93it/s] "
     ]
    },
    {
     "name": "stdout",
     "output_type": "stream",
     "text": [
      "Iteration: 2400 -- ELBO=-7.24e+03 / RLL=-7.23e+03 / KL=1.52e+01\n"
     ]
    },
    {
     "name": "stderr",
     "output_type": "stream",
     "text": [
      "                                                         \n",
      "Epoch:  21%|██        | 212/1000 [00:14<00:49, 15.83it/s] "
     ]
    },
    {
     "name": "stdout",
     "output_type": "stream",
     "text": [
      "Iteration: 2500 -- ELBO=-7.26e+03 / RLL=-7.25e+03 / KL=1.56e+01\n"
     ]
    },
    {
     "name": "stderr",
     "output_type": "stream",
     "text": [
      "                                                         \n",
      "Epoch:  22%|██▏       | 220/1000 [00:15<00:47, 16.26it/s] "
     ]
    },
    {
     "name": "stdout",
     "output_type": "stream",
     "text": [
      "Iteration: 2600 -- ELBO=-7.26e+03 / RLL=-7.24e+03 / KL=1.55e+01\n"
     ]
    },
    {
     "name": "stderr",
     "output_type": "stream",
     "text": [
      "                                                         \n",
      "Epoch:  23%|██▎       | 228/1000 [00:15<00:48, 15.86it/s] \n"
     ]
    },
    {
     "name": "stdout",
     "output_type": "stream",
     "text": [
      "Iteration: 2700 -- ELBO=-7.35e+03 / RLL=-7.33e+03 / KL=1.55e+01\n"
     ]
    },
    {
     "name": "stderr",
     "output_type": "stream",
     "text": [
      "                                                         ]\u001b[A\n",
      "Epoch:  24%|██▎       | 236/1000 [00:16<00:50, 15.11it/s] "
     ]
    },
    {
     "name": "stdout",
     "output_type": "stream",
     "text": [
      "Iteration: 2800 -- ELBO=-7.29e+03 / RLL=-7.27e+03 / KL=1.55e+01\n"
     ]
    },
    {
     "name": "stderr",
     "output_type": "stream",
     "text": [
      "                                                         \n",
      "Epoch:  24%|██▍       | 244/1000 [00:16<00:51, 14.72it/s] "
     ]
    },
    {
     "name": "stdout",
     "output_type": "stream",
     "text": [
      "Iteration: 2900 -- ELBO=-7.26e+03 / RLL=-7.24e+03 / KL=1.55e+01\n"
     ]
    },
    {
     "name": "stderr",
     "output_type": "stream",
     "text": [
      "                                                         \n",
      "Epoch:  25%|██▌       | 252/1000 [00:17<00:49, 15.17it/s] "
     ]
    },
    {
     "name": "stdout",
     "output_type": "stream",
     "text": [
      "Iteration: 3000 -- ELBO=-7.28e+03 / RLL=-7.26e+03 / KL=1.56e+01\n"
     ]
    },
    {
     "name": "stderr",
     "output_type": "stream",
     "text": [
      "                                                         \n",
      "Epoch:  26%|██▌       | 262/1000 [00:18<00:49, 14.99it/s] "
     ]
    },
    {
     "name": "stdout",
     "output_type": "stream",
     "text": [
      "Iteration: 3100 -- ELBO=-7.31e+03 / RLL=-7.30e+03 / KL=1.57e+01\n"
     ]
    },
    {
     "name": "stderr",
     "output_type": "stream",
     "text": [
      "                                                         \n",
      "Epoch:  27%|██▋       | 270/1000 [00:18<00:49, 14.86it/s] "
     ]
    },
    {
     "name": "stdout",
     "output_type": "stream",
     "text": [
      "Iteration: 3200 -- ELBO=-7.24e+03 / RLL=-7.22e+03 / KL=1.53e+01\n"
     ]
    },
    {
     "name": "stderr",
     "output_type": "stream",
     "text": [
      "                                                         \n",
      "Epoch:  28%|██▊       | 278/1000 [00:19<00:48, 15.00it/s] "
     ]
    },
    {
     "name": "stdout",
     "output_type": "stream",
     "text": [
      "Iteration: 3300 -- ELBO=-7.25e+03 / RLL=-7.23e+03 / KL=1.54e+01\n"
     ]
    },
    {
     "name": "stderr",
     "output_type": "stream",
     "text": [
      "                                                         \n",
      "Epoch:  29%|██▊       | 286/1000 [00:19<00:48, 14.78it/s] "
     ]
    },
    {
     "name": "stdout",
     "output_type": "stream",
     "text": [
      "Iteration: 3400 -- ELBO=-7.20e+03 / RLL=-7.19e+03 / KL=1.50e+01\n"
     ]
    },
    {
     "name": "stderr",
     "output_type": "stream",
     "text": [
      "                                                         \n",
      "Epoch:  29%|██▉       | 294/1000 [00:20<00:54, 12.84it/s] "
     ]
    },
    {
     "name": "stdout",
     "output_type": "stream",
     "text": [
      "Iteration: 3500 -- ELBO=-7.27e+03 / RLL=-7.26e+03 / KL=1.51e+01\n"
     ]
    },
    {
     "name": "stderr",
     "output_type": "stream",
     "text": [
      "                                                         \n",
      "Epoch:  30%|███       | 304/1000 [00:20<00:46, 15.13it/s] "
     ]
    },
    {
     "name": "stdout",
     "output_type": "stream",
     "text": [
      "Iteration: 3600 -- ELBO=-7.17e+03 / RLL=-7.16e+03 / KL=1.50e+01\n"
     ]
    },
    {
     "name": "stderr",
     "output_type": "stream",
     "text": [
      "                                                         \n",
      "Epoch:  31%|███       | 312/1000 [00:21<00:42, 16.07it/s] "
     ]
    },
    {
     "name": "stdout",
     "output_type": "stream",
     "text": [
      "Iteration: 3700 -- ELBO=-7.23e+03 / RLL=-7.22e+03 / KL=1.53e+01\n"
     ]
    },
    {
     "name": "stderr",
     "output_type": "stream",
     "text": [
      "                                                         \n",
      "Epoch:  32%|███▏      | 320/1000 [00:21<00:44, 15.34it/s] "
     ]
    },
    {
     "name": "stdout",
     "output_type": "stream",
     "text": [
      "Iteration: 3800 -- ELBO=-7.20e+03 / RLL=-7.19e+03 / KL=1.50e+01\n"
     ]
    },
    {
     "name": "stderr",
     "output_type": "stream",
     "text": [
      "                                                         \n",
      "Epoch:  33%|███▎      | 328/1000 [00:22<00:44, 15.20it/s] \n"
     ]
    },
    {
     "name": "stdout",
     "output_type": "stream",
     "text": [
      "Iteration: 3900 -- ELBO=-7.27e+03 / RLL=-7.26e+03 / KL=1.53e+01\n"
     ]
    },
    {
     "name": "stderr",
     "output_type": "stream",
     "text": [
      "                                                         ]\u001b[A\n",
      "Epoch:  34%|███▎      | 336/1000 [00:23<00:44, 15.01it/s] "
     ]
    },
    {
     "name": "stdout",
     "output_type": "stream",
     "text": [
      "Iteration: 4000 -- ELBO=-7.20e+03 / RLL=-7.19e+03 / KL=1.50e+01\n"
     ]
    },
    {
     "name": "stderr",
     "output_type": "stream",
     "text": [
      "                                                         \n",
      "Epoch:  34%|███▍      | 344/1000 [00:23<00:42, 15.53it/s] "
     ]
    },
    {
     "name": "stdout",
     "output_type": "stream",
     "text": [
      "Iteration: 4100 -- ELBO=-7.24e+03 / RLL=-7.22e+03 / KL=1.52e+01\n"
     ]
    },
    {
     "name": "stderr",
     "output_type": "stream",
     "text": [
      "                                                         \n",
      "Epoch:  35%|███▌      | 352/1000 [00:24<00:42, 15.08it/s] "
     ]
    },
    {
     "name": "stdout",
     "output_type": "stream",
     "text": [
      "Iteration: 4200 -- ELBO=-7.29e+03 / RLL=-7.27e+03 / KL=1.50e+01\n"
     ]
    },
    {
     "name": "stderr",
     "output_type": "stream",
     "text": [
      "                                                         \n",
      "Epoch:  36%|███▌      | 362/1000 [00:24<00:41, 15.36it/s] "
     ]
    },
    {
     "name": "stdout",
     "output_type": "stream",
     "text": [
      "Iteration: 4300 -- ELBO=-7.27e+03 / RLL=-7.25e+03 / KL=1.50e+01\n"
     ]
    },
    {
     "name": "stderr",
     "output_type": "stream",
     "text": [
      "                                                         \n",
      "Epoch:  37%|███▋      | 370/1000 [00:25<00:41, 15.15it/s] "
     ]
    },
    {
     "name": "stdout",
     "output_type": "stream",
     "text": [
      "Iteration: 4400 -- ELBO=-7.26e+03 / RLL=-7.24e+03 / KL=1.51e+01\n"
     ]
    },
    {
     "name": "stderr",
     "output_type": "stream",
     "text": [
      "                                                         \n",
      "Epoch:  38%|███▊      | 378/1000 [00:25<00:40, 15.20it/s] "
     ]
    },
    {
     "name": "stdout",
     "output_type": "stream",
     "text": [
      "Iteration: 4500 -- ELBO=-7.22e+03 / RLL=-7.21e+03 / KL=1.51e+01\n"
     ]
    },
    {
     "name": "stderr",
     "output_type": "stream",
     "text": [
      "                                                         \n",
      "Epoch:  39%|███▊      | 386/1000 [00:26<00:38, 16.00it/s] "
     ]
    },
    {
     "name": "stdout",
     "output_type": "stream",
     "text": [
      "Iteration: 4600 -- ELBO=-7.20e+03 / RLL=-7.19e+03 / KL=1.47e+01\n"
     ]
    },
    {
     "name": "stderr",
     "output_type": "stream",
     "text": [
      "                                                         \n",
      "Epoch:  39%|███▉      | 394/1000 [00:26<00:39, 15.19it/s] "
     ]
    },
    {
     "name": "stdout",
     "output_type": "stream",
     "text": [
      "Iteration: 4700 -- ELBO=-7.29e+03 / RLL=-7.27e+03 / KL=1.51e+01\n"
     ]
    },
    {
     "name": "stderr",
     "output_type": "stream",
     "text": [
      "                                                         \n",
      "Epoch:  40%|████      | 404/1000 [00:27<00:39, 15.19it/s] \n",
      "Iteration in Epoch:   0%|          | 0/12 [00:00<?, ?it/s]"
     ]
    },
    {
     "name": "stdout",
     "output_type": "stream",
     "text": [
      "Iteration: 4800 -- ELBO=-7.20e+03 / RLL=-7.19e+03 / KL=1.49e+01\n"
     ]
    },
    {
     "name": "stderr",
     "output_type": "stream",
     "text": [
      "                                                         \n",
      "Epoch:  41%|████      | 412/1000 [00:27<00:39, 14.97it/s] "
     ]
    },
    {
     "name": "stdout",
     "output_type": "stream",
     "text": [
      "Iteration: 4900 -- ELBO=-7.19e+03 / RLL=-7.18e+03 / KL=1.47e+01\n"
     ]
    },
    {
     "name": "stderr",
     "output_type": "stream",
     "text": [
      "                                                         \n",
      "Epoch:  42%|████▏     | 420/1000 [00:28<00:38, 14.96it/s] "
     ]
    },
    {
     "name": "stdout",
     "output_type": "stream",
     "text": [
      "Iteration: 5000 -- ELBO=-7.27e+03 / RLL=-7.26e+03 / KL=1.48e+01\n"
     ]
    },
    {
     "name": "stderr",
     "output_type": "stream",
     "text": [
      "                                                         \n",
      "Epoch:  43%|████▎     | 428/1000 [00:29<00:38, 15.02it/s] "
     ]
    },
    {
     "name": "stdout",
     "output_type": "stream",
     "text": [
      "Iteration: 5100 -- ELBO=-7.28e+03 / RLL=-7.26e+03 / KL=1.55e+01\n"
     ]
    },
    {
     "name": "stderr",
     "output_type": "stream",
     "text": [
      "                                                         \n",
      "Epoch:  44%|████▎     | 436/1000 [00:29<00:37, 14.85it/s] "
     ]
    },
    {
     "name": "stdout",
     "output_type": "stream",
     "text": [
      "Iteration: 5200 -- ELBO=-7.21e+03 / RLL=-7.19e+03 / KL=1.49e+01\n"
     ]
    },
    {
     "name": "stderr",
     "output_type": "stream",
     "text": [
      "                                                         \n",
      "Epoch:  44%|████▍     | 444/1000 [00:30<00:37, 14.89it/s] "
     ]
    },
    {
     "name": "stdout",
     "output_type": "stream",
     "text": [
      "Iteration: 5300 -- ELBO=-7.18e+03 / RLL=-7.17e+03 / KL=1.48e+01\n"
     ]
    },
    {
     "name": "stderr",
     "output_type": "stream",
     "text": [
      "                                                         \n",
      "Epoch:  45%|████▌     | 454/1000 [00:30<00:36, 15.12it/s] "
     ]
    },
    {
     "name": "stdout",
     "output_type": "stream",
     "text": [
      "Iteration: 5400 -- ELBO=-7.27e+03 / RLL=-7.25e+03 / KL=1.54e+01\n"
     ]
    },
    {
     "name": "stderr",
     "output_type": "stream",
     "text": [
      "                                                         \n",
      "Epoch:  46%|████▌     | 462/1000 [00:31<00:35, 15.17it/s] "
     ]
    },
    {
     "name": "stdout",
     "output_type": "stream",
     "text": [
      "Iteration: 5500 -- ELBO=-7.32e+03 / RLL=-7.30e+03 / KL=1.53e+01\n"
     ]
    },
    {
     "name": "stderr",
     "output_type": "stream",
     "text": [
      "                                                         \n",
      "Epoch:  47%|████▋     | 470/1000 [00:31<00:35, 14.99it/s] "
     ]
    },
    {
     "name": "stdout",
     "output_type": "stream",
     "text": [
      "Iteration: 5600 -- ELBO=-7.27e+03 / RLL=-7.26e+03 / KL=1.47e+01\n"
     ]
    },
    {
     "name": "stderr",
     "output_type": "stream",
     "text": [
      "                                                         \n",
      "Epoch:  48%|████▊     | 478/1000 [00:32<00:34, 15.05it/s] \n",
      "Iteration in Epoch:   0%|          | 0/12 [00:00<?, ?it/s]"
     ]
    },
    {
     "name": "stdout",
     "output_type": "stream",
     "text": [
      "Iteration: 5700 -- ELBO=-7.19e+03 / RLL=-7.17e+03 / KL=1.43e+01\n"
     ]
    },
    {
     "name": "stderr",
     "output_type": "stream",
     "text": [
      "                                                         \n",
      "Epoch:  49%|████▊     | 486/1000 [00:32<00:34, 14.87it/s] "
     ]
    },
    {
     "name": "stdout",
     "output_type": "stream",
     "text": [
      "Iteration: 5800 -- ELBO=-7.24e+03 / RLL=-7.23e+03 / KL=1.48e+01\n"
     ]
    },
    {
     "name": "stderr",
     "output_type": "stream",
     "text": [
      "                                                         \n",
      "Epoch:  49%|████▉     | 494/1000 [00:33<00:36, 13.84it/s] "
     ]
    },
    {
     "name": "stdout",
     "output_type": "stream",
     "text": [
      "Iteration: 5900 -- ELBO=-7.21e+03 / RLL=-7.19e+03 / KL=1.47e+01\n"
     ]
    },
    {
     "name": "stderr",
     "output_type": "stream",
     "text": [
      "                                                         \n",
      "Epoch:  50%|█████     | 502/1000 [00:34<00:34, 14.59it/s] "
     ]
    },
    {
     "name": "stdout",
     "output_type": "stream",
     "text": [
      "Iteration: 6000 -- ELBO=-7.19e+03 / RLL=-7.18e+03 / KL=1.45e+01\n"
     ]
    },
    {
     "name": "stderr",
     "output_type": "stream",
     "text": [
      "                                                         \n",
      "Epoch:  51%|█████     | 510/1000 [00:34<00:41, 11.76it/s] "
     ]
    },
    {
     "name": "stdout",
     "output_type": "stream",
     "text": [
      "Iteration: 6100 -- ELBO=-7.28e+03 / RLL=-7.26e+03 / KL=1.48e+01\n"
     ]
    },
    {
     "name": "stderr",
     "output_type": "stream",
     "text": [
      "                                                         \n",
      "Epoch:  52%|█████▏    | 520/1000 [00:35<00:36, 13.25it/s] "
     ]
    },
    {
     "name": "stdout",
     "output_type": "stream",
     "text": [
      "Iteration: 6200 -- ELBO=-7.27e+03 / RLL=-7.25e+03 / KL=1.47e+01\n"
     ]
    },
    {
     "name": "stderr",
     "output_type": "stream",
     "text": [
      "                                                         \n",
      "Epoch:  53%|█████▎    | 528/1000 [00:36<00:32, 14.58it/s] "
     ]
    },
    {
     "name": "stdout",
     "output_type": "stream",
     "text": [
      "Iteration: 6300 -- ELBO=-7.26e+03 / RLL=-7.24e+03 / KL=1.56e+01\n"
     ]
    },
    {
     "name": "stderr",
     "output_type": "stream",
     "text": [
      "                                                         \n",
      "Epoch:  54%|█████▎    | 536/1000 [00:36<00:31, 14.61it/s] "
     ]
    },
    {
     "name": "stdout",
     "output_type": "stream",
     "text": [
      "Iteration: 6400 -- ELBO=-7.24e+03 / RLL=-7.22e+03 / KL=1.47e+01\n"
     ]
    },
    {
     "name": "stderr",
     "output_type": "stream",
     "text": [
      "                                                         \n",
      "Epoch:  54%|█████▍    | 544/1000 [00:37<00:29, 15.30it/s] "
     ]
    },
    {
     "name": "stdout",
     "output_type": "stream",
     "text": [
      "Iteration: 6500 -- ELBO=-7.27e+03 / RLL=-7.25e+03 / KL=1.51e+01\n"
     ]
    },
    {
     "name": "stderr",
     "output_type": "stream",
     "text": [
      "                                                         \n",
      "Epoch:  55%|█████▌    | 554/1000 [00:37<00:27, 16.12it/s] "
     ]
    },
    {
     "name": "stdout",
     "output_type": "stream",
     "text": [
      "Iteration: 6600 -- ELBO=-7.33e+03 / RLL=-7.31e+03 / KL=1.50e+01\n"
     ]
    },
    {
     "name": "stderr",
     "output_type": "stream",
     "text": [
      "                                                         \n",
      "Epoch:  56%|█████▌    | 562/1000 [00:38<00:27, 16.07it/s] "
     ]
    },
    {
     "name": "stdout",
     "output_type": "stream",
     "text": [
      "Iteration: 6700 -- ELBO=-7.23e+03 / RLL=-7.21e+03 / KL=1.47e+01\n"
     ]
    },
    {
     "name": "stderr",
     "output_type": "stream",
     "text": [
      "                                                         \n",
      "Epoch:  57%|█████▋    | 570/1000 [00:38<00:26, 16.19it/s] "
     ]
    },
    {
     "name": "stdout",
     "output_type": "stream",
     "text": [
      "Iteration: 6800 -- ELBO=-7.24e+03 / RLL=-7.22e+03 / KL=1.49e+01\n"
     ]
    },
    {
     "name": "stderr",
     "output_type": "stream",
     "text": [
      "                                                         \n",
      "Epoch:  58%|█████▊    | 578/1000 [00:39<00:26, 16.19it/s] "
     ]
    },
    {
     "name": "stdout",
     "output_type": "stream",
     "text": [
      "Iteration: 6900 -- ELBO=-7.38e+03 / RLL=-7.37e+03 / KL=1.48e+01\n"
     ]
    },
    {
     "name": "stderr",
     "output_type": "stream",
     "text": [
      "                                                         \n",
      "Epoch:  59%|█████▊    | 586/1000 [00:39<00:26, 15.82it/s] "
     ]
    },
    {
     "name": "stdout",
     "output_type": "stream",
     "text": [
      "Iteration: 7000 -- ELBO=-7.26e+03 / RLL=-7.24e+03 / KL=1.51e+01\n"
     ]
    },
    {
     "name": "stderr",
     "output_type": "stream",
     "text": [
      "                                                         \n",
      "Epoch:  59%|█████▉    | 594/1000 [00:40<00:30, 13.29it/s] "
     ]
    },
    {
     "name": "stdout",
     "output_type": "stream",
     "text": [
      "Iteration: 7100 -- ELBO=-7.20e+03 / RLL=-7.18e+03 / KL=1.45e+01\n"
     ]
    },
    {
     "name": "stderr",
     "output_type": "stream",
     "text": [
      "                                                         \n",
      "Epoch:  60%|██████    | 604/1000 [00:40<00:26, 15.14it/s] "
     ]
    },
    {
     "name": "stdout",
     "output_type": "stream",
     "text": [
      "Iteration: 7200 -- ELBO=-7.33e+03 / RLL=-7.31e+03 / KL=1.49e+01\n"
     ]
    },
    {
     "name": "stderr",
     "output_type": "stream",
     "text": [
      "                                                         \n",
      "Epoch:  61%|██████    | 612/1000 [00:41<00:26, 14.81it/s] "
     ]
    },
    {
     "name": "stdout",
     "output_type": "stream",
     "text": [
      "Iteration: 7300 -- ELBO=-7.19e+03 / RLL=-7.18e+03 / KL=1.46e+01\n"
     ]
    },
    {
     "name": "stderr",
     "output_type": "stream",
     "text": [
      "                                                         \n",
      "Epoch:  62%|██████▏   | 620/1000 [00:42<00:25, 15.00it/s] "
     ]
    },
    {
     "name": "stdout",
     "output_type": "stream",
     "text": [
      "Iteration: 7400 -- ELBO=-7.22e+03 / RLL=-7.20e+03 / KL=1.48e+01\n"
     ]
    },
    {
     "name": "stderr",
     "output_type": "stream",
     "text": [
      "                                                         \n",
      "Epoch:  63%|██████▎   | 628/1000 [00:42<00:23, 15.59it/s] "
     ]
    },
    {
     "name": "stdout",
     "output_type": "stream",
     "text": [
      "Iteration: 7500 -- ELBO=-7.25e+03 / RLL=-7.23e+03 / KL=1.49e+01\n"
     ]
    },
    {
     "name": "stderr",
     "output_type": "stream",
     "text": [
      "                                                         \n",
      "Epoch:  64%|██████▎   | 636/1000 [00:43<00:22, 15.87it/s] "
     ]
    },
    {
     "name": "stdout",
     "output_type": "stream",
     "text": [
      "Iteration: 7600 -- ELBO=-7.27e+03 / RLL=-7.26e+03 / KL=1.49e+01\n"
     ]
    },
    {
     "name": "stderr",
     "output_type": "stream",
     "text": [
      "                                                         \n",
      "Epoch:  64%|██████▍   | 644/1000 [00:43<00:22, 15.71it/s] "
     ]
    },
    {
     "name": "stdout",
     "output_type": "stream",
     "text": [
      "Iteration: 7700 -- ELBO=-7.23e+03 / RLL=-7.21e+03 / KL=1.47e+01\n"
     ]
    },
    {
     "name": "stderr",
     "output_type": "stream",
     "text": [
      "                                                         \n",
      "Epoch:  65%|██████▌   | 654/1000 [00:44<00:21, 15.77it/s] "
     ]
    },
    {
     "name": "stdout",
     "output_type": "stream",
     "text": [
      "Iteration: 7800 -- ELBO=-7.26e+03 / RLL=-7.24e+03 / KL=1.55e+01\n"
     ]
    },
    {
     "name": "stderr",
     "output_type": "stream",
     "text": [
      "                                                         \n",
      "Epoch:  66%|██████▌   | 662/1000 [00:44<00:21, 15.38it/s] "
     ]
    },
    {
     "name": "stdout",
     "output_type": "stream",
     "text": [
      "Iteration: 7900 -- ELBO=-7.26e+03 / RLL=-7.24e+03 / KL=1.49e+01\n"
     ]
    },
    {
     "name": "stderr",
     "output_type": "stream",
     "text": [
      "                                                         \n",
      "Epoch:  67%|██████▋   | 670/1000 [00:45<00:20, 15.87it/s] "
     ]
    },
    {
     "name": "stdout",
     "output_type": "stream",
     "text": [
      "Iteration: 8000 -- ELBO=-7.17e+03 / RLL=-7.15e+03 / KL=1.44e+01\n"
     ]
    },
    {
     "name": "stderr",
     "output_type": "stream",
     "text": [
      "                                                         \n",
      "Epoch:  68%|██████▊   | 678/1000 [00:45<00:19, 16.13it/s] "
     ]
    },
    {
     "name": "stdout",
     "output_type": "stream",
     "text": [
      "Iteration: 8100 -- ELBO=-7.25e+03 / RLL=-7.24e+03 / KL=1.50e+01\n"
     ]
    },
    {
     "name": "stderr",
     "output_type": "stream",
     "text": [
      "                                                         \n",
      "Epoch:  69%|██████▊   | 686/1000 [00:46<00:20, 15.29it/s] "
     ]
    },
    {
     "name": "stdout",
     "output_type": "stream",
     "text": [
      "Iteration: 8200 -- ELBO=-7.23e+03 / RLL=-7.22e+03 / KL=1.46e+01\n"
     ]
    },
    {
     "name": "stderr",
     "output_type": "stream",
     "text": [
      "                                                         \n",
      "Epoch:  69%|██████▉   | 694/1000 [00:46<00:19, 15.65it/s] "
     ]
    },
    {
     "name": "stdout",
     "output_type": "stream",
     "text": [
      "Iteration: 8300 -- ELBO=-7.23e+03 / RLL=-7.21e+03 / KL=1.45e+01\n"
     ]
    },
    {
     "name": "stderr",
     "output_type": "stream",
     "text": [
      "                                                         \n",
      "Epoch:  70%|███████   | 704/1000 [00:47<00:18, 16.09it/s] "
     ]
    },
    {
     "name": "stdout",
     "output_type": "stream",
     "text": [
      "Iteration: 8400 -- ELBO=-7.19e+03 / RLL=-7.17e+03 / KL=1.46e+01\n"
     ]
    },
    {
     "name": "stderr",
     "output_type": "stream",
     "text": [
      "                                                         \n",
      "Epoch:  71%|███████   | 712/1000 [00:47<00:18, 15.47it/s] "
     ]
    },
    {
     "name": "stdout",
     "output_type": "stream",
     "text": [
      "Iteration: 8500 -- ELBO=-7.24e+03 / RLL=-7.22e+03 / KL=1.46e+01\n"
     ]
    },
    {
     "name": "stderr",
     "output_type": "stream",
     "text": [
      "                                                         \n",
      "Epoch:  72%|███████▏  | 720/1000 [00:48<00:17, 16.06it/s] "
     ]
    },
    {
     "name": "stdout",
     "output_type": "stream",
     "text": [
      "Iteration: 8600 -- ELBO=-7.20e+03 / RLL=-7.19e+03 / KL=1.46e+01\n"
     ]
    },
    {
     "name": "stderr",
     "output_type": "stream",
     "text": [
      "                                                         \n",
      "Epoch:  73%|███████▎  | 728/1000 [00:48<00:17, 15.92it/s] "
     ]
    },
    {
     "name": "stdout",
     "output_type": "stream",
     "text": [
      "Iteration: 8700 -- ELBO=-7.22e+03 / RLL=-7.21e+03 / KL=1.44e+01\n"
     ]
    },
    {
     "name": "stderr",
     "output_type": "stream",
     "text": [
      "                                                         \n",
      "Epoch:  74%|███████▎  | 736/1000 [00:49<00:16, 15.99it/s] "
     ]
    },
    {
     "name": "stdout",
     "output_type": "stream",
     "text": [
      "Iteration: 8800 -- ELBO=-7.24e+03 / RLL=-7.22e+03 / KL=1.47e+01\n"
     ]
    },
    {
     "name": "stderr",
     "output_type": "stream",
     "text": [
      "                                                         \n",
      "Epoch:  74%|███████▍  | 744/1000 [00:49<00:15, 16.14it/s] "
     ]
    },
    {
     "name": "stdout",
     "output_type": "stream",
     "text": [
      "Iteration: 8900 -- ELBO=-7.25e+03 / RLL=-7.23e+03 / KL=1.43e+01\n"
     ]
    },
    {
     "name": "stderr",
     "output_type": "stream",
     "text": [
      "                                                         \n",
      "Epoch:  75%|███████▌  | 754/1000 [00:50<00:15, 16.30it/s] "
     ]
    },
    {
     "name": "stdout",
     "output_type": "stream",
     "text": [
      "Iteration: 9000 -- ELBO=-7.22e+03 / RLL=-7.21e+03 / KL=1.46e+01\n"
     ]
    },
    {
     "name": "stderr",
     "output_type": "stream",
     "text": [
      "                                                         \n",
      "Epoch:  76%|███████▌  | 762/1000 [00:51<00:14, 16.31it/s] "
     ]
    },
    {
     "name": "stdout",
     "output_type": "stream",
     "text": [
      "Iteration: 9100 -- ELBO=-7.19e+03 / RLL=-7.17e+03 / KL=1.45e+01\n"
     ]
    },
    {
     "name": "stderr",
     "output_type": "stream",
     "text": [
      "                                                         \n",
      "Epoch:  77%|███████▋  | 770/1000 [00:51<00:15, 14.86it/s] "
     ]
    },
    {
     "name": "stdout",
     "output_type": "stream",
     "text": [
      "Iteration: 9200 -- ELBO=-7.23e+03 / RLL=-7.22e+03 / KL=1.43e+01\n"
     ]
    },
    {
     "name": "stderr",
     "output_type": "stream",
     "text": [
      "                                                         \n",
      "Epoch:  78%|███████▊  | 778/1000 [00:52<00:14, 15.44it/s] "
     ]
    },
    {
     "name": "stdout",
     "output_type": "stream",
     "text": [
      "Iteration: 9300 -- ELBO=-7.30e+03 / RLL=-7.28e+03 / KL=1.47e+01\n"
     ]
    },
    {
     "name": "stderr",
     "output_type": "stream",
     "text": [
      "                                                         \n",
      "Epoch:  79%|███████▊  | 786/1000 [00:52<00:14, 15.11it/s] "
     ]
    },
    {
     "name": "stdout",
     "output_type": "stream",
     "text": [
      "Iteration: 9400 -- ELBO=-7.21e+03 / RLL=-7.20e+03 / KL=1.44e+01\n"
     ]
    },
    {
     "name": "stderr",
     "output_type": "stream",
     "text": [
      "                                                         \n",
      "Epoch:  79%|███████▉  | 794/1000 [00:53<00:13, 15.16it/s] "
     ]
    },
    {
     "name": "stdout",
     "output_type": "stream",
     "text": [
      "Iteration: 9500 -- ELBO=-7.25e+03 / RLL=-7.24e+03 / KL=1.44e+01\n"
     ]
    },
    {
     "name": "stderr",
     "output_type": "stream",
     "text": [
      "                                                         \n",
      "Epoch:  80%|████████  | 804/1000 [00:53<00:12, 16.16it/s] "
     ]
    },
    {
     "name": "stdout",
     "output_type": "stream",
     "text": [
      "Iteration: 9600 -- ELBO=-7.30e+03 / RLL=-7.28e+03 / KL=1.46e+01\n"
     ]
    },
    {
     "name": "stderr",
     "output_type": "stream",
     "text": [
      "                                                         \n",
      "Epoch:  81%|████████  | 812/1000 [00:54<00:11, 15.80it/s] "
     ]
    },
    {
     "name": "stdout",
     "output_type": "stream",
     "text": [
      "Iteration: 9700 -- ELBO=-7.22e+03 / RLL=-7.21e+03 / KL=1.43e+01\n"
     ]
    },
    {
     "name": "stderr",
     "output_type": "stream",
     "text": [
      "                                                         \n",
      "Epoch:  82%|████████▏ | 820/1000 [00:54<00:11, 15.94it/s] "
     ]
    },
    {
     "name": "stdout",
     "output_type": "stream",
     "text": [
      "Iteration: 9800 -- ELBO=-7.20e+03 / RLL=-7.19e+03 / KL=1.40e+01\n"
     ]
    },
    {
     "name": "stderr",
     "output_type": "stream",
     "text": [
      "                                                         \n",
      "Epoch:  83%|████████▎ | 828/1000 [00:55<00:10, 15.77it/s] "
     ]
    },
    {
     "name": "stdout",
     "output_type": "stream",
     "text": [
      "Iteration: 9900 -- ELBO=-7.09e+03 / RLL=-7.07e+03 / KL=1.41e+01\n"
     ]
    },
    {
     "name": "stderr",
     "output_type": "stream",
     "text": [
      "                                                         \n",
      "Epoch:  84%|████████▎ | 836/1000 [00:55<00:10, 15.75it/s] "
     ]
    },
    {
     "name": "stdout",
     "output_type": "stream",
     "text": [
      "Iteration: 10000 -- ELBO=-7.22e+03 / RLL=-7.21e+03 / KL=1.42e+01\n"
     ]
    },
    {
     "name": "stderr",
     "output_type": "stream",
     "text": [
      "                                                         \n",
      "Epoch:  84%|████████▍ | 844/1000 [00:56<00:09, 15.85it/s] "
     ]
    },
    {
     "name": "stdout",
     "output_type": "stream",
     "text": [
      "Iteration: 10100 -- ELBO=-7.20e+03 / RLL=-7.19e+03 / KL=1.40e+01\n"
     ]
    },
    {
     "name": "stderr",
     "output_type": "stream",
     "text": [
      "                                                         \n",
      "Epoch:  85%|████████▌ | 854/1000 [00:56<00:09, 15.39it/s] \n",
      "Iteration in Epoch:   0%|          | 0/12 [00:00<?, ?it/s]"
     ]
    },
    {
     "name": "stdout",
     "output_type": "stream",
     "text": [
      "Iteration: 10200 -- ELBO=-7.20e+03 / RLL=-7.19e+03 / KL=1.36e+01\n"
     ]
    },
    {
     "name": "stderr",
     "output_type": "stream",
     "text": [
      "                                                         \n",
      "Epoch:  86%|████████▌ | 862/1000 [00:57<00:08, 15.40it/s] "
     ]
    },
    {
     "name": "stdout",
     "output_type": "stream",
     "text": [
      "Iteration: 10300 -- ELBO=-7.24e+03 / RLL=-7.23e+03 / KL=1.44e+01\n"
     ]
    },
    {
     "name": "stderr",
     "output_type": "stream",
     "text": [
      "                                                         \n",
      "Epoch:  87%|████████▋ | 870/1000 [00:58<00:08, 15.29it/s] "
     ]
    },
    {
     "name": "stdout",
     "output_type": "stream",
     "text": [
      "Iteration: 10400 -- ELBO=-7.23e+03 / RLL=-7.22e+03 / KL=1.44e+01\n"
     ]
    },
    {
     "name": "stderr",
     "output_type": "stream",
     "text": [
      "                                                         \n",
      "Epoch:  88%|████████▊ | 878/1000 [00:58<00:07, 15.26it/s] "
     ]
    },
    {
     "name": "stdout",
     "output_type": "stream",
     "text": [
      "Iteration: 10500 -- ELBO=-7.23e+03 / RLL=-7.22e+03 / KL=1.41e+01\n"
     ]
    },
    {
     "name": "stderr",
     "output_type": "stream",
     "text": [
      "                                                         \n",
      "Epoch:  89%|████████▊ | 886/1000 [00:59<00:07, 15.91it/s] "
     ]
    },
    {
     "name": "stdout",
     "output_type": "stream",
     "text": [
      "Iteration: 10600 -- ELBO=-7.28e+03 / RLL=-7.27e+03 / KL=1.46e+01\n"
     ]
    },
    {
     "name": "stderr",
     "output_type": "stream",
     "text": [
      "                                                         \n",
      "Epoch:  89%|████████▉ | 894/1000 [00:59<00:06, 15.54it/s] "
     ]
    },
    {
     "name": "stdout",
     "output_type": "stream",
     "text": [
      "Iteration: 10700 -- ELBO=-7.27e+03 / RLL=-7.25e+03 / KL=1.38e+01\n"
     ]
    },
    {
     "name": "stderr",
     "output_type": "stream",
     "text": [
      "                                                         \n",
      "Epoch:  90%|█████████ | 904/1000 [01:00<00:05, 16.27it/s] "
     ]
    },
    {
     "name": "stdout",
     "output_type": "stream",
     "text": [
      "Iteration: 10800 -- ELBO=-7.24e+03 / RLL=-7.23e+03 / KL=1.36e+01\n"
     ]
    },
    {
     "name": "stderr",
     "output_type": "stream",
     "text": [
      "                                                         \n",
      "Epoch:  91%|█████████ | 912/1000 [01:00<00:05, 15.73it/s] "
     ]
    },
    {
     "name": "stdout",
     "output_type": "stream",
     "text": [
      "Iteration: 10900 -- ELBO=-7.19e+03 / RLL=-7.18e+03 / KL=1.34e+01\n"
     ]
    },
    {
     "name": "stderr",
     "output_type": "stream",
     "text": [
      "                                                         \n",
      "Epoch:  92%|█████████▏| 920/1000 [01:01<00:05, 15.43it/s] "
     ]
    },
    {
     "name": "stdout",
     "output_type": "stream",
     "text": [
      "Iteration: 11000 -- ELBO=-7.28e+03 / RLL=-7.26e+03 / KL=1.38e+01\n"
     ]
    },
    {
     "name": "stderr",
     "output_type": "stream",
     "text": [
      "                                                         \n",
      "Epoch:  93%|█████████▎| 926/1000 [01:01<00:04, 15.74it/s] "
     ]
    },
    {
     "name": "stdout",
     "output_type": "stream",
     "text": [
      "Iteration: 11100 -- ELBO=-7.25e+03 / RLL=-7.24e+03 / KL=1.43e+01\n"
     ]
    },
    {
     "name": "stderr",
     "output_type": "stream",
     "text": [
      "                                                         \n",
      "Epoch:  94%|█████████▎| 936/1000 [01:02<00:04, 14.37it/s] "
     ]
    },
    {
     "name": "stdout",
     "output_type": "stream",
     "text": [
      "Iteration: 11200 -- ELBO=-7.26e+03 / RLL=-7.24e+03 / KL=1.37e+01\n"
     ]
    },
    {
     "name": "stderr",
     "output_type": "stream",
     "text": [
      "                                                         \n",
      "Epoch:  94%|█████████▍| 944/1000 [01:02<00:03, 14.69it/s] "
     ]
    },
    {
     "name": "stdout",
     "output_type": "stream",
     "text": [
      "Iteration: 11300 -- ELBO=-7.19e+03 / RLL=-7.17e+03 / KL=1.37e+01\n"
     ]
    },
    {
     "name": "stderr",
     "output_type": "stream",
     "text": [
      "                                                         \n",
      "Epoch:  95%|█████████▌| 954/1000 [01:03<00:03, 15.11it/s] \n"
     ]
    },
    {
     "name": "stdout",
     "output_type": "stream",
     "text": [
      "Iteration: 11400 -- ELBO=-7.28e+03 / RLL=-7.26e+03 / KL=1.41e+01\n"
     ]
    },
    {
     "name": "stderr",
     "output_type": "stream",
     "text": [
      "                                                         ]\u001b[A\n",
      "Epoch:  96%|█████████▌| 962/1000 [01:04<00:02, 13.60it/s] "
     ]
    },
    {
     "name": "stdout",
     "output_type": "stream",
     "text": [
      "Iteration: 11500 -- ELBO=-7.23e+03 / RLL=-7.21e+03 / KL=1.38e+01\n"
     ]
    },
    {
     "name": "stderr",
     "output_type": "stream",
     "text": [
      "                                                         \n",
      "Epoch:  97%|█████████▋| 970/1000 [01:04<00:02, 12.90it/s] "
     ]
    },
    {
     "name": "stdout",
     "output_type": "stream",
     "text": [
      "Iteration: 11600 -- ELBO=-7.21e+03 / RLL=-7.20e+03 / KL=1.38e+01\n"
     ]
    },
    {
     "name": "stderr",
     "output_type": "stream",
     "text": [
      "                                                         \n",
      "Epoch:  98%|█████████▊| 978/1000 [01:05<00:01, 11.89it/s] "
     ]
    },
    {
     "name": "stdout",
     "output_type": "stream",
     "text": [
      "Iteration: 11700 -- ELBO=-7.25e+03 / RLL=-7.24e+03 / KL=1.30e+01\n"
     ]
    },
    {
     "name": "stderr",
     "output_type": "stream",
     "text": [
      "                                                         \n",
      "Epoch:  99%|█████████▊| 986/1000 [01:06<00:00, 14.41it/s] "
     ]
    },
    {
     "name": "stdout",
     "output_type": "stream",
     "text": [
      "Iteration: 11800 -- ELBO=-7.25e+03 / RLL=-7.23e+03 / KL=1.38e+01\n"
     ]
    },
    {
     "name": "stderr",
     "output_type": "stream",
     "text": [
      "                                                         \n",
      "Epoch:  99%|█████████▉| 994/1000 [01:06<00:00, 15.10it/s] "
     ]
    },
    {
     "name": "stdout",
     "output_type": "stream",
     "text": [
      "Iteration: 11900 -- ELBO=-7.25e+03 / RLL=-7.24e+03 / KL=1.32e+01\n"
     ]
    },
    {
     "name": "stderr",
     "output_type": "stream",
     "text": [
      "                                                          \n",
      "Epoch: 100%|██████████| 1000/1000 [01:07<00:00, 14.89it/s]\n",
      "Iteration in Epoch: 100%|██████████| 12/12 [00:00<00:00, 173.31it/s]\n"
     ]
    },
    {
     "name": "stdout",
     "output_type": "stream",
     "text": [
      "Iteration: 12000 -- ELBO=-7.28e+03 / RLL=-7.27e+03 / KL=1.38e+01\n"
     ]
    }
   ],
   "source": [
    "# Train the model using default partitioning choice \n",
    "model.fit(lr=lr,\n",
    "            dataloader = torch.utils.data.DataLoader(dataset, batch_size=batch_size, shuffle=True),\n",
    "            epochs = num_epochs,\n",
    "            beta = beta,\n",
    "            mc_samples = 1,\n",
    "            learn_prior = learn_prior,\n",
    "            tensorboard = False,\n",
    "            )"
   ]
  },
  {
   "cell_type": "code",
   "execution_count": 24,
   "metadata": {},
   "outputs": [
    {
     "data": {
      "text/plain": [
       "tensor([0.4623, 0.0013, 1.2322, 0.0708, 0.1553, 0.7747, 0.0013, 0.2901, 0.0018,\n",
       "        0.0856], grad_fn=<ExpBackward0>)"
      ]
     },
     "execution_count": 24,
     "metadata": {},
     "output_type": "execute_result"
    }
   ],
   "source": [
    "model.prior_params[\"alpha\"].exp()"
   ]
  },
  {
   "cell_type": "code",
   "execution_count": 25,
   "metadata": {},
   "outputs": [
    {
     "data": {
      "text/plain": [
       "InductiveLDA(\n",
       "  (encoder): DirichletNN(\n",
       "    (parameterizer): ParameterizerNN(\n",
       "      (block_dict): ModuleDict(\n",
       "        (input): NNBlock(\n",
       "          (input_layer): Sequential(\n",
       "            (0): Linear(in_features=100, out_features=200, bias=True)\n",
       "            (1): ELU(alpha=1.0)\n",
       "            (2): BatchNorm1d(200, eps=1e-05, momentum=0.1, affine=True, track_running_stats=True)\n",
       "            (3): Dropout(p=0.5, inplace=False)\n",
       "          )\n",
       "          (middle_layers): ModuleList(\n",
       "            (0-1): 2 x Sequential(\n",
       "              (0): Linear(in_features=200, out_features=200, bias=True)\n",
       "              (1): ELU(alpha=1.0)\n",
       "              (2): BatchNorm1d(200, eps=1e-05, momentum=0.1, affine=True, track_running_stats=True)\n",
       "              (3): Dropout(p=0.5, inplace=False)\n",
       "            )\n",
       "          )\n",
       "          (output_layer): Sequential(\n",
       "            (0): Linear(in_features=200, out_features=200, bias=True)\n",
       "            (1): ELU(alpha=1.0)\n",
       "            (2): BatchNorm1d(200, eps=1e-05, momentum=0.1, affine=True, track_running_stats=True)\n",
       "            (3): Dropout(p=0.5, inplace=False)\n",
       "          )\n",
       "        )\n",
       "        (alpha): NNBlock(\n",
       "          (input_layer): Sequential(\n",
       "            (0): Linear(in_features=200, out_features=200, bias=True)\n",
       "            (1): ELU(alpha=1.0)\n",
       "          )\n",
       "          (middle_layers): ModuleList()\n",
       "          (output_layer): Sequential(\n",
       "            (0): Linear(in_features=200, out_features=10, bias=True)\n",
       "          )\n",
       "        )\n",
       "      )\n",
       "    )\n",
       "  )\n",
       "  (decoder): BetaDecoder()\n",
       ")"
      ]
     },
     "execution_count": 25,
     "metadata": {},
     "output_type": "execute_result"
    }
   ],
   "source": [
    "model.eval()"
   ]
  },
  {
   "cell_type": "code",
   "execution_count": 26,
   "metadata": {},
   "outputs": [],
   "source": [
    "_, theta_dict = model(X_document.to(torch.float32))\n",
    "gamma_document = theta_dict['params']['alpha'].detach().T\n",
    "gamma_document_mean = gamma_document / gamma_document.sum(dim=0, keepdim=True)"
   ]
  },
  {
   "cell_type": "code",
   "execution_count": 27,
   "metadata": {},
   "outputs": [
    {
     "data": {
      "image/png": "[encoded data removed]",
      "text/plain": [
       "<Figure size 1500x500 with 2 Axes>"
      ]
     },
     "metadata": {},
     "output_type": "display_data"
    }
   ],
   "source": [
    "fig, ax = plt.subplots(figsize=(15,5))\n",
    "im = ax.imshow(gamma_document, aspect='auto', cmap='Purples', interpolation='none')\n",
    "ax.set_title('Topic distribution per document (Gamma of documents)')\n",
    "ax.set_ylabel('Topic')\n",
    "ax.set_xlabel('Document')\n",
    "ax.set_yticks(np.arange(num_topics))\n",
    "ax.set_xticks(np.arange(num_docs))\n",
    "ax.tick_params(axis=u'both', which=u'both',length=0)\n",
    "ax.xaxis.tick_top()\n",
    "ax.xaxis.set_label_position('top')\n",
    "fig.colorbar(im, ax=ax, label='Gamma')\n",
    "plt.show()"
   ]
  },
  {
   "cell_type": "code",
   "execution_count": 28,
   "metadata": {},
   "outputs": [
    {
     "data": {
      "image/png": "[encoded data removed]",
      "text/plain": [
       "<Figure size 1500x500 with 2 Axes>"
      ]
     },
     "metadata": {},
     "output_type": "display_data"
    }
   ],
   "source": [
    "fig, ax = plt.subplots(figsize=(15,5))\n",
    "im = ax.imshow(gamma_document_mean, aspect='auto', cmap='Purples', interpolation='none')\n",
    "ax.set_title('Topic distribution per document (Gamma of documents)')\n",
    "ax.set_ylabel('Topic')\n",
    "ax.set_xlabel('Document')\n",
    "ax.set_yticks(np.arange(num_topics))\n",
    "ax.set_xticks(np.arange(num_docs))\n",
    "ax.tick_params(axis=u'both', which=u'both',length=0)\n",
    "ax.xaxis.tick_top()\n",
    "ax.xaxis.set_label_position('top')\n",
    "fig.colorbar(im, ax=ax, label='Mean')\n",
    "plt.show()"
   ]
  },
  {
   "cell_type": "code",
   "execution_count": 29,
   "metadata": {},
   "outputs": [
    {
     "data": {
      "text/plain": [
       "<matplotlib.collections.PathCollection at 0x7fec4c2165b0>"
      ]
     },
     "execution_count": 29,
     "metadata": {},
     "output_type": "execute_result"
    },
    {
     "data": {
      "image/png": "[encoded data removed]",
      "text/plain": [
       "<Figure size 2000x500 with 1 Axes>"
      ]
     },
     "metadata": {},
     "output_type": "display_data"
    }
   ],
   "source": [
    "fig, ax = plt.subplots(figsize=(20,5))\n",
    "plt.scatter(np.arange(num_days), gamma_document.sum(axis=0))"
   ]
  },
  {
   "cell_type": "code",
   "execution_count": 30,
   "metadata": {},
   "outputs": [],
   "source": [
    "## entropy of dirichlet distribution\n",
    "entropy = torch.distributions.dirichlet.Dirichlet(theta_dict['params']['alpha'].detach()).entropy()"
   ]
  },
  {
   "cell_type": "code",
   "execution_count": 31,
   "metadata": {},
   "outputs": [
    {
     "data": {
      "text/plain": [
       "<matplotlib.collections.PathCollection at 0x7fec4c189d30>"
      ]
     },
     "execution_count": 31,
     "metadata": {},
     "output_type": "execute_result"
    },
    {
     "data": {
      "image/png": "[encoded data removed]",
      "text/plain": [
       "<Figure size 2000x500 with 1 Axes>"
      ]
     },
     "metadata": {},
     "output_type": "display_data"
    }
   ],
   "source": [
    "fig, ax = plt.subplots(figsize=(20,5))\n",
    "plt.scatter(np.arange(num_days), entropy)"
   ]
  },
  {
   "cell_type": "code",
   "execution_count": 32,
   "metadata": {},
   "outputs": [
    {
     "data": {
      "text/plain": [
       "<matplotlib.collections.PathCollection at 0x7fec4c16fac0>"
      ]
     },
     "execution_count": 32,
     "metadata": {},
     "output_type": "execute_result"
    },
    {
     "data": {
      "image/png": "[encoded data removed]",
      "text/plain": [
       "<Figure size 640x480 with 1 Axes>"
      ]
     },
     "metadata": {},
     "output_type": "display_data"
    }
   ],
   "source": [
    "plt.scatter(gamma_document.sum(axis=0), entropy)"
   ]
  },
  {
   "cell_type": "code",
   "execution_count": 33,
   "metadata": {},
   "outputs": [],
   "source": [
    "corpus = X_document.to(torch.float32)\n",
    "# corp_counts = corpus.sum(dim=1, keepdim=True)\n",
    "inputs = corpus"
   ]
  },
  {
   "cell_type": "code",
   "execution_count": 34,
   "metadata": {},
   "outputs": [],
   "source": [
    "# zeta = model.encoder(inputs)[\"alpha\"].log().sigmoid().detach()\n",
    "zeta = model.encoder(inputs)[\"alpha\"].log().softmax(-1).detach()"
   ]
  },
  {
   "cell_type": "code",
   "execution_count": 35,
   "metadata": {},
   "outputs": [],
   "source": [
    "Beta = model.decoder.beta_unnorm.detach().softmax(dim=-1)"
   ]
  },
  {
   "cell_type": "code",
   "execution_count": 36,
   "metadata": {},
   "outputs": [],
   "source": [
    "phi = Beta*zeta.unsqueeze(-1)\n",
    "phi /= phi.sum(dim=1,keepdim=True)"
   ]
  },
  {
   "cell_type": "code",
   "execution_count": 37,
   "metadata": {},
   "outputs": [
    {
     "data": {
      "image/png": "[encoded data removed]",
      "text/plain": [
       "<Figure size 1500x500 with 2 Axes>"
      ]
     },
     "metadata": {},
     "output_type": "display_data"
    }
   ],
   "source": [
    "fig, ax = plt.subplots(figsize=(15,5))\n",
    "im = ax.imshow(Beta, aspect='auto', cmap='Greens', interpolation='none')\n",
    "ax.set_title(f'Beta')\n",
    "ax.set_ylabel('Topic')\n",
    "ax.set_xlabel('Vocabulary')\n",
    "ax.set_yticks(np.arange(num_topics))\n",
    "ax.set_xticks(np.arange(dict_size))\n",
    "ax.tick_params(axis=u'both', which=u'both',length=0)\n",
    "ax.xaxis.tick_top()\n",
    "ax.xaxis.set_label_position('top')\n",
    "fig.colorbar(im, ax=ax)\n",
    "plt.show()"
   ]
  },
  {
   "cell_type": "code",
   "execution_count": 38,
   "metadata": {},
   "outputs": [
    {
     "data": {
      "image/png": "[encoded data removed]",
      "text/plain": [
       "<Figure size 1500x500 with 2 Axes>"
      ]
     },
     "metadata": {},
     "output_type": "display_data"
    }
   ],
   "source": [
    "doc_no = 200\n",
    "fig, ax = plt.subplots(figsize=(15,5))\n",
    "im = ax.imshow(phi[doc_no], aspect='auto', cmap='Purples', interpolation='none')\n",
    "ax.set_title(f'Phi for document {doc_no}')\n",
    "ax.set_ylabel('Topic')\n",
    "ax.set_xlabel('Vocabulary')\n",
    "ax.set_yticks(np.arange(num_topics))\n",
    "ax.set_xticks(np.arange(dict_size))\n",
    "ax.tick_params(axis=u'both', which=u'both',length=0)\n",
    "ax.xaxis.tick_top()\n",
    "ax.xaxis.set_label_position('top')\n",
    "fig.colorbar(im, ax=ax)\n",
    "plt.show()"
   ]
  },
  {
   "cell_type": "code",
   "execution_count": 39,
   "metadata": {},
   "outputs": [
    {
     "data": {
      "text/plain": [
       "tensor([2.4535e-03, 1.1563e-11, 3.4024e-01, 2.4718e-06, 2.4737e-04, 2.5693e-02,\n",
       "        1.3649e-11, 4.9981e-01, 1.0620e-11, 1.3155e-01])"
      ]
     },
     "execution_count": 39,
     "metadata": {},
     "output_type": "execute_result"
    }
   ],
   "source": [
    "zeta[doc_no]"
   ]
  },
  {
   "cell_type": "code",
   "execution_count": 40,
   "metadata": {},
   "outputs": [
    {
     "data": {
      "text/plain": [
       "tensor([2.7050e-03, 7.6510e-07, 3.2530e-01, 4.4029e-05, 3.3815e-04, 2.8211e-02,\n",
       "        7.8241e-07, 5.1432e-01, 1.0425e-06, 1.2907e-01])"
      ]
     },
     "execution_count": 40,
     "metadata": {},
     "output_type": "execute_result"
    }
   ],
   "source": [
    "gamma_document_mean[:,doc_no]"
   ]
  },
  {
   "cell_type": "code",
   "execution_count": 41,
   "metadata": {},
   "outputs": [
    {
     "data": {
      "text/plain": [
       "tensor([4.6553e+00, 1.3099e-03, 5.8270e+02, 7.5064e-02, 5.7803e-01, 4.4685e+01,\n",
       "        1.3395e-03, 8.5447e+02, 1.7849e-03, 2.2491e+02],\n",
       "       grad_fn=<AddBackward0>)"
      ]
     },
     "execution_count": 41,
     "metadata": {},
     "output_type": "execute_result"
    }
   ],
   "source": [
    "zeta[doc_no]*num_users+model.prior_params[\"alpha\"].exp()"
   ]
  },
  {
   "cell_type": "code",
   "execution_count": 42,
   "metadata": {},
   "outputs": [
    {
     "data": {
      "text/plain": [
       "tensor([4.6312e+00, 1.3099e-03, 5.5695e+02, 7.5380e-02, 5.7894e-01, 4.8300e+01,\n",
       "        1.3395e-03, 8.8056e+02, 1.7849e-03, 2.2098e+02])"
      ]
     },
     "execution_count": 42,
     "metadata": {},
     "output_type": "execute_result"
    }
   ],
   "source": [
    "gamma_document[:,doc_no]"
   ]
  },
  {
   "cell_type": "code",
   "execution_count": 43,
   "metadata": {},
   "outputs": [
    {
     "data": {
      "image/png": "[encoded data removed]",
      "text/plain": [
       "<Figure size 1500x500 with 2 Axes>"
      ]
     },
     "metadata": {},
     "output_type": "display_data"
    }
   ],
   "source": [
    "fig, ax = plt.subplots(figsize=(15,5))\n",
    "im = ax.imshow(zeta.T, aspect='auto', cmap='Purples', interpolation='none')\n",
    "ax.set_title('Zeta')\n",
    "ax.set_ylabel('Topic')\n",
    "ax.set_xlabel('Document')\n",
    "ax.set_yticks(np.arange(num_topics))\n",
    "ax.set_xticks(np.arange(num_docs))\n",
    "ax.tick_params(axis=u'both', which=u'both',length=0)\n",
    "ax.xaxis.tick_top()\n",
    "ax.xaxis.set_label_position('top')\n",
    "fig.colorbar(im, ax=ax)\n",
    "plt.show()"
   ]
  },
  {
   "cell_type": "code",
   "execution_count": 44,
   "metadata": {},
   "outputs": [
    {
     "name": "stdout",
     "output_type": "stream",
     "text": [
      "Number of words in the missing document: 4.0\n"
     ]
    }
   ],
   "source": [
    "missing_document = X_document[0]\n",
    "missing_document = missing_document/missing_document.sum()*(num_users*0.01)\n",
    "missing_document = missing_document.round().to(torch.float32)\n",
    "num_words = missing_document.sum().item()\n",
    "print(f\"Number of words in the missing document: {num_words}\")"
   ]
  },
  {
   "cell_type": "code",
   "execution_count": 45,
   "metadata": {},
   "outputs": [
    {
     "name": "stderr",
     "output_type": "stream",
     "text": [
      "/tmp/ipykernel_24658/1250773554.py:2: UserWarning: The use of `x.T` on tensors of dimension other than 2 to reverse their shape is deprecated and it will throw an error in a future release. Consider `x.mT` to transpose batches of matrices or `x.permute(*torch.arange(x.ndim - 1, -1, -1))` to reverse the dimensions of a tensor. (Triggered internally at ../aten/src/ATen/native/TensorShape.cpp:3614.)\n",
      "  gamma_missing = theta_missing['params']['alpha'].detach().T\n"
     ]
    }
   ],
   "source": [
    "_, theta_missing = model(missing_document.unsqueeze(0))\n",
    "gamma_missing = theta_missing['params']['alpha'].detach().T\n",
    "gamma_missing_mean = gamma_missing / gamma_missing.sum(dim=0, keepdim=True)"
   ]
  },
  {
   "cell_type": "code",
   "execution_count": 46,
   "metadata": {},
   "outputs": [
    {
     "data": {
      "text/plain": [
       "tensor([6.6177e-01, 1.3099e-03, 4.4439e+00, 7.0839e-02, 1.5529e-01, 1.3636e+00,\n",
       "        1.3395e-03, 2.9013e-01, 1.7849e-03, 8.5634e-02])"
      ]
     },
     "execution_count": 46,
     "metadata": {},
     "output_type": "execute_result"
    }
   ],
   "source": [
    "gamma_missing"
   ]
  },
  {
   "cell_type": "code",
   "execution_count": 47,
   "metadata": {},
   "outputs": [
    {
     "data": {
      "text/plain": [
       "tensor([2.0658e+02, 1.3099e-03, 6.2383e+02, 7.0841e-02, 1.6173e-01, 8.7372e+02,\n",
       "        1.3395e-03, 7.6251e+00, 1.7849e-03, 8.5661e-02])"
      ]
     },
     "execution_count": 47,
     "metadata": {},
     "output_type": "execute_result"
    }
   ],
   "source": [
    "gamma_document[:,0]"
   ]
  },
  {
   "cell_type": "code",
   "execution_count": 48,
   "metadata": {},
   "outputs": [],
   "source": [
    "zeta = model.encoder(missing_document)[\"alpha\"].log().softmax(-1).detach()"
   ]
  },
  {
   "cell_type": "code",
   "execution_count": 49,
   "metadata": {},
   "outputs": [
    {
     "data": {
      "text/plain": [
       "tensor([[8.2671e-02, 7.6124e-22, 6.9443e-01, 6.8510e-13, 5.1266e-14, 2.2289e-01,\n",
       "         7.2520e-22, 4.0095e-07, 5.2594e-23, 8.5549e-17]])"
      ]
     },
     "execution_count": 49,
     "metadata": {},
     "output_type": "execute_result"
    }
   ],
   "source": [
    "zeta"
   ]
  },
  {
   "cell_type": "code",
   "execution_count": 50,
   "metadata": {},
   "outputs": [
    {
     "data": {
      "text/plain": [
       "tensor([[7.9298e-01, 1.3099e-03, 4.0099e+00, 7.0839e-02, 1.5529e-01, 1.6663e+00,\n",
       "         1.3395e-03, 2.9013e-01, 1.7849e-03, 8.5634e-02]],\n",
       "       grad_fn=<AddBackward0>)"
      ]
     },
     "execution_count": 50,
     "metadata": {},
     "output_type": "execute_result"
    }
   ],
   "source": [
    "zeta*num_words+model.prior_params[\"alpha\"].exp()"
   ]
  },
  {
   "cell_type": "code",
   "execution_count": 51,
   "metadata": {},
   "outputs": [
    {
     "data": {
      "text/plain": [
       "tensor([9.3530e-02, 1.8513e-04, 6.2806e-01, 1.0012e-02, 2.1947e-02, 1.9272e-01,\n",
       "        1.8932e-04, 4.1005e-02, 2.5226e-04, 1.2103e-02])"
      ]
     },
     "execution_count": 51,
     "metadata": {},
     "output_type": "execute_result"
    }
   ],
   "source": [
    "gamma_missing_mean"
   ]
  },
  {
   "cell_type": "code",
   "execution_count": 52,
   "metadata": {},
   "outputs": [],
   "source": [
    "phi = Beta*zeta.unsqueeze(-1)\n",
    "phi /= phi.sum(dim=1,keepdim=True)"
   ]
  },
  {
   "cell_type": "code",
   "execution_count": 53,
   "metadata": {},
   "outputs": [
    {
     "data": {
      "text/plain": [
       "tensor([[[7.4136e-02, 1.9038e-01, 1.0629e-01, 2.2943e-01, 2.2890e-03,\n",
       "          1.1135e-01, 5.5569e-02, 3.0467e-01, 1.0170e-01, 6.9620e-02,\n",
       "          4.5134e-02, 2.3368e-02, 1.1488e-02, 1.3064e-02, 1.2773e-02,\n",
       "          9.6576e-02, 1.4109e-02, 2.5303e-02, 5.1528e-02, 1.9999e-01,\n",
       "          1.4294e-01, 9.4350e-02, 2.9488e-02, 5.7625e-01, 7.7190e-03,\n",
       "          1.0831e-01, 2.1515e-03, 1.6673e-01, 4.6663e-01, 2.9273e-01,\n",
       "          9.7791e-02, 6.0750e-01, 6.2596e-01, 5.1789e-01, 5.6316e-02,\n",
       "          4.1344e-02, 9.2862e-02, 4.8356e-01, 7.0123e-02, 3.8947e-02,\n",
       "          7.4769e-02, 3.2745e-03, 3.8756e-01, 1.2984e-02, 5.7983e-02,\n",
       "          2.2366e-01, 1.7979e-03, 1.5987e-01, 1.1291e-03, 1.5944e-01,\n",
       "          1.2853e-01, 6.0484e-03, 9.9718e-02, 4.5802e-02, 6.6818e-02,\n",
       "          2.3067e-01, 1.1826e-01, 3.9028e-01, 4.6582e-02, 2.4313e-02,\n",
       "          2.0092e-03, 2.0637e-01, 7.7233e-03, 5.0318e-03, 2.4376e-02,\n",
       "          1.6748e-02, 7.4322e-02, 4.5513e-03, 1.1692e-01, 5.3285e-03,\n",
       "          2.1999e-01, 5.6508e-02, 1.5267e-02, 1.5443e-01, 1.0539e-01,\n",
       "          2.5046e-03, 6.5801e-02, 1.3607e-01, 1.3389e-02, 4.6397e-02,\n",
       "          5.7941e-02, 1.1650e-01, 6.3040e-03, 8.9329e-02, 2.1236e-01,\n",
       "          8.4713e-02, 3.3911e-03, 3.1291e-02, 5.0542e-02, 9.8608e-03,\n",
       "          4.4375e-02, 1.4994e-01, 1.0593e-01, 1.3646e-01, 1.1440e-02,\n",
       "          2.7297e-01, 2.1376e-02, 1.0320e-01, 8.1055e-03, 9.8562e-03],\n",
       "         [4.5194e-22, 1.2576e-21, 2.3369e-22, 1.7713e-22, 3.3909e-22,\n",
       "          3.3352e-22, 2.0303e-22, 1.3468e-21, 6.0525e-22, 4.4393e-23,\n",
       "          1.1925e-21, 1.8190e-22, 1.2134e-22, 3.3813e-19, 1.3440e-20,\n",
       "          3.3392e-22, 5.6929e-22, 4.1679e-21, 4.0482e-23, 2.8031e-22,\n",
       "          1.1321e-22, 5.3697e-22, 1.1228e-22, 1.8451e-22, 1.0513e-21,\n",
       "          1.5399e-22, 3.1789e-20, 5.8381e-22, 8.5437e-22, 2.9522e-22,\n",
       "          1.7875e-22, 2.6109e-21, 9.5781e-21, 4.0423e-21, 2.1348e-21,\n",
       "          4.6100e-22, 1.5292e-22, 1.5866e-22, 2.0331e-21, 9.7559e-22,\n",
       "          2.1868e-21, 1.0708e-20, 4.2890e-22, 6.2669e-22, 1.3889e-19,\n",
       "          1.5068e-21, 1.2590e-21, 7.1833e-23, 4.9517e-21, 3.3676e-19,\n",
       "          5.0885e-21, 1.5398e-21, 3.0643e-22, 7.1641e-23, 1.6128e-21,\n",
       "          2.6525e-21, 2.9126e-22, 2.6799e-21, 5.6329e-22, 1.8621e-21,\n",
       "          3.4496e-22, 1.0973e-21, 5.5217e-21, 4.5267e-22, 1.1185e-22,\n",
       "          6.4097e-22, 1.9642e-20, 2.0579e-21, 2.0147e-21, 1.5588e-22,\n",
       "          8.9147e-22, 4.2294e-22, 3.8524e-22, 8.7165e-23, 5.9778e-21,\n",
       "          2.2704e-22, 8.5219e-23, 9.8910e-22, 1.5547e-22, 3.3583e-22,\n",
       "          8.0529e-22, 5.5583e-22, 2.6419e-22, 3.8271e-22, 5.2914e-22,\n",
       "          1.3245e-21, 7.5799e-22, 1.3841e-22, 9.3756e-22, 9.0841e-22,\n",
       "          3.0971e-19, 5.2363e-22, 1.2573e-21, 8.1406e-22, 1.3854e-22,\n",
       "          6.9364e-22, 1.6133e-20, 3.4963e-22, 1.0750e-21, 6.7903e-21],\n",
       "         [6.0604e-01, 7.8938e-01, 6.5589e-01, 7.1183e-01, 7.6516e-01,\n",
       "          6.7770e-01, 7.8082e-01, 3.2283e-01, 7.2278e-01, 8.3338e-01,\n",
       "          9.4615e-01, 6.7340e-01, 9.2141e-01, 8.8591e-01, 4.2146e-01,\n",
       "          7.5939e-01, 9.8495e-01, 5.7426e-01, 8.0213e-01, 4.0778e-01,\n",
       "          7.8560e-01, 8.8085e-01, 6.5730e-01, 1.7298e-01, 8.0060e-01,\n",
       "          5.8444e-01, 3.0070e-01, 3.9969e-01, 5.5773e-02, 4.6660e-01,\n",
       "          4.8061e-01, 3.7029e-01, 3.5844e-01, 4.7645e-01, 7.9670e-01,\n",
       "          1.5999e-02, 1.4523e-01, 5.0943e-01, 3.5007e-01, 2.6210e-02,\n",
       "          7.7225e-01, 6.7556e-01, 3.8031e-01, 8.6580e-01, 3.0457e-01,\n",
       "          5.3455e-01, 2.5568e-01, 8.1410e-01, 3.8029e-01, 7.5754e-01,\n",
       "          6.0102e-01, 9.8765e-01, 2.6208e-01, 8.3848e-01, 5.1720e-01,\n",
       "          2.4129e-01, 8.8064e-01, 5.9428e-01, 7.9023e-01, 3.4213e-01,\n",
       "          2.4013e-01, 6.6491e-01, 6.0738e-01, 7.5926e-01, 6.7088e-01,\n",
       "          5.7518e-01, 2.3748e-01, 3.0488e-01, 8.1873e-01, 8.7008e-01,\n",
       "          4.4988e-01, 6.4277e-01, 9.7652e-01, 7.9448e-01, 5.8051e-01,\n",
       "          7.6901e-01, 5.3981e-01, 7.0754e-01, 3.2146e-01, 6.7743e-01,\n",
       "          7.7792e-01, 8.4589e-01, 9.9025e-02, 7.1967e-01, 5.8924e-03,\n",
       "          6.3258e-01, 2.9175e-01, 9.2409e-01, 9.0594e-01, 1.8449e-01,\n",
       "          3.4967e-02, 6.6296e-01, 2.2834e-01, 5.8196e-01, 3.5340e-01,\n",
       "          5.8186e-01, 7.5044e-01, 6.3547e-01, 4.5182e-01, 1.3411e-01],\n",
       "         [1.3870e-13, 2.8051e-12, 2.3580e-14, 4.1322e-14, 2.0485e-12,\n",
       "          1.3042e-12, 3.1372e-15, 2.3776e-12, 1.1395e-12, 6.1244e-13,\n",
       "          7.3687e-15, 3.6316e-13, 1.3436e-13, 2.1829e-10, 2.9509e-13,\n",
       "          1.8042e-12, 1.6311e-14, 9.4741e-13, 5.0658e-13, 2.2563e-12,\n",
       "          8.6984e-13, 1.9538e-13, 2.9708e-15, 7.7326e-13, 5.7442e-13,\n",
       "          2.3568e-13, 1.5319e-12, 2.1448e-12, 3.6161e-12, 3.9142e-14,\n",
       "          2.9945e-12, 8.8592e-15, 1.7855e-15, 1.9727e-14, 5.8905e-13,\n",
       "          7.7561e-12, 2.6222e-12, 7.0531e-13, 8.8038e-12, 2.8086e-12,\n",
       "          4.6688e-13, 8.9024e-12, 5.0064e-12, 5.6209e-15, 2.2359e-11,\n",
       "          1.5023e-12, 3.2357e-12, 4.2194e-14, 2.4184e-12, 3.9145e-10,\n",
       "          1.9174e-12, 2.2499e-14, 3.3898e-12, 1.0421e-13, 7.6395e-13,\n",
       "          2.7901e-12, 1.2190e-14, 2.6373e-13, 1.0573e-13, 2.2258e-12,\n",
       "          9.3802e-13, 6.8434e-13, 5.1745e-13, 2.8705e-13, 2.2295e-13,\n",
       "          9.5737e-13, 7.3304e-14, 2.7353e-13, 2.7041e-15, 1.1444e-14,\n",
       "          3.4717e-13, 1.7687e-13, 9.7107e-14, 3.2045e-13, 5.2995e-12,\n",
       "          3.7946e-14, 7.0400e-13, 4.1371e-13, 1.5438e-15, 4.7947e-14,\n",
       "          5.0337e-13, 3.5732e-14, 8.1654e-13, 1.1516e-12, 3.6341e-12,\n",
       "          1.7895e-12, 2.8781e-12, 4.7542e-14, 9.4365e-14, 7.0175e-13,\n",
       "          1.4111e-12, 1.7760e-13, 9.5783e-13, 4.7149e-14, 4.8765e-12,\n",
       "          2.9491e-12, 7.7451e-11, 7.0743e-13, 2.1043e-13, 3.4730e-11],\n",
       "         [3.9719e-14, 6.2317e-14, 3.6185e-15, 7.1357e-14, 7.2761e-15,\n",
       "          8.3585e-14, 1.9420e-14, 1.4700e-13, 5.3002e-14, 5.3604e-14,\n",
       "          2.2373e-16, 2.5142e-14, 3.0814e-14, 1.2081e-13, 2.7149e-14,\n",
       "          1.0227e-13, 4.7091e-14, 6.8590e-14, 6.0631e-14, 7.7112e-14,\n",
       "          6.8800e-14, 5.8597e-14, 2.4695e-14, 1.0556e-13, 1.5357e-14,\n",
       "          3.9443e-14, 5.1746e-14, 3.2227e-14, 1.0901e-13, 2.7667e-14,\n",
       "          1.1917e-13, 2.1460e-15, 3.0608e-15, 9.1408e-14, 9.3802e-14,\n",
       "          2.2794e-14, 1.3630e-13, 1.1216e-13, 3.4334e-13, 7.9502e-14,\n",
       "          6.0215e-14, 2.8393e-13, 1.6728e-13, 3.0321e-14, 1.1849e-12,\n",
       "          1.8809e-13, 1.8273e-14, 6.3843e-14, 6.0592e-14, 1.4998e-12,\n",
       "          8.5283e-14, 2.9300e-16, 4.5709e-15, 2.5518e-14, 2.2914e-14,\n",
       "          4.8585e-14, 5.3810e-14, 1.0080e-13, 3.6159e-14, 8.4714e-14,\n",
       "          4.6676e-14, 9.5375e-14, 6.8057e-14, 7.4861e-14, 5.1113e-14,\n",
       "          5.3679e-14, 7.5954e-12, 3.9207e-15, 2.8411e-15, 7.0124e-14,\n",
       "          2.3401e-14, 7.0172e-14, 5.5011e-14, 1.6513e-14, 1.7678e-13,\n",
       "          3.3728e-14, 7.0588e-14, 2.2865e-14, 8.8772e-16, 3.6754e-14,\n",
       "          5.1894e-14, 7.2246e-14, 3.1004e-14, 5.7833e-14, 8.2310e-14,\n",
       "          2.0146e-13, 1.7398e-14, 3.3816e-14, 3.6413e-14, 4.7579e-15,\n",
       "          8.5583e-12, 1.8008e-14, 1.0650e-14, 2.0850e-14, 8.5492e-14,\n",
       "          7.1365e-14, 1.0159e-12, 8.6759e-14, 4.9997e-14, 6.4662e-13],\n",
       "         [3.1983e-01, 2.0241e-02, 2.3782e-01, 5.8737e-02, 2.3255e-01,\n",
       "          2.1095e-01, 1.6361e-01, 3.7251e-01, 1.7552e-01, 9.6999e-02,\n",
       "          8.7154e-03, 3.0323e-01, 6.7104e-02, 1.0094e-01, 5.6577e-01,\n",
       "          1.4403e-01, 9.4436e-04, 4.0044e-01, 1.4634e-01, 3.9223e-01,\n",
       "          7.1458e-02, 2.4797e-02, 3.1321e-01, 2.5077e-01, 1.9169e-01,\n",
       "          3.0725e-01, 6.9715e-01, 4.3358e-01, 4.7759e-01, 2.4066e-01,\n",
       "          4.2159e-01, 2.2212e-02, 1.5604e-02, 5.6514e-03, 1.4699e-01,\n",
       "          9.4266e-01, 7.6190e-01, 7.0130e-03, 5.7981e-01, 9.3484e-01,\n",
       "          1.5298e-01, 3.2116e-01, 2.3213e-01, 1.2122e-01, 6.3743e-01,\n",
       "          2.4179e-01, 7.4252e-01, 2.6023e-02, 6.1858e-01, 8.2867e-02,\n",
       "          2.7045e-01, 6.3056e-03, 6.3821e-01, 1.1572e-01, 4.1599e-01,\n",
       "          5.2805e-01, 1.0946e-03, 1.5443e-02, 1.6318e-01, 6.3355e-01,\n",
       "          7.5786e-01, 1.2871e-01, 3.8489e-01, 2.3571e-01, 3.0474e-01,\n",
       "          4.0807e-01, 6.8820e-01, 6.9057e-01, 6.4342e-02, 1.2459e-01,\n",
       "          3.3013e-01, 3.0072e-01, 8.2148e-03, 5.1097e-02, 3.1410e-01,\n",
       "          2.2848e-01, 3.9439e-01, 1.5639e-01, 6.6516e-01, 2.7618e-01,\n",
       "          1.6414e-01, 3.7607e-02, 8.9467e-01, 1.9100e-01, 7.8175e-01,\n",
       "          2.8271e-01, 7.0486e-01, 4.4622e-02, 4.3518e-02, 8.0565e-01,\n",
       "          9.2066e-01, 1.8710e-01, 6.6573e-01, 2.8158e-01, 6.3516e-01,\n",
       "          1.4517e-01, 2.2816e-01, 2.6133e-01, 5.4007e-01, 8.5603e-01],\n",
       "         [1.1620e-21, 1.0441e-21, 2.3514e-21, 4.3282e-22, 8.2909e-22,\n",
       "          5.2805e-22, 1.0578e-21, 3.0520e-21, 4.1016e-22, 1.6646e-22,\n",
       "          5.2319e-22, 4.9703e-22, 5.1405e-22, 1.7875e-19, 1.0423e-21,\n",
       "          1.1380e-22, 2.6556e-22, 1.5027e-22, 3.2563e-23, 4.8800e-23,\n",
       "          9.2683e-23, 8.5778e-23, 9.2078e-22, 6.9703e-22, 2.4177e-21,\n",
       "          3.9326e-22, 1.6883e-22, 2.6970e-22, 2.7797e-22, 2.6691e-21,\n",
       "          7.6059e-23, 8.4350e-21, 2.3257e-21, 2.8498e-21, 1.0264e-21,\n",
       "          7.5708e-22, 2.9197e-22, 2.3830e-22, 6.4888e-22, 2.4377e-22,\n",
       "          1.4216e-21, 7.2968e-21, 4.1336e-21, 1.4643e-22, 2.0764e-21,\n",
       "          9.9324e-21, 6.7515e-21, 1.2884e-21, 5.4717e-21, 3.4921e-19,\n",
       "          5.4621e-23, 5.2478e-22, 3.2884e-22, 7.2962e-23, 1.0380e-22,\n",
       "          3.3093e-22, 3.5952e-22, 9.0681e-23, 1.1802e-22, 5.6860e-21,\n",
       "          4.4402e-22, 9.5635e-22, 1.2524e-21, 3.8593e-22, 6.2987e-22,\n",
       "          1.1117e-22, 2.7348e-20, 4.1427e-22, 1.0562e-21, 6.4461e-22,\n",
       "          4.6364e-22, 1.5622e-22, 8.1814e-23, 7.1353e-23, 1.1137e-20,\n",
       "          1.8622e-22, 3.1108e-22, 2.2109e-21, 8.8334e-23, 1.6660e-21,\n",
       "          6.9856e-22, 4.8545e-22, 1.8228e-21, 1.2094e-21, 3.6783e-21,\n",
       "          6.7126e-21, 1.3229e-21, 1.2494e-22, 1.8204e-22, 1.6337e-21,\n",
       "          2.7151e-20, 5.8809e-22, 5.0371e-22, 2.0188e-22, 8.4260e-22,\n",
       "          9.8873e-22, 7.4562e-19, 5.0443e-22, 1.0600e-21, 4.2504e-20],\n",
       "         [3.0283e-07, 5.5222e-06, 1.6410e-08, 5.3618e-07, 3.2179e-07,\n",
       "          5.3717e-07, 1.8244e-07, 8.6506e-07, 7.9298e-07, 6.0793e-07,\n",
       "          1.3445e-09, 2.8171e-07, 8.5290e-08, 9.2061e-05, 4.8930e-07,\n",
       "          1.1297e-06, 1.9814e-08, 8.2803e-07, 3.5603e-07, 1.0129e-06,\n",
       "          5.3116e-07, 3.8509e-07, 1.0340e-07, 7.3433e-07, 3.4201e-08,\n",
       "          3.6258e-07, 3.8518e-07, 8.0066e-07, 1.2465e-06, 8.7852e-09,\n",
       "          1.1106e-06, 2.5292e-09, 3.6278e-09, 4.3517e-06, 4.9349e-07,\n",
       "          2.6133e-07, 3.1846e-07, 1.2117e-06, 2.0529e-06, 6.9678e-08,\n",
       "          3.6766e-07, 4.4687e-06, 2.3603e-06, 4.9463e-08, 9.1715e-06,\n",
       "          1.3698e-06, 8.0348e-07, 3.8993e-07, 1.0893e-07, 1.4777e-04,\n",
       "          9.2998e-07, 4.6995e-10, 5.3953e-07, 1.3607e-07, 2.9703e-07,\n",
       "          8.0259e-07, 2.1541e-07, 2.5363e-06, 2.1106e-07, 6.9471e-07,\n",
       "          3.1870e-08, 6.2300e-07, 3.9560e-07, 4.8619e-07, 3.5893e-07,\n",
       "          3.1044e-07, 2.6967e-07, 1.4229e-07, 1.3521e-09, 1.4861e-07,\n",
       "          1.2774e-07, 1.5359e-07, 1.0123e-07, 8.4971e-07, 8.4373e-07,\n",
       "          3.8594e-08, 6.9354e-07, 1.0274e-06, 3.1884e-09, 2.7553e-08,\n",
       "          3.8618e-07, 6.1642e-07, 4.7445e-08, 1.1492e-06, 3.5060e-07,\n",
       "          6.0761e-07, 1.7936e-07, 1.5772e-08, 3.5317e-07, 3.0184e-09,\n",
       "          1.4839e-06, 2.4462e-07, 1.5420e-07, 9.5273e-08, 1.0502e-06,\n",
       "          3.5627e-06, 2.7524e-05, 5.1217e-07, 8.0410e-08, 7.4805e-06],\n",
       "         [3.2084e-23, 1.9162e-22, 1.3090e-22, 2.2960e-23, 1.6181e-22,\n",
       "          6.8806e-23, 4.7787e-24, 2.5554e-22, 5.7357e-23, 1.2985e-23,\n",
       "          2.7625e-22, 1.6907e-23, 4.6794e-24, 3.3713e-20, 2.0776e-23,\n",
       "          1.9397e-23, 3.9852e-24, 1.9242e-22, 6.3959e-24, 3.9754e-23,\n",
       "          4.3416e-24, 1.4440e-22, 1.0194e-22, 3.0619e-23, 1.0183e-22,\n",
       "          1.2090e-23, 4.5781e-22, 8.9904e-23, 5.8174e-23, 3.9107e-22,\n",
       "          1.9265e-23, 5.1640e-22, 4.0621e-22, 1.1900e-22, 1.8331e-23,\n",
       "          1.8164e-22, 6.5277e-23, 6.4813e-23, 2.6044e-21, 6.6903e-23,\n",
       "          1.2475e-22, 1.2482e-21, 3.5438e-22, 1.0013e-23, 2.6226e-21,\n",
       "          4.6827e-23, 1.2967e-22, 3.5911e-23, 1.9409e-22, 3.4934e-20,\n",
       "          1.0081e-23, 1.2946e-22, 4.1714e-23, 1.0166e-23, 3.4083e-23,\n",
       "          6.9615e-23, 3.4772e-23, 2.8834e-23, 1.5224e-23, 2.5868e-23,\n",
       "          4.0300e-23, 5.1987e-22, 3.4073e-23, 3.4440e-23, 1.1431e-23,\n",
       "          3.0208e-23, 1.6123e-20, 6.0445e-23, 9.7837e-22, 7.7610e-23,\n",
       "          5.0268e-23, 2.7698e-22, 1.3766e-23, 1.2841e-23, 1.0315e-21,\n",
       "          1.7629e-23, 8.0557e-23, 4.4088e-23, 3.0944e-23, 1.9927e-23,\n",
       "          2.3960e-24, 6.9826e-24, 1.0356e-22, 6.5951e-23, 3.4780e-23,\n",
       "          2.3869e-22, 7.9087e-23, 3.2404e-24, 3.0588e-23, 3.1885e-23,\n",
       "          3.3100e-21, 2.8029e-23, 7.9234e-23, 3.5350e-23, 1.9271e-23,\n",
       "          3.6448e-23, 4.4096e-21, 4.2996e-23, 2.8828e-22, 9.8639e-22],\n",
       "         [2.3872e-17, 6.6049e-18, 1.1295e-16, 2.8458e-16, 2.5683e-17,\n",
       "          1.1499e-16, 8.6625e-17, 1.3808e-17, 1.4018e-16, 4.8272e-17,\n",
       "          4.4088e-17, 1.3306e-16, 3.7888e-17, 9.9227e-17, 1.2796e-16,\n",
       "          5.3554e-17, 2.3982e-17, 8.8272e-17, 2.3097e-17, 4.3284e-18,\n",
       "          1.4205e-16, 7.3800e-17, 1.4092e-16, 2.1282e-17, 7.6541e-17,\n",
       "          2.1771e-17, 4.5952e-16, 9.4875e-18, 2.5909e-18, 1.9332e-16,\n",
       "          6.7409e-17, 4.2235e-17, 2.9224e-17, 3.0293e-16, 3.4901e-17,\n",
       "          4.7849e-18, 7.5479e-17, 2.1527e-16, 2.7224e-17, 1.4381e-17,\n",
       "          1.5277e-17, 4.0619e-17, 3.4838e-17, 1.8166e-16, 1.7754e-16,\n",
       "          1.5357e-16, 1.2890e-17, 3.2696e-16, 3.2133e-17, 1.6735e-15,\n",
       "          2.1304e-16, 2.8733e-17, 6.4755e-18, 2.9227e-17, 1.5790e-16,\n",
       "          8.6678e-18, 6.3155e-16, 1.0440e-16, 2.3797e-17, 8.1523e-17,\n",
       "          4.6124e-17, 6.3939e-16, 4.6892e-16, 4.0174e-16, 5.6119e-17,\n",
       "          1.4812e-16, 4.3958e-16, 1.1358e-16, 1.2549e-17, 2.8601e-16,\n",
       "          1.3888e-18, 1.4423e-16, 8.8636e-18, 1.1459e-17, 1.2367e-16,\n",
       "          3.2266e-16, 1.7224e-16, 6.0726e-18, 1.4988e-17, 4.1666e-16,\n",
       "          3.8612e-17, 1.8025e-16, 7.8869e-17, 9.8516e-18, 7.1234e-19,\n",
       "          6.7555e-17, 4.2550e-18, 2.2896e-17, 2.6775e-16, 1.0168e-17,\n",
       "          1.9891e-16, 4.4634e-18, 5.4556e-17, 6.3312e-17, 5.5671e-17,\n",
       "          8.1609e-17, 5.9821e-16, 7.1596e-17, 2.7045e-16, 2.6644e-16]]])"
      ]
     },
     "execution_count": 53,
     "metadata": {},
     "output_type": "execute_result"
    }
   ],
   "source": [
    "phi"
   ]
  }
 ],
 "metadata": {
  "kernelspec": {
   "display_name": "torchenv",
   "language": "python",
   "name": "python3"
  },
  "language_info": {
   "codemirror_mode": {
    "name": "ipython",
    "version": 3
   },
   "file_extension": ".py",
   "mimetype": "text/x-python",
   "name": "python",
   "nbconvert_exporter": "python",
   "pygments_lexer": "ipython3",
   "version": "3.9.15"
  }
 },
 "nbformat": 4,
 "nbformat_minor": 2
}
