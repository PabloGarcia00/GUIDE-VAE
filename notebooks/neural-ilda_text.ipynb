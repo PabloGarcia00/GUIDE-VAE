{
 "cells": [
  {
   "cell_type": "markdown",
   "metadata": {},
   "source": [
    "# User Latent Dirichlet Allocation"
   ]
  },
  {
   "cell_type": "code",
   "execution_count": 1,
   "metadata": {},
   "outputs": [
    {
     "data": {
      "text/plain": [
       "<torch.autograd.anomaly_mode.set_detect_anomaly at 0x7f3d40318c70>"
      ]
     },
     "execution_count": 1,
     "metadata": {},
     "output_type": "execute_result"
    }
   ],
   "source": [
    "import os, sys\n",
    "import numpy as np\n",
    "import pandas as pd\n",
    "import matplotlib.pyplot as plt\n",
    "import seaborn as sns\n",
    "\n",
    "import torch\n",
    "import pickle\n",
    "sys.path.append(os.path.abspath('..'))\n",
    "sys.path.append(os.path.abspath('.'))\n",
    "torch.autograd.set_detect_anomaly(True)"
   ]
  },
  {
   "cell_type": "code",
   "execution_count": 2,
   "metadata": {},
   "outputs": [],
   "source": [
    "%load_ext autoreload\n",
    "%autoreload 2\n",
    "\n",
    "from lib.lda_models import InductiveLDA, NeuralLDA, NeuralLLNA\n",
    "from lib import utils as utils"
   ]
  },
  {
   "cell_type": "markdown",
   "metadata": {},
   "source": [
    "Import Data"
   ]
  },
  {
   "cell_type": "code",
   "execution_count": 3,
   "metadata": {},
   "outputs": [],
   "source": [
    "class Corpus:\n",
    "    def __init__(self, datadir):\n",
    "        filenames = ['train.txt.npy', 'test.txt.npy']\n",
    "        self.datapaths = [os.path.join(datadir, x) for x in filenames]\n",
    "        with open(os.path.join(datadir, 'vocab.pkl'), 'rb') as f:\n",
    "            self.vocab = pickle.load(f)\n",
    "        self.train, self.test = [\n",
    "            Data(dp, len(self.vocab)) for dp in self.datapaths]\n",
    "\n",
    "\n",
    "class Data:\n",
    "    def __init__(self, datapath, vocab_size):\n",
    "        data = np.load(datapath, allow_pickle=True, encoding='bytes')\n",
    "        self.data = np.array([np.bincount(x.astype('int'), minlength=vocab_size) for x in data if np.sum(x)>0])\n",
    "        self.documents = data\n",
    "        \n",
    "    @property\n",
    "    def size(self):\n",
    "        return len(self.data)\n",
    "    \n",
    "    def get_batch(self, batch_size, start_id=None):\n",
    "        if start_id is None:\n",
    "            batch_idx = np.random.choice(np.arange(self.size), batch_size)\n",
    "        else:\n",
    "            batch_idx = np.arange(start_id, start_id + batch_size)\n",
    "        batch_data = self.data[batch_idx]\n",
    "        data_tensor = torch.from_numpy(batch_data).float()\n",
    "        return data_tensor"
   ]
  },
  {
   "cell_type": "code",
   "execution_count": 4,
   "metadata": {},
   "outputs": [],
   "source": [
    "corpus = Corpus(\"../data/20news\")"
   ]
  },
  {
   "cell_type": "code",
   "execution_count": 5,
   "metadata": {},
   "outputs": [],
   "source": [
    "RANDOM_SEED = 2112\n",
    "np.random.seed(RANDOM_SEED)"
   ]
  },
  {
   "cell_type": "code",
   "execution_count": 6,
   "metadata": {},
   "outputs": [],
   "source": [
    "X_document = corpus.train.data"
   ]
  },
  {
   "cell_type": "code",
   "execution_count": 7,
   "metadata": {},
   "outputs": [
    {
     "name": "stdout",
     "output_type": "stream",
     "text": [
      "Number of documents: 11258, vocab size: 1995\n"
     ]
    }
   ],
   "source": [
    "num_docs, vocab_size = X_document.shape\n",
    "print(f\"Number of documents: {num_docs}, vocab size: {vocab_size}\")"
   ]
  },
  {
   "cell_type": "code",
   "execution_count": 8,
   "metadata": {},
   "outputs": [],
   "source": [
    "class Dataset(torch.utils.data.Dataset):\n",
    "    def __init__(self, X): self.X = X\n",
    "    def __len__(self): return len(self.X)\n",
    "    def __getitem__(self, index): return self.X[index]"
   ]
  },
  {
   "cell_type": "code",
   "execution_count": 9,
   "metadata": {},
   "outputs": [],
   "source": [
    "dataset = Dataset(torch.tensor(X_document).to(torch.float32))"
   ]
  },
  {
   "cell_type": "code",
   "execution_count": 10,
   "metadata": {},
   "outputs": [],
   "source": [
    "num_topics = 50\n",
    "prodlda = False\n",
    "conv = False\n",
    "num_layers = 1 # num hidden layers in the NN block. There are at least (1+num_heads) hidden layers in the encoder and decoder. num_layers comes on top of those. Total number of hidden layers is (1+num_layers+num_heads).\n",
    "num_neurons = 100\n",
    "dropout = True\n",
    "dropout_rate = 0.25\n",
    "batch_normalization = True\n",
    "prior_param = {'alpha': 1.0}\n",
    "decoder_temperature = 0.5\n",
    "encoder_temperature = 0.5"
   ]
  },
  {
   "cell_type": "code",
   "execution_count": 11,
   "metadata": {},
   "outputs": [],
   "source": [
    "# NeuralModel, prior_param = NeuralLLNA, {\"mu\": 0.0, \"sigma\": 1.0}\n",
    "# NeuralModel = NeuralLDA\n",
    "NeuralModel = InductiveLDA"
   ]
  },
  {
   "cell_type": "code",
   "execution_count": 12,
   "metadata": {},
   "outputs": [],
   "source": [
    "model = NeuralModel(input_dim=vocab_size,\n",
    "                    num_topics=num_topics,\n",
    "                    prior_param=prior_param.copy(),\n",
    "                    conv=conv,\n",
    "                    prodlda=prodlda,\n",
    "                    decoder_temperature=decoder_temperature,\n",
    "                    num_hidden_layers=num_layers,\n",
    "                    num_neurons=num_neurons,\n",
    "                    dropout=dropout,\n",
    "                    dropout_rate=dropout_rate,\n",
    "                    batch_normalization=batch_normalization,\n",
    "                    )"
   ]
  },
  {
   "cell_type": "code",
   "execution_count": 13,
   "metadata": {},
   "outputs": [],
   "source": [
    "lr = 5e-3\n",
    "batch_size = 200\n",
    "num_epochs = 100\n",
    "beta = 1.0\n",
    "learn_prior = True"
   ]
  },
  {
   "cell_type": "code",
   "execution_count": 14,
   "metadata": {},
   "outputs": [
    {
     "name": "stderr",
     "output_type": "stream",
     "text": [
      "Epoch:   0%|          | 0/100 [00:00<?, ?it/s]"
     ]
    },
    {
     "name": "stderr",
     "output_type": "stream",
     "text": [
      "Epoch:   1%|          | 1/100 [00:01<01:45,  1.07s/it]/home/kbolat/miniconda3/envs/torchenv/lib/python3.9/site-packages/torch/autograd/__init__.py:251: UserWarning: CUDA initialization: The NVIDIA driver on your system is too old (found version 11060). Please update your GPU driver by downloading and installing a new version from the URL: http://www.nvidia.com/Download/index.aspx Alternatively, go to: https://pytorch.org to install a PyTorch version that has been compiled with your version of the CUDA driver. (Triggered internally at ../c10/cuda/CUDAFunctions.cpp:108.)\n",
      "  Variable._execution_engine.run_backward(  # Calls into the C++ engine to run the backward pass\n",
      "                                                      \n",
      "Epoch:   2%|▏         | 2/100 [00:04<02:52,  1.76s/it]             "
     ]
    },
    {
     "name": "stdout",
     "output_type": "stream",
     "text": [
      "Iteration: 100 -- ELBO=-6.65e+02 / RLL=-6.57e+02 / KL=8.25e+00\n"
     ]
    },
    {
     "name": "stderr",
     "output_type": "stream",
     "text": [
      "                                                      \n",
      "Epoch:   4%|▍         | 4/100 [00:06<02:28,  1.55s/it]             "
     ]
    },
    {
     "name": "stdout",
     "output_type": "stream",
     "text": [
      "Iteration: 200 -- ELBO=-4.96e+02 / RLL=-4.90e+02 / KL=6.31e+00\n"
     ]
    },
    {
     "name": "stderr",
     "output_type": "stream",
     "text": [
      "                                                      \n",
      "Epoch:   6%|▌         | 6/100 [00:09<02:20,  1.49s/it]             "
     ]
    },
    {
     "name": "stdout",
     "output_type": "stream",
     "text": [
      "Iteration: 300 -- ELBO=-6.39e+02 / RLL=-6.32e+02 / KL=6.36e+00\n"
     ]
    },
    {
     "name": "stderr",
     "output_type": "stream",
     "text": [
      "                                                      \n",
      "Epoch:   8%|▊         | 8/100 [00:12<02:14,  1.47s/it]    "
     ]
    },
    {
     "name": "stdout",
     "output_type": "stream",
     "text": [
      "Iteration: 400 -- ELBO=-4.79e+02 / RLL=-4.74e+02 / KL=4.75e+00\n"
     ]
    },
    {
     "name": "stderr",
     "output_type": "stream",
     "text": [
      "                                                      \n",
      "Epoch:   9%|▉         | 9/100 [00:14<02:13,  1.46s/it]             "
     ]
    },
    {
     "name": "stdout",
     "output_type": "stream",
     "text": [
      "Iteration: 500 -- ELBO=-6.92e+02 / RLL=-6.87e+02 / KL=5.49e+00\n"
     ]
    },
    {
     "name": "stderr",
     "output_type": "stream",
     "text": [
      "                                                       \n",
      "Epoch:  11%|█         | 11/100 [00:17<02:09,  1.46s/it]            "
     ]
    },
    {
     "name": "stdout",
     "output_type": "stream",
     "text": [
      "Iteration: 600 -- ELBO=-7.33e+02 / RLL=-7.27e+02 / KL=6.08e+00\n"
     ]
    },
    {
     "name": "stderr",
     "output_type": "stream",
     "text": [
      "                                                       \n",
      "Epoch:  13%|█▎        | 13/100 [00:19<02:06,  1.45s/it]            "
     ]
    },
    {
     "name": "stdout",
     "output_type": "stream",
     "text": [
      "Iteration: 700 -- ELBO=-4.98e+02 / RLL=-4.94e+02 / KL=4.44e+00\n"
     ]
    },
    {
     "name": "stderr",
     "output_type": "stream",
     "text": [
      "                                                       \n",
      "Epoch:  15%|█▌        | 15/100 [00:22<02:03,  1.46s/it]   "
     ]
    },
    {
     "name": "stdout",
     "output_type": "stream",
     "text": [
      "Iteration: 800 -- ELBO=-5.81e+02 / RLL=-5.75e+02 / KL=6.05e+00\n"
     ]
    },
    {
     "name": "stderr",
     "output_type": "stream",
     "text": [
      "                                                       \n",
      "Epoch:  16%|█▌        | 16/100 [00:24<02:02,  1.46s/it]            "
     ]
    },
    {
     "name": "stdout",
     "output_type": "stream",
     "text": [
      "Iteration: 900 -- ELBO=-7.83e+02 / RLL=-7.75e+02 / KL=7.62e+00\n"
     ]
    },
    {
     "name": "stderr",
     "output_type": "stream",
     "text": [
      "                                                       \n",
      "Epoch:  18%|█▊        | 18/100 [00:27<01:58,  1.45s/it]            "
     ]
    },
    {
     "name": "stdout",
     "output_type": "stream",
     "text": [
      "Iteration: 1000 -- ELBO=-5.08e+02 / RLL=-5.02e+02 / KL=5.65e+00\n"
     ]
    },
    {
     "name": "stderr",
     "output_type": "stream",
     "text": [
      "                                                       \n",
      "Epoch:  20%|██        | 20/100 [00:30<01:59,  1.49s/it]            "
     ]
    },
    {
     "name": "stdout",
     "output_type": "stream",
     "text": [
      "Iteration: 1100 -- ELBO=-6.13e+02 / RLL=-6.06e+02 / KL=7.31e+00\n"
     ]
    },
    {
     "name": "stderr",
     "output_type": "stream",
     "text": [
      "                                                       \n",
      "Epoch:  22%|██▏       | 22/100 [00:32<01:54,  1.47s/it]   "
     ]
    },
    {
     "name": "stdout",
     "output_type": "stream",
     "text": [
      "Iteration: 1200 -- ELBO=-5.93e+02 / RLL=-5.85e+02 / KL=7.78e+00\n"
     ]
    },
    {
     "name": "stderr",
     "output_type": "stream",
     "text": [
      "                                                       \n",
      "Epoch:  23%|██▎       | 23/100 [00:35<01:53,  1.47s/it]            "
     ]
    },
    {
     "name": "stdout",
     "output_type": "stream",
     "text": [
      "Iteration: 1300 -- ELBO=-6.11e+02 / RLL=-6.03e+02 / KL=7.10e+00\n"
     ]
    },
    {
     "name": "stderr",
     "output_type": "stream",
     "text": [
      "                                                       \n",
      "Epoch:  25%|██▌       | 25/100 [00:38<01:56,  1.56s/it]            "
     ]
    },
    {
     "name": "stdout",
     "output_type": "stream",
     "text": [
      "Iteration: 1400 -- ELBO=-6.21e+02 / RLL=-6.12e+02 / KL=9.27e+00\n"
     ]
    },
    {
     "name": "stderr",
     "output_type": "stream",
     "text": [
      "                                                       \n",
      "Epoch:  27%|██▋       | 27/100 [00:40<01:50,  1.51s/it]            "
     ]
    },
    {
     "name": "stdout",
     "output_type": "stream",
     "text": [
      "Iteration: 1500 -- ELBO=-6.06e+02 / RLL=-5.97e+02 / KL=9.18e+00\n"
     ]
    },
    {
     "name": "stderr",
     "output_type": "stream",
     "text": [
      "                                                       \n",
      "Epoch:  29%|██▉       | 29/100 [00:43<01:45,  1.49s/it]   "
     ]
    },
    {
     "name": "stdout",
     "output_type": "stream",
     "text": [
      "Iteration: 1600 -- ELBO=-5.72e+02 / RLL=-5.63e+02 / KL=8.69e+00\n"
     ]
    },
    {
     "name": "stderr",
     "output_type": "stream",
     "text": [
      "                                                       \n",
      "Epoch:  30%|███       | 30/100 [00:45<01:43,  1.48s/it]            "
     ]
    },
    {
     "name": "stdout",
     "output_type": "stream",
     "text": [
      "Iteration: 1700 -- ELBO=-7.84e+02 / RLL=-7.73e+02 / KL=1.15e+01\n"
     ]
    },
    {
     "name": "stderr",
     "output_type": "stream",
     "text": [
      "                                                       \n",
      "Epoch:  32%|███▏      | 32/100 [00:48<01:40,  1.47s/it]            "
     ]
    },
    {
     "name": "stdout",
     "output_type": "stream",
     "text": [
      "Iteration: 1800 -- ELBO=-6.41e+02 / RLL=-6.32e+02 / KL=9.34e+00\n"
     ]
    },
    {
     "name": "stderr",
     "output_type": "stream",
     "text": [
      "                                                       \n",
      "Epoch:  34%|███▍      | 34/100 [00:50<01:36,  1.46s/it]            "
     ]
    },
    {
     "name": "stdout",
     "output_type": "stream",
     "text": [
      "Iteration: 1900 -- ELBO=-5.74e+02 / RLL=-5.63e+02 / KL=1.04e+01\n"
     ]
    },
    {
     "name": "stderr",
     "output_type": "stream",
     "text": [
      "                                                       \n",
      "Epoch:  36%|███▌      | 36/100 [00:53<01:33,  1.46s/it]           "
     ]
    },
    {
     "name": "stdout",
     "output_type": "stream",
     "text": [
      "Iteration: 2000 -- ELBO=-6.23e+02 / RLL=-6.12e+02 / KL=1.11e+01\n"
     ]
    },
    {
     "name": "stderr",
     "output_type": "stream",
     "text": [
      "                                                       \n",
      "Epoch:  37%|███▋      | 37/100 [00:56<01:32,  1.46s/it]            "
     ]
    },
    {
     "name": "stdout",
     "output_type": "stream",
     "text": [
      "Iteration: 2100 -- ELBO=-6.66e+02 / RLL=-6.53e+02 / KL=1.37e+01\n"
     ]
    },
    {
     "name": "stderr",
     "output_type": "stream",
     "text": [
      "                                                       \n",
      "Epoch:  39%|███▉      | 39/100 [00:58<01:29,  1.47s/it]            "
     ]
    },
    {
     "name": "stdout",
     "output_type": "stream",
     "text": [
      "Iteration: 2200 -- ELBO=-4.83e+02 / RLL=-4.71e+02 / KL=1.21e+01\n"
     ]
    },
    {
     "name": "stderr",
     "output_type": "stream",
     "text": [
      "                                                       \n",
      "Epoch:  41%|████      | 41/100 [01:01<01:26,  1.46s/it]            "
     ]
    },
    {
     "name": "stdout",
     "output_type": "stream",
     "text": [
      "Iteration: 2300 -- ELBO=-4.93e+02 / RLL=-4.81e+02 / KL=1.27e+01\n"
     ]
    },
    {
     "name": "stderr",
     "output_type": "stream",
     "text": [
      "                                                       \n",
      "Epoch:  43%|████▎     | 43/100 [01:03<01:23,  1.46s/it]           "
     ]
    },
    {
     "name": "stdout",
     "output_type": "stream",
     "text": [
      "Iteration: 2400 -- ELBO=-6.64e+02 / RLL=-6.49e+02 / KL=1.48e+01\n"
     ]
    },
    {
     "name": "stderr",
     "output_type": "stream",
     "text": [
      "                                                       \n",
      "Epoch:  44%|████▍     | 44/100 [01:06<01:21,  1.46s/it]            "
     ]
    },
    {
     "name": "stdout",
     "output_type": "stream",
     "text": [
      "Iteration: 2500 -- ELBO=-5.18e+02 / RLL=-5.05e+02 / KL=1.31e+01\n"
     ]
    },
    {
     "name": "stderr",
     "output_type": "stream",
     "text": [
      "                                                       \n",
      "Epoch:  46%|████▌     | 46/100 [01:08<01:18,  1.46s/it]            "
     ]
    },
    {
     "name": "stdout",
     "output_type": "stream",
     "text": [
      "Iteration: 2600 -- ELBO=-5.58e+02 / RLL=-5.42e+02 / KL=1.56e+01\n"
     ]
    },
    {
     "name": "stderr",
     "output_type": "stream",
     "text": [
      "                                                       \n",
      "Epoch:  48%|████▊     | 48/100 [01:11<01:16,  1.48s/it]            "
     ]
    },
    {
     "name": "stdout",
     "output_type": "stream",
     "text": [
      "Iteration: 2700 -- ELBO=-5.81e+02 / RLL=-5.65e+02 / KL=1.53e+01\n"
     ]
    },
    {
     "name": "stderr",
     "output_type": "stream",
     "text": [
      "                                                       \n",
      "Epoch:  50%|█████     | 50/100 [01:14<01:13,  1.47s/it]           "
     ]
    },
    {
     "name": "stdout",
     "output_type": "stream",
     "text": [
      "Iteration: 2800 -- ELBO=-7.89e+02 / RLL=-7.72e+02 / KL=1.71e+01\n"
     ]
    },
    {
     "name": "stderr",
     "output_type": "stream",
     "text": [
      "                                                       \n",
      "Epoch:  52%|█████▏    | 52/100 [01:16<01:10,  1.48s/it]            "
     ]
    },
    {
     "name": "stdout",
     "output_type": "stream",
     "text": [
      "Iteration: 2900 -- ELBO=-5.95e+02 / RLL=-5.79e+02 / KL=1.59e+01\n"
     ]
    },
    {
     "name": "stderr",
     "output_type": "stream",
     "text": [
      "                                                       \n",
      "Epoch:  53%|█████▎    | 53/100 [01:19<01:09,  1.48s/it]            "
     ]
    },
    {
     "name": "stdout",
     "output_type": "stream",
     "text": [
      "Iteration: 3000 -- ELBO=-4.64e+02 / RLL=-4.49e+02 / KL=1.44e+01\n"
     ]
    },
    {
     "name": "stderr",
     "output_type": "stream",
     "text": [
      "                                                       \n",
      "Epoch:  55%|█████▌    | 55/100 [01:22<01:07,  1.50s/it]            "
     ]
    },
    {
     "name": "stdout",
     "output_type": "stream",
     "text": [
      "Iteration: 3100 -- ELBO=-5.74e+02 / RLL=-5.57e+02 / KL=1.65e+01\n"
     ]
    },
    {
     "name": "stderr",
     "output_type": "stream",
     "text": [
      "                                                       \n",
      "Epoch:  57%|█████▋    | 57/100 [01:24<01:03,  1.48s/it]           "
     ]
    },
    {
     "name": "stdout",
     "output_type": "stream",
     "text": [
      "Iteration: 3200 -- ELBO=-7.77e+02 / RLL=-7.58e+02 / KL=1.89e+01\n"
     ]
    },
    {
     "name": "stderr",
     "output_type": "stream",
     "text": [
      "                                                       \n",
      "Epoch:  59%|█████▉    | 59/100 [01:27<01:00,  1.48s/it]            "
     ]
    },
    {
     "name": "stdout",
     "output_type": "stream",
     "text": [
      "Iteration: 3300 -- ELBO=-5.99e+02 / RLL=-5.82e+02 / KL=1.70e+01\n"
     ]
    },
    {
     "name": "stderr",
     "output_type": "stream",
     "text": [
      "                                                       \n",
      "Epoch:  60%|██████    | 60/100 [01:29<00:58,  1.47s/it]            "
     ]
    },
    {
     "name": "stdout",
     "output_type": "stream",
     "text": [
      "Iteration: 3400 -- ELBO=-6.26e+02 / RLL=-6.09e+02 / KL=1.68e+01\n"
     ]
    },
    {
     "name": "stderr",
     "output_type": "stream",
     "text": [
      "                                                       \n",
      "Epoch:  62%|██████▏   | 62/100 [01:32<00:55,  1.47s/it]            "
     ]
    },
    {
     "name": "stdout",
     "output_type": "stream",
     "text": [
      "Iteration: 3500 -- ELBO=-5.51e+02 / RLL=-5.33e+02 / KL=1.76e+01\n"
     ]
    },
    {
     "name": "stderr",
     "output_type": "stream",
     "text": [
      "                                                       \n",
      "Epoch:  64%|██████▍   | 64/100 [01:34<00:52,  1.47s/it]           "
     ]
    },
    {
     "name": "stdout",
     "output_type": "stream",
     "text": [
      "Iteration: 3600 -- ELBO=-6.03e+02 / RLL=-5.86e+02 / KL=1.68e+01\n"
     ]
    },
    {
     "name": "stderr",
     "output_type": "stream",
     "text": [
      "                                                       \n",
      "Epoch:  66%|██████▌   | 66/100 [01:37<00:50,  1.47s/it]            "
     ]
    },
    {
     "name": "stdout",
     "output_type": "stream",
     "text": [
      "Iteration: 3700 -- ELBO=-5.80e+02 / RLL=-5.62e+02 / KL=1.86e+01\n"
     ]
    },
    {
     "name": "stderr",
     "output_type": "stream",
     "text": [
      "                                                       \n",
      "Epoch:  67%|██████▋   | 67/100 [01:40<00:48,  1.47s/it]            "
     ]
    },
    {
     "name": "stdout",
     "output_type": "stream",
     "text": [
      "Iteration: 3800 -- ELBO=-6.07e+02 / RLL=-5.88e+02 / KL=1.87e+01\n"
     ]
    },
    {
     "name": "stderr",
     "output_type": "stream",
     "text": [
      "                                                       \n",
      "Epoch:  69%|██████▉   | 69/100 [01:42<00:45,  1.47s/it]            "
     ]
    },
    {
     "name": "stdout",
     "output_type": "stream",
     "text": [
      "Iteration: 3900 -- ELBO=-5.57e+02 / RLL=-5.38e+02 / KL=1.86e+01\n"
     ]
    },
    {
     "name": "stderr",
     "output_type": "stream",
     "text": [
      "                                                       \n",
      "Epoch:  71%|███████   | 71/100 [01:45<00:42,  1.47s/it]            "
     ]
    },
    {
     "name": "stdout",
     "output_type": "stream",
     "text": [
      "Iteration: 4000 -- ELBO=-6.35e+02 / RLL=-6.18e+02 / KL=1.72e+01\n"
     ]
    },
    {
     "name": "stderr",
     "output_type": "stream",
     "text": [
      "                                                       \n",
      "Epoch:  73%|███████▎  | 73/100 [01:47<00:39,  1.47s/it]            "
     ]
    },
    {
     "name": "stdout",
     "output_type": "stream",
     "text": [
      "Iteration: 4100 -- ELBO=-5.78e+02 / RLL=-5.60e+02 / KL=1.82e+01\n"
     ]
    },
    {
     "name": "stderr",
     "output_type": "stream",
     "text": [
      "                                                       \n",
      "Epoch:  74%|███████▍  | 74/100 [01:50<00:38,  1.47s/it]            "
     ]
    },
    {
     "name": "stdout",
     "output_type": "stream",
     "text": [
      "Iteration: 4200 -- ELBO=-6.46e+02 / RLL=-6.28e+02 / KL=1.87e+01\n"
     ]
    },
    {
     "name": "stderr",
     "output_type": "stream",
     "text": [
      "                                                       \n",
      "Epoch:  76%|███████▌  | 76/100 [01:53<00:35,  1.47s/it]            "
     ]
    },
    {
     "name": "stdout",
     "output_type": "stream",
     "text": [
      "Iteration: 4300 -- ELBO=-6.41e+02 / RLL=-6.22e+02 / KL=1.90e+01\n"
     ]
    },
    {
     "name": "stderr",
     "output_type": "stream",
     "text": [
      "                                                       \n",
      "Epoch:  78%|███████▊  | 78/100 [01:55<00:32,  1.49s/it]            "
     ]
    },
    {
     "name": "stdout",
     "output_type": "stream",
     "text": [
      "Iteration: 4400 -- ELBO=-7.45e+02 / RLL=-7.25e+02 / KL=1.99e+01\n"
     ]
    },
    {
     "name": "stderr",
     "output_type": "stream",
     "text": [
      "                                                       \n",
      "Epoch:  80%|████████  | 80/100 [01:58<00:29,  1.50s/it]            "
     ]
    },
    {
     "name": "stdout",
     "output_type": "stream",
     "text": [
      "Iteration: 4500 -- ELBO=-5.50e+02 / RLL=-5.31e+02 / KL=1.93e+01\n"
     ]
    },
    {
     "name": "stderr",
     "output_type": "stream",
     "text": [
      "                                                       \n",
      "Epoch:  81%|████████  | 81/100 [02:00<00:28,  1.50s/it]            "
     ]
    },
    {
     "name": "stdout",
     "output_type": "stream",
     "text": [
      "Iteration: 4600 -- ELBO=-6.73e+02 / RLL=-6.53e+02 / KL=2.00e+01\n"
     ]
    },
    {
     "name": "stderr",
     "output_type": "stream",
     "text": [
      "                                                       \n",
      "Epoch:  83%|████████▎ | 83/100 [02:03<00:25,  1.48s/it]            "
     ]
    },
    {
     "name": "stdout",
     "output_type": "stream",
     "text": [
      "Iteration: 4700 -- ELBO=-5.81e+02 / RLL=-5.61e+02 / KL=1.97e+01\n"
     ]
    },
    {
     "name": "stderr",
     "output_type": "stream",
     "text": [
      "                                                       \n",
      "Epoch:  85%|████████▌ | 85/100 [02:06<00:22,  1.48s/it]            "
     ]
    },
    {
     "name": "stdout",
     "output_type": "stream",
     "text": [
      "Iteration: 4800 -- ELBO=-6.70e+02 / RLL=-6.48e+02 / KL=2.13e+01\n"
     ]
    },
    {
     "name": "stderr",
     "output_type": "stream",
     "text": [
      "                                                       \n",
      "Epoch:  87%|████████▋ | 87/100 [02:08<00:19,  1.47s/it]            "
     ]
    },
    {
     "name": "stdout",
     "output_type": "stream",
     "text": [
      "Iteration: 4900 -- ELBO=-6.82e+02 / RLL=-6.62e+02 / KL=2.09e+01\n"
     ]
    },
    {
     "name": "stderr",
     "output_type": "stream",
     "text": [
      "                                                       \n",
      "Epoch:  88%|████████▊ | 88/100 [02:11<00:17,  1.47s/it]            "
     ]
    },
    {
     "name": "stdout",
     "output_type": "stream",
     "text": [
      "Iteration: 5000 -- ELBO=-5.61e+02 / RLL=-5.41e+02 / KL=1.98e+01\n"
     ]
    },
    {
     "name": "stderr",
     "output_type": "stream",
     "text": [
      "                                                       \n",
      "Epoch:  90%|█████████ | 90/100 [02:13<00:14,  1.47s/it]            "
     ]
    },
    {
     "name": "stdout",
     "output_type": "stream",
     "text": [
      "Iteration: 5100 -- ELBO=-6.31e+02 / RLL=-6.10e+02 / KL=2.16e+01\n"
     ]
    },
    {
     "name": "stderr",
     "output_type": "stream",
     "text": [
      "                                                       \n",
      "Epoch:  92%|█████████▏| 92/100 [02:16<00:11,  1.47s/it]            "
     ]
    },
    {
     "name": "stdout",
     "output_type": "stream",
     "text": [
      "Iteration: 5200 -- ELBO=-5.70e+02 / RLL=-5.51e+02 / KL=1.86e+01\n"
     ]
    },
    {
     "name": "stderr",
     "output_type": "stream",
     "text": [
      "                                                       \n",
      "Epoch:  94%|█████████▍| 94/100 [02:18<00:08,  1.47s/it]            "
     ]
    },
    {
     "name": "stdout",
     "output_type": "stream",
     "text": [
      "Iteration: 5300 -- ELBO=-6.27e+02 / RLL=-6.08e+02 / KL=1.97e+01\n"
     ]
    },
    {
     "name": "stderr",
     "output_type": "stream",
     "text": [
      "                                                       \n",
      "Epoch:  95%|█████████▌| 95/100 [02:21<00:07,  1.46s/it]            "
     ]
    },
    {
     "name": "stdout",
     "output_type": "stream",
     "text": [
      "Iteration: 5400 -- ELBO=-5.60e+02 / RLL=-5.40e+02 / KL=2.05e+01\n"
     ]
    },
    {
     "name": "stderr",
     "output_type": "stream",
     "text": [
      "                                                       \n",
      "Epoch:  97%|█████████▋| 97/100 [02:24<00:04,  1.50s/it]            "
     ]
    },
    {
     "name": "stdout",
     "output_type": "stream",
     "text": [
      "Iteration: 5500 -- ELBO=-7.60e+02 / RLL=-7.37e+02 / KL=2.30e+01\n"
     ]
    },
    {
     "name": "stderr",
     "output_type": "stream",
     "text": [
      "                                                       \n",
      "Epoch:  99%|█████████▉| 99/100 [02:26<00:01,  1.48s/it]            "
     ]
    },
    {
     "name": "stdout",
     "output_type": "stream",
     "text": [
      "Iteration: 5600 -- ELBO=-4.84e+02 / RLL=-4.65e+02 / KL=1.97e+01\n"
     ]
    },
    {
     "name": "stderr",
     "output_type": "stream",
     "text": [
      "                                                        \n",
      "Epoch: 100%|██████████| 100/100 [02:29<00:00,  1.49s/it]           \n",
      "Iteration in Epoch: 100%|██████████| 57/57 [00:01<00:00, 39.20it/s]"
     ]
    },
    {
     "name": "stdout",
     "output_type": "stream",
     "text": [
      "Iteration: 5700 -- ELBO=-8.19e+02 / RLL=-7.96e+02 / KL=2.26e+01\n"
     ]
    },
    {
     "name": "stderr",
     "output_type": "stream",
     "text": [
      "\n"
     ]
    }
   ],
   "source": [
    "# Train the model using default partitioning choice \n",
    "model.fit(lr=lr,\n",
    "            dataloader = torch.utils.data.DataLoader(dataset, batch_size=batch_size, shuffle=True),\n",
    "            epochs = num_epochs,\n",
    "            beta = beta,\n",
    "            mc_samples = 2,\n",
    "            learn_prior = learn_prior,\n",
    "            tensorboard = False,\n",
    "            )"
   ]
  },
  {
   "cell_type": "code",
   "execution_count": 26,
   "metadata": {},
   "outputs": [
    {
     "data": {
      "text/plain": [
       "tensor([0.3099, 0.4807, 0.2176, 1.1569, 0.4210, 0.1922, 0.3271, 0.9628, 0.4790,\n",
       "        0.5742, 0.3566, 1.4646, 0.3131, 0.4169, 0.4414, 0.5714, 0.6545, 0.2554,\n",
       "        0.3189, 0.4832, 0.3679, 0.3134, 0.3316, 0.3011, 0.3390, 0.2091, 0.4431,\n",
       "        0.3335, 0.2844, 0.3327, 0.8802, 0.2575, 0.4042, 0.2156, 0.3167, 0.3311,\n",
       "        0.8556, 0.3276, 0.8866, 0.2643, 0.3845, 0.5225, 1.1200, 0.6307, 0.3171,\n",
       "        0.3397, 0.3033, 0.3549, 0.5953, 0.3397], grad_fn=<SoftplusBackward0>)"
      ]
     },
     "execution_count": 26,
     "metadata": {},
     "output_type": "execute_result"
    }
   ],
   "source": [
    "model.get_prior_params()"
   ]
  },
  {
   "cell_type": "code",
   "execution_count": 27,
   "metadata": {},
   "outputs": [
    {
     "data": {
      "text/plain": [
       "tensor([[2.1995e-07, 6.8660e-06, 2.7452e-03,  ..., 7.9394e-07, 3.8417e-07,\n",
       "         3.8532e-07],\n",
       "        [1.2983e-07, 1.8918e-04, 1.3536e-02,  ..., 1.9852e-04, 7.4385e-06,\n",
       "         6.4228e-09],\n",
       "        [4.2763e-09, 2.9884e-05, 1.8029e-02,  ..., 7.1468e-07, 3.7180e-08,\n",
       "         2.8222e-05],\n",
       "        ...,\n",
       "        [3.6749e-07, 2.1967e-03, 2.3075e-03,  ..., 8.8084e-05, 4.8963e-07,\n",
       "         3.1720e-09],\n",
       "        [8.4535e-08, 6.3969e-05, 1.0155e-02,  ..., 4.2998e-09, 1.9751e-08,\n",
       "         5.4217e-09],\n",
       "        [9.9691e-08, 3.4520e-03, 5.3143e-03,  ..., 2.5566e-07, 8.6839e-05,\n",
       "         9.1595e-08]])"
      ]
     },
     "execution_count": 27,
     "metadata": {},
     "output_type": "execute_result"
    }
   ],
   "source": [
    "model.decoder.get_beta().detach()"
   ]
  },
  {
   "cell_type": "code",
   "execution_count": 28,
   "metadata": {},
   "outputs": [
    {
     "data": {
      "text/plain": [
       "InductiveLDA(\n",
       "  (encoder): DirichletNN(\n",
       "    (parameterizer): ParameterizerNN(\n",
       "      (block_dict): ModuleDict(\n",
       "        (input): NNBlock(\n",
       "          (input_layer): Sequential(\n",
       "            (0): Linear(in_features=1995, out_features=100, bias=True)\n",
       "            (1): Softplus(beta=1, threshold=20)\n",
       "          )\n",
       "          (middle_layers): ModuleList(\n",
       "            (0): Sequential(\n",
       "              (0): Linear(in_features=100, out_features=100, bias=True)\n",
       "              (1): Softplus(beta=1, threshold=20)\n",
       "            )\n",
       "          )\n",
       "          (output_layer): Sequential(\n",
       "            (0): Linear(in_features=100, out_features=100, bias=True)\n",
       "            (1): Softplus(beta=1, threshold=20)\n",
       "          )\n",
       "        )\n",
       "        (alpha): NNBlock(\n",
       "          (input_layer): Sequential(\n",
       "            (0): Linear(in_features=100, out_features=100, bias=True)\n",
       "            (1): Softplus(beta=1, threshold=20)\n",
       "          )\n",
       "          (middle_layers): ModuleList()\n",
       "          (output_layer): Sequential(\n",
       "            (0): Linear(in_features=100, out_features=50, bias=True)\n",
       "            (1): BatchNorm1d(50, eps=1e-05, momentum=0.1, affine=True, track_running_stats=True)\n",
       "            (2): Dropout(p=0.25, inplace=False)\n",
       "          )\n",
       "        )\n",
       "      )\n",
       "    )\n",
       "  )\n",
       "  (decoder): BetaDecoder()\n",
       ")"
      ]
     },
     "execution_count": 28,
     "metadata": {},
     "output_type": "execute_result"
    }
   ],
   "source": [
    "model.eval()"
   ]
  },
  {
   "cell_type": "code",
   "execution_count": 29,
   "metadata": {},
   "outputs": [],
   "source": [
    "from gensim.models import CoherenceModel\n",
    "from gensim.corpora.dictionary import Dictionary\n",
    "import gensim.corpora as corpora"
   ]
  },
  {
   "cell_type": "code",
   "execution_count": 30,
   "metadata": {},
   "outputs": [],
   "source": [
    "## turn the encoding in corpus.train.documents into a list of list of words using the vocab\n",
    "id2word = {v: k for k, v in corpus.vocab.items()}\n",
    "texts = [[id2word[i] for i in doc] for doc in corpus.train.documents]"
   ]
  },
  {
   "cell_type": "code",
   "execution_count": 31,
   "metadata": {},
   "outputs": [],
   "source": [
    "Beta = model.decoder.get_beta().detach().numpy()\n",
    "# Beta = model.decoder.beta_unnorm.detach().numpy()"
   ]
  },
  {
   "cell_type": "code",
   "execution_count": 32,
   "metadata": {},
   "outputs": [
    {
     "data": {
      "image/png": "[encoded data removed]",
      "text/plain": [
       "<Figure size 2000x500 with 2 Axes>"
      ]
     },
     "metadata": {},
     "output_type": "display_data"
    }
   ],
   "source": [
    "fig, ax = plt.subplots(figsize=(20,5))\n",
    "im = ax.imshow((Beta), aspect='auto', cmap='Greens', interpolation='none')\n",
    "ax.set_title('Word distribution over topics (Beta matrix)')\n",
    "ax.set_ylabel('Topic')\n",
    "ax.set_xlabel('Word')\n",
    "ax.tick_params(axis=u'both', which=u'both',length=0)\n",
    "ax.xaxis.tick_top()\n",
    "ax.xaxis.set_label_position('top')\n",
    "fig.colorbar(im, ax=ax, label='Probability')\n",
    "plt.show()"
   ]
  },
  {
   "cell_type": "code",
   "execution_count": 33,
   "metadata": {},
   "outputs": [],
   "source": [
    "result = {}\n",
    "result[\"topic-word-matrix\"] = Beta\n",
    "\n",
    "top_k = 10\n",
    "\n",
    "if top_k > 0:\n",
    "    topics_output = []\n",
    "    for topic in result[\"topic-word-matrix\"]:\n",
    "        top_k_words = list(reversed([id2word[i] for i in np.argsort(topic)[-top_k:]]))\n",
    "        topics_output.append(top_k_words)\n",
    "    result[\"topics\"] = topics_output"
   ]
  },
  {
   "cell_type": "code",
   "execution_count": 34,
   "metadata": {},
   "outputs": [
    {
     "data": {
      "text/plain": [
       "[['health',\n",
       "  'program',\n",
       "  'president',\n",
       "  'year',\n",
       "  'care',\n",
       "  'child',\n",
       "  'government',\n",
       "  'medical',\n",
       "  'national',\n",
       "  'american'],\n",
       " ['drive',\n",
       "  'use',\n",
       "  'work',\n",
       "  'system',\n",
       "  'get',\n",
       "  'problem',\n",
       "  'chip',\n",
       "  'one',\n",
       "  'computer',\n",
       "  'disk'],\n",
       " ['db',\n",
       "  'say',\n",
       "  'go',\n",
       "  'people',\n",
       "  'one',\n",
       "  'armenians',\n",
       "  'armenian',\n",
       "  'come',\n",
       "  'kill',\n",
       "  'apartment'],\n",
       " ['get',\n",
       "  'people',\n",
       "  'think',\n",
       "  'go',\n",
       "  'like',\n",
       "  'want',\n",
       "  'know',\n",
       "  'thing',\n",
       "  'make',\n",
       "  'say'],\n",
       " ['god',\n",
       "  'people',\n",
       "  'life',\n",
       "  'christian',\n",
       "  'believe',\n",
       "  'religion',\n",
       "  'man',\n",
       "  'die',\n",
       "  'say',\n",
       "  'hell'],\n",
       " ['file',\n",
       "  'entry',\n",
       "  'output',\n",
       "  'program',\n",
       "  'use',\n",
       "  'section',\n",
       "  'rule',\n",
       "  'line',\n",
       "  'build',\n",
       "  'info'],\n",
       " ['jesus',\n",
       "  'god',\n",
       "  'christian',\n",
       "  'say',\n",
       "  'law',\n",
       "  'church',\n",
       "  'bible',\n",
       "  'truth',\n",
       "  'one',\n",
       "  'word'],\n",
       " ['know',\n",
       "  'anyone',\n",
       "  'thanks',\n",
       "  'please',\n",
       "  'help',\n",
       "  'look',\n",
       "  'find',\n",
       "  'question',\n",
       "  'like',\n",
       "  'work'],\n",
       " ['post',\n",
       "  'group',\n",
       "  'information',\n",
       "  'list',\n",
       "  'send',\n",
       "  'internet',\n",
       "  'mail',\n",
       "  'address',\n",
       "  'email',\n",
       "  'newsgroup'],\n",
       " ['buy', 'car', 'get', 'price', 'sell', 'new', 'good', 'cost', 'pay', 'like'],\n",
       " ['disease',\n",
       "  'food',\n",
       "  'use',\n",
       "  'study',\n",
       "  'msg',\n",
       "  'cause',\n",
       "  'patient',\n",
       "  'doctor',\n",
       "  'effect',\n",
       "  'drug'],\n",
       " ['one',\n",
       "  'think',\n",
       "  'like',\n",
       "  'get',\n",
       "  'write',\n",
       "  'know',\n",
       "  'say',\n",
       "  'thing',\n",
       "  'make',\n",
       "  'see'],\n",
       " ['game',\n",
       "  'team',\n",
       "  'play',\n",
       "  'go',\n",
       "  'hockey',\n",
       "  'win',\n",
       "  'player',\n",
       "  'get',\n",
       "  'season',\n",
       "  'goal'],\n",
       " ['man',\n",
       "  'book',\n",
       "  'one',\n",
       "  'say',\n",
       "  'show',\n",
       "  'homosexual',\n",
       "  'word',\n",
       "  'find',\n",
       "  'claim',\n",
       "  'woman'],\n",
       " ['card',\n",
       "  'use',\n",
       "  'windows',\n",
       "  'driver',\n",
       "  'dos',\n",
       "  'run',\n",
       "  'video',\n",
       "  'system',\n",
       "  'pc',\n",
       "  'mac'],\n",
       " ['day',\n",
       "  'child',\n",
       "  'people',\n",
       "  'one',\n",
       "  'say',\n",
       "  'see',\n",
       "  'take',\n",
       "  'life',\n",
       "  'man',\n",
       "  'come'],\n",
       " ['year',\n",
       "  'good',\n",
       "  'last',\n",
       "  'think',\n",
       "  'get',\n",
       "  'better',\n",
       "  'hit',\n",
       "  'make',\n",
       "  'win',\n",
       "  'well'],\n",
       " ['key',\n",
       "  'chip',\n",
       "  'encryption',\n",
       "  'use',\n",
       "  'clipper',\n",
       "  'government',\n",
       "  'technology',\n",
       "  'law',\n",
       "  'device',\n",
       "  'system'],\n",
       " ['fire',\n",
       "  'fbi',\n",
       "  'koresh',\n",
       "  'start',\n",
       "  'child',\n",
       "  'gas',\n",
       "  'people',\n",
       "  'day',\n",
       "  'write',\n",
       "  'believe'],\n",
       " ['use',\n",
       "  'window',\n",
       "  'problem',\n",
       "  'run',\n",
       "  'program',\n",
       "  'work',\n",
       "  'display',\n",
       "  'screen',\n",
       "  'windows',\n",
       "  'try'],\n",
       " ['car',\n",
       "  'bike',\n",
       "  'ride',\n",
       "  'dod',\n",
       "  'drive',\n",
       "  'road',\n",
       "  'speed',\n",
       "  'engine',\n",
       "  'driver',\n",
       "  'brake'],\n",
       " ['god',\n",
       "  'jesus',\n",
       "  'christian',\n",
       "  'say',\n",
       "  'believe',\n",
       "  'christ',\n",
       "  'faith',\n",
       "  'bible',\n",
       "  'one',\n",
       "  'sin'],\n",
       " ['law',\n",
       "  'government',\n",
       "  'bill',\n",
       "  'state',\n",
       "  'police',\n",
       "  'federal',\n",
       "  'court',\n",
       "  'public',\n",
       "  'gun',\n",
       "  'crime'],\n",
       " ['university',\n",
       "  'april',\n",
       "  'center',\n",
       "  'la',\n",
       "  'radio',\n",
       "  'research',\n",
       "  'new',\n",
       "  'van',\n",
       "  'may',\n",
       "  'de'],\n",
       " ['key',\n",
       "  'use',\n",
       "  'chip',\n",
       "  'system',\n",
       "  'encryption',\n",
       "  'message',\n",
       "  'des',\n",
       "  'public',\n",
       "  'security',\n",
       "  'algorithm'],\n",
       " ['turkish',\n",
       "  'armenian',\n",
       "  'armenians',\n",
       "  'armenia',\n",
       "  'turks',\n",
       "  'turkey',\n",
       "  'people',\n",
       "  'greek',\n",
       "  'genocide',\n",
       "  'government'],\n",
       " ['say',\n",
       "  'think',\n",
       "  'moral',\n",
       "  'system',\n",
       "  'one',\n",
       "  'claim',\n",
       "  'evidence',\n",
       "  'argument',\n",
       "  'morality',\n",
       "  'objective'],\n",
       " ['space',\n",
       "  'datum',\n",
       "  'image',\n",
       "  'system',\n",
       "  'orbit',\n",
       "  'design',\n",
       "  'use',\n",
       "  'nasa',\n",
       "  'earth',\n",
       "  'software'],\n",
       " ['gun',\n",
       "  'crime',\n",
       "  'weapon',\n",
       "  'firearm',\n",
       "  'rate',\n",
       "  'use',\n",
       "  'kill',\n",
       "  'criminal',\n",
       "  'handgun',\n",
       "  'control'],\n",
       " ['power',\n",
       "  'new',\n",
       "  'war',\n",
       "  'appear',\n",
       "  'military',\n",
       "  'nuclear',\n",
       "  'force',\n",
       "  'south',\n",
       "  'art',\n",
       "  'plan'],\n",
       " ['one',\n",
       "  'use',\n",
       "  'good',\n",
       "  'year',\n",
       "  'much',\n",
       "  'like',\n",
       "  'write',\n",
       "  'also',\n",
       "  'new',\n",
       "  'time'],\n",
       " ['president',\n",
       "  'go',\n",
       "  'say',\n",
       "  'tax',\n",
       "  'think',\n",
       "  'know',\n",
       "  'job',\n",
       "  'make',\n",
       "  'stephanopoulos',\n",
       "  'work'],\n",
       " ['available',\n",
       "  'version',\n",
       "  'file',\n",
       "  'image',\n",
       "  'include',\n",
       "  'use',\n",
       "  'software',\n",
       "  'program',\n",
       "  'also',\n",
       "  'system'],\n",
       " ['israel',\n",
       "  'israeli',\n",
       "  'arab',\n",
       "  'attack',\n",
       "  'jews',\n",
       "  'lebanese',\n",
       "  'peace',\n",
       "  'state',\n",
       "  'kill',\n",
       "  'lebanon'],\n",
       " ['space',\n",
       "  'university',\n",
       "  'information',\n",
       "  'research',\n",
       "  'center',\n",
       "  'satellite',\n",
       "  'include',\n",
       "  'program',\n",
       "  'launch',\n",
       "  'national'],\n",
       " ['space',\n",
       "  'year',\n",
       "  'cost',\n",
       "  'launch',\n",
       "  'nasa',\n",
       "  'moon',\n",
       "  'project',\n",
       "  'work',\n",
       "  'technology',\n",
       "  'first'],\n",
       " ['write',\n",
       "  'article',\n",
       "  'get',\n",
       "  'opinion',\n",
       "  'david',\n",
       "  'michael',\n",
       "  'know',\n",
       "  'like',\n",
       "  'sure',\n",
       "  'steve'],\n",
       " ['game',\n",
       "  'team',\n",
       "  'player',\n",
       "  'play',\n",
       "  'win',\n",
       "  'run',\n",
       "  'year',\n",
       "  'score',\n",
       "  'season',\n",
       "  'baseball'],\n",
       " ['go', 'say', 'one', 'come', 'get', 'know', 'see', 'take', 'time', 'tell'],\n",
       " ['new',\n",
       "  'period',\n",
       "  'san',\n",
       "  'pt',\n",
       "  'play',\n",
       "  'team',\n",
       "  'la',\n",
       "  'chicago',\n",
       "  'york',\n",
       "  'city'],\n",
       " ['people',\n",
       "  'war',\n",
       "  'jews',\n",
       "  'state',\n",
       "  'country',\n",
       "  'government',\n",
       "  'rights',\n",
       "  'world',\n",
       "  'israel',\n",
       "  'jewish'],\n",
       " ['include',\n",
       "  'new',\n",
       "  'offer',\n",
       "  'list',\n",
       "  'please',\n",
       "  'price',\n",
       "  'sale',\n",
       "  'sell',\n",
       "  'ask',\n",
       "  'send'],\n",
       " ['write',\n",
       "  'article',\n",
       "  'post',\n",
       "  'know',\n",
       "  'anyone',\n",
       "  'think',\n",
       "  'one',\n",
       "  'read',\n",
       "  'say',\n",
       "  'never'],\n",
       " ['one',\n",
       "  'question',\n",
       "  'exist',\n",
       "  'science',\n",
       "  'use',\n",
       "  'point',\n",
       "  'example',\n",
       "  'make',\n",
       "  'argument',\n",
       "  'many'],\n",
       " ['drive',\n",
       "  'disk',\n",
       "  'system',\n",
       "  'speed',\n",
       "  'use',\n",
       "  'controller',\n",
       "  'hard',\n",
       "  'scsi',\n",
       "  'datum',\n",
       "  'card'],\n",
       " ['government',\n",
       "  'right',\n",
       "  'law',\n",
       "  'people',\n",
       "  'state',\n",
       "  'rights',\n",
       "  'arm',\n",
       "  'weapon',\n",
       "  'militia',\n",
       "  'amendment'],\n",
       " ['use',\n",
       "  'ground',\n",
       "  'wire',\n",
       "  'circuit',\n",
       "  'power',\n",
       "  'one',\n",
       "  'current',\n",
       "  'outlet',\n",
       "  'wiring',\n",
       "  'amp'],\n",
       " ['file',\n",
       "  'use',\n",
       "  'program',\n",
       "  'code',\n",
       "  'set',\n",
       "  'output',\n",
       "  'section',\n",
       "  'function',\n",
       "  'error',\n",
       "  'line'],\n",
       " ['use',\n",
       "  'problem',\n",
       "  'back',\n",
       "  'light',\n",
       "  'water',\n",
       "  'get',\n",
       "  'time',\n",
       "  'one',\n",
       "  'side',\n",
       "  'turn'],\n",
       " ['use',\n",
       "  'file',\n",
       "  'image',\n",
       "  'window',\n",
       "  'server',\n",
       "  'display',\n",
       "  'widget',\n",
       "  'program',\n",
       "  'application',\n",
       "  'version']]"
      ]
     },
     "execution_count": 34,
     "metadata": {},
     "output_type": "execute_result"
    }
   ],
   "source": [
    "result[\"topics\"]"
   ]
  },
  {
   "cell_type": "code",
   "execution_count": 35,
   "metadata": {},
   "outputs": [],
   "source": [
    "# Initialize metric\n",
    "npmi = CoherenceModel(\n",
    "    topics=result[\"topics\"],\n",
    "    texts=texts,\n",
    "    corpus=corpus.train.data,\n",
    "    dictionary=Dictionary(texts),\n",
    "    coherence=\"c_npmi\",\n",
    "    topn=top_k)"
   ]
  },
  {
   "cell_type": "code",
   "execution_count": 36,
   "metadata": {},
   "outputs": [
    {
     "data": {
      "text/plain": [
       "0.09554914127426517"
      ]
     },
     "execution_count": 36,
     "metadata": {},
     "output_type": "execute_result"
    }
   ],
   "source": [
    "npmi.get_coherence()"
   ]
  },
  {
   "cell_type": "code",
   "execution_count": null,
   "metadata": {},
   "outputs": [],
   "source": []
  }
 ],
 "metadata": {
  "kernelspec": {
   "display_name": "torchenv",
   "language": "python",
   "name": "python3"
  },
  "language_info": {
   "codemirror_mode": {
    "name": "ipython",
    "version": 3
   },
   "file_extension": ".py",
   "mimetype": "text/x-python",
   "name": "python",
   "nbconvert_exporter": "python",
   "pygments_lexer": "ipython3",
   "version": "3.9.15"
  }
 },
 "nbformat": 4,
 "nbformat_minor": 2
}
