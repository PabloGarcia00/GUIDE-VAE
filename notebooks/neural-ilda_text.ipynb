{
 "cells": [
  {
   "cell_type": "markdown",
   "metadata": {},
   "source": [
    "# User Latent Dirichlet Allocation"
   ]
  },
  {
   "cell_type": "code",
   "execution_count": 1,
   "metadata": {},
   "outputs": [
    {
     "data": {
      "text/plain": [
       "<torch.autograd.anomaly_mode.set_detect_anomaly at 0x7f394bef4b50>"
      ]
     },
     "execution_count": 1,
     "metadata": {},
     "output_type": "execute_result"
    }
   ],
   "source": [
    "import os, sys\n",
    "import numpy as np\n",
    "import pandas as pd\n",
    "import matplotlib.pyplot as plt\n",
    "import seaborn as sns\n",
    "import torch\n",
    "import pickle\n",
    "sys.path.append(os.path.abspath('..'))\n",
    "sys.path.append(os.path.abspath('.'))\n",
    "torch.autograd.set_detect_anomaly(True)"
   ]
  },
  {
   "cell_type": "code",
   "execution_count": 2,
   "metadata": {},
   "outputs": [],
   "source": [
    "%load_ext autoreload\n",
    "%autoreload 2\n",
    "\n",
    "from lib.models import InductiveLDA, NeuralLDA, NeuralLLNA\n",
    "from lib import utils as utils"
   ]
  },
  {
   "cell_type": "markdown",
   "metadata": {},
   "source": [
    "Import Data"
   ]
  },
  {
   "cell_type": "code",
   "execution_count": 3,
   "metadata": {},
   "outputs": [],
   "source": [
    "class Corpus:\n",
    "    def __init__(self, datadir):\n",
    "        filenames = ['train.txt.npy', 'test.txt.npy']\n",
    "        self.datapaths = [os.path.join(datadir, x) for x in filenames]\n",
    "        with open(os.path.join(datadir, 'vocab.pkl'), 'rb') as f:\n",
    "            self.vocab = pickle.load(f)\n",
    "        self.train, self.test = [\n",
    "            Data(dp, len(self.vocab)) for dp in self.datapaths]\n",
    "\n",
    "\n",
    "class Data:\n",
    "    def __init__(self, datapath, vocab_size):\n",
    "        data = np.load(datapath, allow_pickle=True, encoding='bytes')\n",
    "        self.data = np.array([np.bincount(x.astype('int'), minlength=vocab_size) for x in data if np.sum(x)>0])\n",
    "        self.documents = data\n",
    "        \n",
    "    @property\n",
    "    def size(self):\n",
    "        return len(self.data)\n",
    "    \n",
    "    def get_batch(self, batch_size, start_id=None):\n",
    "        if start_id is None:\n",
    "            batch_idx = np.random.choice(np.arange(self.size), batch_size)\n",
    "        else:\n",
    "            batch_idx = np.arange(start_id, start_id + batch_size)\n",
    "        batch_data = self.data[batch_idx]\n",
    "        data_tensor = torch.from_numpy(batch_data).float()\n",
    "        return data_tensor"
   ]
  },
  {
   "cell_type": "code",
   "execution_count": 4,
   "metadata": {},
   "outputs": [],
   "source": [
    "corpus = Corpus(\"../data/20news\")"
   ]
  },
  {
   "cell_type": "code",
   "execution_count": 5,
   "metadata": {},
   "outputs": [],
   "source": [
    "RANDOM_SEED = 2112\n",
    "np.random.seed(RANDOM_SEED)"
   ]
  },
  {
   "cell_type": "code",
   "execution_count": 6,
   "metadata": {},
   "outputs": [],
   "source": [
    "X_document = corpus.train.data"
   ]
  },
  {
   "cell_type": "code",
   "execution_count": 7,
   "metadata": {},
   "outputs": [
    {
     "name": "stdout",
     "output_type": "stream",
     "text": [
      "Number of documents: 11258, vocab size: 1995\n"
     ]
    }
   ],
   "source": [
    "num_docs, vocab_size = X_document.shape\n",
    "print(f\"Number of documents: {num_docs}, vocab size: {vocab_size}\")"
   ]
  },
  {
   "cell_type": "code",
   "execution_count": 8,
   "metadata": {},
   "outputs": [],
   "source": [
    "class Dataset(torch.utils.data.Dataset):\n",
    "    def __init__(self, X): self.X = X\n",
    "    def __len__(self): return len(self.X)\n",
    "    def __getitem__(self, index): return self.X[index]"
   ]
  },
  {
   "cell_type": "code",
   "execution_count": 9,
   "metadata": {},
   "outputs": [],
   "source": [
    "dataset = Dataset(torch.tensor(X_document).to(torch.float32))"
   ]
  },
  {
   "cell_type": "code",
   "execution_count": 25,
   "metadata": {},
   "outputs": [],
   "source": [
    "num_topics = 50\n",
    "prodlda = True\n",
    "conv = False\n",
    "num_layers = 0 # num hidden layers in the NN block. There are at least (1+num_heads) hidden layers in the encoder and decoder. num_layers comes on top of those. Total number of hidden layers is (1+num_layers+num_heads).\n",
    "num_neurons = 100\n",
    "dropout = True\n",
    "dropout_rate = 0.25\n",
    "batch_normalization = True\n",
    "prior_param = {'alpha': 1.0}\n",
    "decoder_temperature = 1.0\n",
    "encoder_temperature = 1.0"
   ]
  },
  {
   "cell_type": "code",
   "execution_count": 26,
   "metadata": {},
   "outputs": [],
   "source": [
    "# NeuralModel, prior_param = NeuralLLNA, {\"mu\": 0.0, \"sigma\": 1.0}\n",
    "# NeuralModel = NeuralLDA\n",
    "NeuralModel = InductiveLDA"
   ]
  },
  {
   "cell_type": "code",
   "execution_count": 27,
   "metadata": {},
   "outputs": [],
   "source": [
    "model = NeuralModel(input_dim=vocab_size,\n",
    "                    num_topics=num_topics,\n",
    "                    prior_param=prior_param.copy(),\n",
    "                    conv=conv,\n",
    "                    prodlda=prodlda,\n",
    "                    decoder_temperature=decoder_temperature,\n",
    "                    num_hidden_layers=num_layers,\n",
    "                    num_neurons=num_neurons,\n",
    "                    dropout=dropout,\n",
    "                    dropout_rate=dropout_rate,\n",
    "                    batch_normalization=batch_normalization,\n",
    "                    )"
   ]
  },
  {
   "cell_type": "code",
   "execution_count": 28,
   "metadata": {},
   "outputs": [],
   "source": [
    "lr = 5e-3\n",
    "batch_size = 200\n",
    "num_epochs = 100\n",
    "beta = 1.0\n",
    "learn_prior = True"
   ]
  },
  {
   "cell_type": "code",
   "execution_count": 29,
   "metadata": {},
   "outputs": [
    {
     "name": "stderr",
     "output_type": "stream",
     "text": [
      "Epoch:   0%|          | 0/100 [00:00<?, ?it/s]"
     ]
    },
    {
     "name": "stderr",
     "output_type": "stream",
     "text": [
      "                                                      \n",
      "Epoch:   2%|▏         | 2/100 [00:03<01:52,  1.15s/it]             "
     ]
    },
    {
     "name": "stdout",
     "output_type": "stream",
     "text": [
      "Iteration: 100 -- ELBO=-5.48e+02 / RLL=-5.42e+02 / KL=6.66e+00\n"
     ]
    },
    {
     "name": "stderr",
     "output_type": "stream",
     "text": [
      "                                                      \n",
      "Epoch:   4%|▍         | 4/100 [00:05<01:55,  1.20s/it]             "
     ]
    },
    {
     "name": "stdout",
     "output_type": "stream",
     "text": [
      "Iteration: 200 -- ELBO=-9.29e+02 / RLL=-9.21e+02 / KL=7.70e+00\n"
     ]
    },
    {
     "name": "stderr",
     "output_type": "stream",
     "text": [
      "                                                      \n",
      "Epoch:   6%|▌         | 6/100 [00:07<01:54,  1.21s/it]             "
     ]
    },
    {
     "name": "stdout",
     "output_type": "stream",
     "text": [
      "Iteration: 300 -- ELBO=-4.83e+02 / RLL=-4.79e+02 / KL=3.94e+00\n"
     ]
    },
    {
     "name": "stderr",
     "output_type": "stream",
     "text": [
      "                                                      \n",
      "Epoch:   8%|▊         | 8/100 [00:09<01:51,  1.22s/it]    "
     ]
    },
    {
     "name": "stdout",
     "output_type": "stream",
     "text": [
      "Iteration: 400 -- ELBO=-7.85e+02 / RLL=-7.81e+02 / KL=4.59e+00\n"
     ]
    },
    {
     "name": "stderr",
     "output_type": "stream",
     "text": [
      "                                                      \n",
      "Epoch:   9%|▉         | 9/100 [00:12<01:55,  1.27s/it]             "
     ]
    },
    {
     "name": "stdout",
     "output_type": "stream",
     "text": [
      "Iteration: 500 -- ELBO=-5.45e+02 / RLL=-5.41e+02 / KL=3.94e+00\n"
     ]
    },
    {
     "name": "stderr",
     "output_type": "stream",
     "text": [
      "                                                       \n",
      "Epoch:  11%|█         | 11/100 [00:14<02:07,  1.43s/it]            "
     ]
    },
    {
     "name": "stdout",
     "output_type": "stream",
     "text": [
      "Iteration: 600 -- ELBO=-6.05e+02 / RLL=-6.01e+02 / KL=4.08e+00\n"
     ]
    },
    {
     "name": "stderr",
     "output_type": "stream",
     "text": [
      "                                                       \n",
      "Epoch:  13%|█▎        | 13/100 [00:16<01:54,  1.32s/it]            "
     ]
    },
    {
     "name": "stdout",
     "output_type": "stream",
     "text": [
      "Iteration: 700 -- ELBO=-6.38e+02 / RLL=-6.33e+02 / KL=5.09e+00\n"
     ]
    },
    {
     "name": "stderr",
     "output_type": "stream",
     "text": [
      "                                                       \n",
      "Epoch:  15%|█▌        | 15/100 [00:19<01:48,  1.27s/it]   "
     ]
    },
    {
     "name": "stdout",
     "output_type": "stream",
     "text": [
      "Iteration: 800 -- ELBO=-5.65e+02 / RLL=-5.61e+02 / KL=4.07e+00\n"
     ]
    },
    {
     "name": "stderr",
     "output_type": "stream",
     "text": [
      "                                                       \n",
      "Epoch:  16%|█▌        | 16/100 [00:21<01:45,  1.25s/it]            "
     ]
    },
    {
     "name": "stdout",
     "output_type": "stream",
     "text": [
      "Iteration: 900 -- ELBO=-4.77e+02 / RLL=-4.73e+02 / KL=3.16e+00\n"
     ]
    },
    {
     "name": "stderr",
     "output_type": "stream",
     "text": [
      "                                                       \n",
      "Epoch:  18%|█▊        | 18/100 [00:23<01:41,  1.23s/it]            "
     ]
    },
    {
     "name": "stdout",
     "output_type": "stream",
     "text": [
      "Iteration: 1000 -- ELBO=-6.41e+02 / RLL=-6.36e+02 / KL=4.77e+00\n"
     ]
    },
    {
     "name": "stderr",
     "output_type": "stream",
     "text": [
      "                                                       \n",
      "Epoch:  20%|██        | 20/100 [00:25<01:38,  1.23s/it]            "
     ]
    },
    {
     "name": "stdout",
     "output_type": "stream",
     "text": [
      "Iteration: 1100 -- ELBO=-6.27e+02 / RLL=-6.21e+02 / KL=6.66e+00\n"
     ]
    },
    {
     "name": "stderr",
     "output_type": "stream",
     "text": [
      "                                                       \n",
      "Epoch:  22%|██▏       | 22/100 [00:27<01:35,  1.22s/it]   "
     ]
    },
    {
     "name": "stdout",
     "output_type": "stream",
     "text": [
      "Iteration: 1200 -- ELBO=-7.25e+02 / RLL=-7.18e+02 / KL=7.35e+00\n"
     ]
    },
    {
     "name": "stderr",
     "output_type": "stream",
     "text": [
      "                                                       \n",
      "Epoch:  23%|██▎       | 23/100 [00:29<01:34,  1.23s/it]            "
     ]
    },
    {
     "name": "stdout",
     "output_type": "stream",
     "text": [
      "Iteration: 1300 -- ELBO=-6.74e+02 / RLL=-6.66e+02 / KL=8.53e+00\n"
     ]
    },
    {
     "name": "stderr",
     "output_type": "stream",
     "text": [
      "                                                       \n",
      "Epoch:  25%|██▌       | 25/100 [00:31<01:32,  1.23s/it]            "
     ]
    },
    {
     "name": "stdout",
     "output_type": "stream",
     "text": [
      "Iteration: 1400 -- ELBO=-6.51e+02 / RLL=-6.44e+02 / KL=7.59e+00\n"
     ]
    },
    {
     "name": "stderr",
     "output_type": "stream",
     "text": [
      "                                                       \n",
      "Epoch:  27%|██▋       | 27/100 [00:34<01:29,  1.23s/it]            "
     ]
    },
    {
     "name": "stdout",
     "output_type": "stream",
     "text": [
      "Iteration: 1500 -- ELBO=-5.00e+02 / RLL=-4.93e+02 / KL=7.39e+00\n"
     ]
    },
    {
     "name": "stderr",
     "output_type": "stream",
     "text": [
      "                                                       \n",
      "Epoch:  29%|██▉       | 29/100 [00:36<01:27,  1.23s/it]   "
     ]
    },
    {
     "name": "stdout",
     "output_type": "stream",
     "text": [
      "Iteration: 1600 -- ELBO=-6.03e+02 / RLL=-5.95e+02 / KL=7.86e+00\n"
     ]
    },
    {
     "name": "stderr",
     "output_type": "stream",
     "text": [
      "                                                       \n",
      "Epoch:  30%|███       | 30/100 [00:38<01:26,  1.24s/it]            "
     ]
    },
    {
     "name": "stdout",
     "output_type": "stream",
     "text": [
      "Iteration: 1700 -- ELBO=-6.26e+02 / RLL=-6.16e+02 / KL=1.01e+01\n"
     ]
    },
    {
     "name": "stderr",
     "output_type": "stream",
     "text": [
      "                                                       \n",
      "Epoch:  32%|███▏      | 32/100 [00:40<01:24,  1.25s/it]            "
     ]
    },
    {
     "name": "stdout",
     "output_type": "stream",
     "text": [
      "Iteration: 1800 -- ELBO=-7.64e+02 / RLL=-7.53e+02 / KL=1.05e+01\n"
     ]
    },
    {
     "name": "stderr",
     "output_type": "stream",
     "text": [
      "                                                       \n",
      "Epoch:  34%|███▍      | 34/100 [00:42<01:21,  1.24s/it]            "
     ]
    },
    {
     "name": "stdout",
     "output_type": "stream",
     "text": [
      "Iteration: 1900 -- ELBO=-5.63e+02 / RLL=-5.54e+02 / KL=9.55e+00\n"
     ]
    },
    {
     "name": "stderr",
     "output_type": "stream",
     "text": [
      "                                                       \n",
      "Epoch:  36%|███▌      | 36/100 [00:45<01:19,  1.24s/it]   "
     ]
    },
    {
     "name": "stdout",
     "output_type": "stream",
     "text": [
      "Iteration: 2000 -- ELBO=-6.07e+02 / RLL=-5.96e+02 / KL=1.08e+01\n"
     ]
    },
    {
     "name": "stderr",
     "output_type": "stream",
     "text": [
      "                                                       \n",
      "Epoch:  38%|███▊      | 38/100 [00:47<01:17,  1.24s/it]            "
     ]
    },
    {
     "name": "stdout",
     "output_type": "stream",
     "text": [
      "Iteration: 2100 -- ELBO=-4.49e+02 / RLL=-4.40e+02 / KL=9.07e+00\n"
     ]
    },
    {
     "name": "stderr",
     "output_type": "stream",
     "text": [
      "                                                       \n",
      "Epoch:  39%|███▉      | 39/100 [00:49<01:15,  1.24s/it]            "
     ]
    },
    {
     "name": "stdout",
     "output_type": "stream",
     "text": [
      "Iteration: 2200 -- ELBO=-7.49e+02 / RLL=-7.35e+02 / KL=1.39e+01\n"
     ]
    },
    {
     "name": "stderr",
     "output_type": "stream",
     "text": [
      "                                                       \n",
      "Epoch:  41%|████      | 41/100 [00:51<01:13,  1.25s/it]            "
     ]
    },
    {
     "name": "stdout",
     "output_type": "stream",
     "text": [
      "Iteration: 2300 -- ELBO=-5.82e+02 / RLL=-5.71e+02 / KL=1.11e+01\n"
     ]
    },
    {
     "name": "stderr",
     "output_type": "stream",
     "text": [
      "                                                       \n",
      "Epoch:  43%|████▎     | 43/100 [00:53<01:10,  1.24s/it]           "
     ]
    },
    {
     "name": "stdout",
     "output_type": "stream",
     "text": [
      "Iteration: 2400 -- ELBO=-5.94e+02 / RLL=-5.82e+02 / KL=1.18e+01\n"
     ]
    },
    {
     "name": "stderr",
     "output_type": "stream",
     "text": [
      "                                                       \n",
      "Epoch:  44%|████▍     | 44/100 [00:56<01:09,  1.25s/it]            "
     ]
    },
    {
     "name": "stdout",
     "output_type": "stream",
     "text": [
      "Iteration: 2500 -- ELBO=-6.24e+02 / RLL=-6.13e+02 / KL=1.11e+01\n"
     ]
    },
    {
     "name": "stderr",
     "output_type": "stream",
     "text": [
      "                                                       \n",
      "Epoch:  46%|████▌     | 46/100 [00:58<01:09,  1.28s/it]            "
     ]
    },
    {
     "name": "stdout",
     "output_type": "stream",
     "text": [
      "Iteration: 2600 -- ELBO=-6.96e+02 / RLL=-6.83e+02 / KL=1.24e+01\n"
     ]
    },
    {
     "name": "stderr",
     "output_type": "stream",
     "text": [
      "                                                       \n",
      "Epoch:  48%|████▊     | 48/100 [01:00<01:06,  1.27s/it]            "
     ]
    },
    {
     "name": "stdout",
     "output_type": "stream",
     "text": [
      "Iteration: 2700 -- ELBO=-5.63e+02 / RLL=-5.52e+02 / KL=1.10e+01\n"
     ]
    },
    {
     "name": "stderr",
     "output_type": "stream",
     "text": [
      "                                                       \n",
      "Epoch:  50%|█████     | 50/100 [01:02<01:02,  1.26s/it]           \n"
     ]
    },
    {
     "name": "stdout",
     "output_type": "stream",
     "text": [
      "Iteration: 2800 -- ELBO=-4.71e+02 / RLL=-4.61e+02 / KL=1.05e+01\n"
     ]
    },
    {
     "name": "stderr",
     "output_type": "stream",
     "text": [
      "                                                       , 46.91it/s]\u001b[A\n",
      "Epoch:  52%|█████▏    | 52/100 [01:05<01:00,  1.25s/it]            "
     ]
    },
    {
     "name": "stdout",
     "output_type": "stream",
     "text": [
      "Iteration: 2900 -- ELBO=-5.03e+02 / RLL=-4.92e+02 / KL=1.04e+01\n"
     ]
    },
    {
     "name": "stderr",
     "output_type": "stream",
     "text": [
      "                                                       \n",
      "Epoch:  53%|█████▎    | 53/100 [01:07<00:59,  1.26s/it]            "
     ]
    },
    {
     "name": "stdout",
     "output_type": "stream",
     "text": [
      "Iteration: 3000 -- ELBO=-5.62e+02 / RLL=-5.50e+02 / KL=1.18e+01\n"
     ]
    },
    {
     "name": "stderr",
     "output_type": "stream",
     "text": [
      "                                                       \n",
      "Epoch:  55%|█████▌    | 55/100 [01:09<00:56,  1.26s/it]            "
     ]
    },
    {
     "name": "stdout",
     "output_type": "stream",
     "text": [
      "Iteration: 3100 -- ELBO=-6.15e+02 / RLL=-6.03e+02 / KL=1.21e+01\n"
     ]
    },
    {
     "name": "stderr",
     "output_type": "stream",
     "text": [
      "                                                       \n",
      "Epoch:  57%|█████▋    | 57/100 [01:11<00:53,  1.25s/it]           "
     ]
    },
    {
     "name": "stdout",
     "output_type": "stream",
     "text": [
      "Iteration: 3200 -- ELBO=-5.78e+02 / RLL=-5.66e+02 / KL=1.17e+01\n"
     ]
    },
    {
     "name": "stderr",
     "output_type": "stream",
     "text": [
      "                                                       \n",
      "Epoch:  59%|█████▉    | 59/100 [01:13<00:51,  1.26s/it]            "
     ]
    },
    {
     "name": "stdout",
     "output_type": "stream",
     "text": [
      "Iteration: 3300 -- ELBO=-5.91e+02 / RLL=-5.80e+02 / KL=1.14e+01\n"
     ]
    },
    {
     "name": "stderr",
     "output_type": "stream",
     "text": [
      "                                                       \n",
      "Epoch:  60%|██████    | 60/100 [01:15<00:50,  1.26s/it]            "
     ]
    },
    {
     "name": "stdout",
     "output_type": "stream",
     "text": [
      "Iteration: 3400 -- ELBO=-5.93e+02 / RLL=-5.82e+02 / KL=1.07e+01\n"
     ]
    },
    {
     "name": "stderr",
     "output_type": "stream",
     "text": [
      "                                                       \n",
      "Epoch:  62%|██████▏   | 62/100 [01:18<00:47,  1.26s/it]            "
     ]
    },
    {
     "name": "stdout",
     "output_type": "stream",
     "text": [
      "Iteration: 3500 -- ELBO=-5.45e+02 / RLL=-5.34e+02 / KL=1.06e+01\n"
     ]
    },
    {
     "name": "stderr",
     "output_type": "stream",
     "text": [
      "                                                       \n",
      "Epoch:  64%|██████▍   | 64/100 [01:20<00:45,  1.25s/it]           "
     ]
    },
    {
     "name": "stdout",
     "output_type": "stream",
     "text": [
      "Iteration: 3600 -- ELBO=-4.77e+02 / RLL=-4.66e+02 / KL=1.06e+01\n"
     ]
    },
    {
     "name": "stderr",
     "output_type": "stream",
     "text": [
      "                                                       \n",
      "Epoch:  66%|██████▌   | 66/100 [01:22<00:42,  1.26s/it]            "
     ]
    },
    {
     "name": "stdout",
     "output_type": "stream",
     "text": [
      "Iteration: 3700 -- ELBO=-5.12e+02 / RLL=-5.01e+02 / KL=1.09e+01\n"
     ]
    },
    {
     "name": "stderr",
     "output_type": "stream",
     "text": [
      "                                                       \n",
      "Epoch:  67%|██████▋   | 67/100 [01:24<00:41,  1.26s/it]            "
     ]
    },
    {
     "name": "stdout",
     "output_type": "stream",
     "text": [
      "Iteration: 3800 -- ELBO=-7.38e+02 / RLL=-7.27e+02 / KL=1.18e+01\n"
     ]
    },
    {
     "name": "stderr",
     "output_type": "stream",
     "text": [
      "                                                       \n",
      "Epoch:  69%|██████▉   | 69/100 [01:26<00:38,  1.25s/it]            "
     ]
    },
    {
     "name": "stdout",
     "output_type": "stream",
     "text": [
      "Iteration: 3900 -- ELBO=-4.88e+02 / RLL=-4.77e+02 / KL=1.05e+01\n"
     ]
    },
    {
     "name": "stderr",
     "output_type": "stream",
     "text": [
      "                                                       \n",
      "Epoch:  71%|███████   | 71/100 [01:29<00:36,  1.25s/it]           "
     ]
    },
    {
     "name": "stdout",
     "output_type": "stream",
     "text": [
      "Iteration: 4000 -- ELBO=-5.42e+02 / RLL=-5.31e+02 / KL=1.08e+01\n"
     ]
    },
    {
     "name": "stderr",
     "output_type": "stream",
     "text": [
      "                                                       \n",
      "Epoch:  73%|███████▎  | 73/100 [01:31<00:33,  1.25s/it]            "
     ]
    },
    {
     "name": "stdout",
     "output_type": "stream",
     "text": [
      "Iteration: 4100 -- ELBO=-4.99e+02 / RLL=-4.89e+02 / KL=1.06e+01\n"
     ]
    },
    {
     "name": "stderr",
     "output_type": "stream",
     "text": [
      "                                                       \n",
      "Epoch:  74%|███████▍  | 74/100 [01:33<00:32,  1.26s/it]            "
     ]
    },
    {
     "name": "stdout",
     "output_type": "stream",
     "text": [
      "Iteration: 4200 -- ELBO=-4.75e+02 / RLL=-4.64e+02 / KL=1.04e+01\n"
     ]
    },
    {
     "name": "stderr",
     "output_type": "stream",
     "text": [
      "                                                       \n",
      "Epoch:  76%|███████▌  | 76/100 [01:35<00:30,  1.27s/it]            "
     ]
    },
    {
     "name": "stdout",
     "output_type": "stream",
     "text": [
      "Iteration: 4300 -- ELBO=-6.38e+02 / RLL=-6.27e+02 / KL=1.11e+01\n"
     ]
    },
    {
     "name": "stderr",
     "output_type": "stream",
     "text": [
      "                                                       \n",
      "Epoch:  78%|███████▊  | 78/100 [01:38<00:28,  1.27s/it]           "
     ]
    },
    {
     "name": "stdout",
     "output_type": "stream",
     "text": [
      "Iteration: 4400 -- ELBO=-6.54e+02 / RLL=-6.42e+02 / KL=1.15e+01\n"
     ]
    },
    {
     "name": "stderr",
     "output_type": "stream",
     "text": [
      "                                                       \n",
      "Epoch:  80%|████████  | 80/100 [01:40<00:25,  1.26s/it]            "
     ]
    },
    {
     "name": "stdout",
     "output_type": "stream",
     "text": [
      "Iteration: 4500 -- ELBO=-5.05e+02 / RLL=-4.94e+02 / KL=1.08e+01\n"
     ]
    },
    {
     "name": "stderr",
     "output_type": "stream",
     "text": [
      "                                                       \n",
      "Epoch:  81%|████████  | 81/100 [01:42<00:23,  1.26s/it]            "
     ]
    },
    {
     "name": "stdout",
     "output_type": "stream",
     "text": [
      "Iteration: 4600 -- ELBO=-6.18e+02 / RLL=-6.08e+02 / KL=1.08e+01\n"
     ]
    },
    {
     "name": "stderr",
     "output_type": "stream",
     "text": [
      "                                                       \n",
      "Epoch:  83%|████████▎ | 83/100 [01:44<00:21,  1.27s/it]            "
     ]
    },
    {
     "name": "stdout",
     "output_type": "stream",
     "text": [
      "Iteration: 4700 -- ELBO=-7.47e+02 / RLL=-7.36e+02 / KL=1.13e+01\n"
     ]
    },
    {
     "name": "stderr",
     "output_type": "stream",
     "text": [
      "                                                       \n",
      "Epoch:  85%|████████▌ | 85/100 [01:47<00:19,  1.27s/it]            "
     ]
    },
    {
     "name": "stdout",
     "output_type": "stream",
     "text": [
      "Iteration: 4800 -- ELBO=-5.74e+02 / RLL=-5.63e+02 / KL=1.09e+01\n"
     ]
    },
    {
     "name": "stderr",
     "output_type": "stream",
     "text": [
      "Epoch:  87%|████████▋ | 87/100 [01:49<00:16,  1.27s/it]"
     ]
    },
    {
     "name": "stdout",
     "output_type": "stream",
     "text": [
      "Iteration: 4900 -- ELBO=-7.00e+02 / RLL=-6.89e+02 / KL=1.08e+01\n"
     ]
    },
    {
     "name": "stderr",
     "output_type": "stream",
     "text": [
      "                                                       \n",
      "Epoch:  88%|████████▊ | 88/100 [01:51<00:15,  1.27s/it]            "
     ]
    },
    {
     "name": "stdout",
     "output_type": "stream",
     "text": [
      "Iteration: 5000 -- ELBO=-9.10e+02 / RLL=-8.98e+02 / KL=1.20e+01\n"
     ]
    },
    {
     "name": "stderr",
     "output_type": "stream",
     "text": [
      "                                                       \n",
      "Epoch:  90%|█████████ | 90/100 [01:53<00:12,  1.26s/it]            \n"
     ]
    },
    {
     "name": "stdout",
     "output_type": "stream",
     "text": [
      "Iteration: 5100 -- ELBO=-5.13e+02 / RLL=-5.03e+02 / KL=1.04e+01\n"
     ]
    },
    {
     "name": "stderr",
     "output_type": "stream",
     "text": [
      "                                                       , 45.05it/s]\u001b[A\n",
      "Epoch:  92%|█████████▏| 92/100 [01:55<00:10,  1.26s/it]            "
     ]
    },
    {
     "name": "stdout",
     "output_type": "stream",
     "text": [
      "Iteration: 5200 -- ELBO=-5.51e+02 / RLL=-5.41e+02 / KL=1.00e+01\n"
     ]
    },
    {
     "name": "stderr",
     "output_type": "stream",
     "text": [
      "                                                       \n",
      "Epoch:  94%|█████████▍| 94/100 [01:58<00:07,  1.27s/it]            "
     ]
    },
    {
     "name": "stdout",
     "output_type": "stream",
     "text": [
      "Iteration: 5300 -- ELBO=-6.46e+02 / RLL=-6.36e+02 / KL=1.07e+01\n"
     ]
    },
    {
     "name": "stderr",
     "output_type": "stream",
     "text": [
      "                                                       \n",
      "Epoch:  95%|█████████▌| 95/100 [02:00<00:06,  1.26s/it]            "
     ]
    },
    {
     "name": "stdout",
     "output_type": "stream",
     "text": [
      "Iteration: 5400 -- ELBO=-6.00e+02 / RLL=-5.89e+02 / KL=1.08e+01\n"
     ]
    },
    {
     "name": "stderr",
     "output_type": "stream",
     "text": [
      "                                                       \n",
      "Epoch:  97%|█████████▋| 97/100 [02:02<00:03,  1.26s/it]            "
     ]
    },
    {
     "name": "stdout",
     "output_type": "stream",
     "text": [
      "Iteration: 5500 -- ELBO=-7.28e+02 / RLL=-7.17e+02 / KL=1.12e+01\n"
     ]
    },
    {
     "name": "stderr",
     "output_type": "stream",
     "text": [
      "                                                       \n",
      "Epoch:  99%|█████████▉| 99/100 [02:04<00:01,  1.26s/it]            "
     ]
    },
    {
     "name": "stdout",
     "output_type": "stream",
     "text": [
      "Iteration: 5600 -- ELBO=-6.87e+02 / RLL=-6.76e+02 / KL=1.10e+01\n"
     ]
    },
    {
     "name": "stderr",
     "output_type": "stream",
     "text": [
      "                                                        \n",
      "Epoch: 100%|██████████| 100/100 [02:06<00:00,  1.27s/it]           \n",
      "Iteration in Epoch: 100%|██████████| 57/57 [00:01<00:00, 45.15it/s]"
     ]
    },
    {
     "name": "stdout",
     "output_type": "stream",
     "text": [
      "Iteration: 5700 -- ELBO=-4.69e+02 / RLL=-4.60e+02 / KL=9.87e+00\n"
     ]
    },
    {
     "name": "stderr",
     "output_type": "stream",
     "text": [
      "\n"
     ]
    }
   ],
   "source": [
    "# Train the model using default partitioning choice \n",
    "model.fit(lr=lr,\n",
    "            dataloader = torch.utils.data.DataLoader(dataset, batch_size=batch_size, shuffle=True),\n",
    "            epochs = num_epochs,\n",
    "            beta = beta,\n",
    "            mc_samples = 1,\n",
    "            learn_prior = learn_prior,\n",
    "            tensorboard = False,\n",
    "            )"
   ]
  },
  {
   "cell_type": "code",
   "execution_count": 30,
   "metadata": {},
   "outputs": [
    {
     "data": {
      "text/plain": [
       "tensor([7.8248e-01, 8.5697e-04, 2.8882e-03, 8.3738e-01, 7.6415e-04, 9.1559e-01,\n",
       "        7.2740e-01, 5.1719e-01, 5.8330e-04, 1.0756e-03, 1.3546e-03, 4.2201e-01,\n",
       "        8.2058e-04, 9.3865e-01, 6.5549e-01, 5.0389e-03, 8.6805e-03, 5.8849e-04,\n",
       "        9.9697e-04, 7.9068e-04, 7.6066e-04, 1.1435e-03, 6.6645e-04, 1.0982e-03,\n",
       "        2.4720e-01, 1.2482e-03, 6.9792e-03, 8.4468e-04, 1.1672e-03, 7.0699e-04,\n",
       "        9.9519e-04, 5.5826e-04, 6.2155e-01, 1.4910e-02, 8.2116e-04, 2.3724e-02,\n",
       "        6.4800e-01, 1.0430e-02, 5.6161e-04, 9.4454e-03, 4.5106e-02, 7.0446e-01,\n",
       "        1.4588e-03, 8.6612e-04, 8.2152e-04, 7.6196e-03, 7.3882e-01, 4.3006e-03,\n",
       "        7.4542e-04, 6.6248e-01], grad_fn=<SoftplusBackward0>)"
      ]
     },
     "execution_count": 30,
     "metadata": {},
     "output_type": "execute_result"
    }
   ],
   "source": [
    "model.get_prior_params()"
   ]
  },
  {
   "cell_type": "code",
   "execution_count": 31,
   "metadata": {},
   "outputs": [
    {
     "data": {
      "text/plain": [
       "tensor([[3.2186e-08, 2.1772e-03, 1.2023e-03,  ..., 9.7794e-07, 3.6909e-07,\n",
       "         1.1403e-08],\n",
       "        [2.8716e-06, 2.5772e-02, 1.9077e-03,  ..., 1.3827e-05, 3.5287e-06,\n",
       "         3.5271e-06],\n",
       "        [1.8509e-05, 1.5041e-03, 6.6409e-04,  ..., 7.3777e-06, 6.2625e-06,\n",
       "         2.5380e-06],\n",
       "        ...,\n",
       "        [1.8513e-06, 7.4842e-03, 4.8255e-03,  ..., 1.2720e-05, 3.0170e-06,\n",
       "         2.9274e-06],\n",
       "        [1.6940e-06, 1.1498e-02, 2.6513e-03,  ..., 3.4772e-05, 1.3194e-05,\n",
       "         3.1730e-06],\n",
       "        [1.0509e-08, 2.7682e-03, 3.2106e-03,  ..., 3.1044e-08, 2.5065e-07,\n",
       "         1.9819e-08]])"
      ]
     },
     "execution_count": 31,
     "metadata": {},
     "output_type": "execute_result"
    }
   ],
   "source": [
    "model.decoder.get_beta().detach()"
   ]
  },
  {
   "cell_type": "code",
   "execution_count": 32,
   "metadata": {},
   "outputs": [
    {
     "data": {
      "text/plain": [
       "InductiveLDA(\n",
       "  (encoder): DirichletNN(\n",
       "    (parameterizer): ParameterizerNN(\n",
       "      (block_dict): ModuleDict(\n",
       "        (input): NNBlock(\n",
       "          (input_layer): Sequential(\n",
       "            (0): Linear(in_features=1995, out_features=100, bias=True)\n",
       "            (1): Softplus(beta=1, threshold=20)\n",
       "          )\n",
       "          (middle_layers): ModuleList()\n",
       "          (output_layer): Sequential(\n",
       "            (0): Linear(in_features=100, out_features=100, bias=True)\n",
       "            (1): Softplus(beta=1, threshold=20)\n",
       "          )\n",
       "        )\n",
       "        (alpha): NNBlock(\n",
       "          (input_layer): Sequential(\n",
       "            (0): Linear(in_features=100, out_features=100, bias=True)\n",
       "            (1): Softplus(beta=1, threshold=20)\n",
       "            (2): BatchNorm1d(100, eps=1e-05, momentum=0.1, affine=True, track_running_stats=True)\n",
       "            (3): Dropout(p=0.25, inplace=False)\n",
       "          )\n",
       "          (middle_layers): ModuleList()\n",
       "          (output_layer): Sequential(\n",
       "            (0): Linear(in_features=100, out_features=50, bias=True)\n",
       "          )\n",
       "        )\n",
       "      )\n",
       "    )\n",
       "  )\n",
       "  (decoder): BetaDecoder()\n",
       ")"
      ]
     },
     "execution_count": 32,
     "metadata": {},
     "output_type": "execute_result"
    }
   ],
   "source": [
    "model.eval()"
   ]
  },
  {
   "cell_type": "code",
   "execution_count": 33,
   "metadata": {},
   "outputs": [],
   "source": [
    "from gensim.models import CoherenceModel\n",
    "from gensim.corpora.dictionary import Dictionary\n",
    "import gensim.corpora as corpora"
   ]
  },
  {
   "cell_type": "code",
   "execution_count": 34,
   "metadata": {},
   "outputs": [],
   "source": [
    "## turn the encoding in corpus.train.documents into a list of list of words using the vocab\n",
    "id2word = {v: k for k, v in corpus.vocab.items()}\n",
    "texts = [[id2word[i] for i in doc] for doc in corpus.train.documents]"
   ]
  },
  {
   "cell_type": "code",
   "execution_count": 35,
   "metadata": {},
   "outputs": [],
   "source": [
    "Beta = model.decoder.get_beta().detach().numpy()\n",
    "# Beta = model.decoder.beta_unnorm.detach().numpy()"
   ]
  },
  {
   "cell_type": "code",
   "execution_count": 36,
   "metadata": {},
   "outputs": [],
   "source": [
    "result = {}\n",
    "result[\"topic-word-matrix\"] = Beta\n",
    "\n",
    "top_k = 10\n",
    "\n",
    "if top_k > 0:\n",
    "    topics_output = []\n",
    "    for topic in result[\"topic-word-matrix\"]:\n",
    "        top_k_words = list(reversed([id2word[i] for i in np.argsort(topic)[-top_k:]]))\n",
    "        topics_output.append(top_k_words)\n",
    "    result[\"topics\"] = topics_output"
   ]
  },
  {
   "cell_type": "code",
   "execution_count": 37,
   "metadata": {},
   "outputs": [
    {
     "data": {
      "text/plain": [
       "[['ide',\n",
       "  'scsi',\n",
       "  'bus',\n",
       "  'isa',\n",
       "  'scsus',\n",
       "  'controller',\n",
       "  'simm',\n",
       "  'drive',\n",
       "  'team',\n",
       "  'mhz'],\n",
       " ['article',\n",
       "  'mean',\n",
       "  'write',\n",
       "  'good',\n",
       "  'think',\n",
       "  'anyone',\n",
       "  'player',\n",
       "  'way',\n",
       "  'claim',\n",
       "  'please'],\n",
       " ['dos',\n",
       "  'world',\n",
       "  'cd',\n",
       "  'war',\n",
       "  'ii',\n",
       "  'family',\n",
       "  'great',\n",
       "  'money',\n",
       "  'library',\n",
       "  'business'],\n",
       " ['bike',\n",
       "  'ride',\n",
       "  'game',\n",
       "  'fire',\n",
       "  'dog',\n",
       "  'helmet',\n",
       "  'cop',\n",
       "  'dod',\n",
       "  'armenians',\n",
       "  'hit'],\n",
       " ['anyone',\n",
       "  'fax',\n",
       "  'article',\n",
       "  'think',\n",
       "  'please',\n",
       "  'know',\n",
       "  'gun',\n",
       "  'thing',\n",
       "  'way',\n",
       "  'car'],\n",
       " ['drive',\n",
       "  'car',\n",
       "  'connector',\n",
       "  'monitor',\n",
       "  'voltage',\n",
       "  'cable',\n",
       "  'pin',\n",
       "  'printer',\n",
       "  'floppy',\n",
       "  'sale'],\n",
       " ['god',\n",
       "  'eternal',\n",
       "  'ride',\n",
       "  'drug',\n",
       "  'bike',\n",
       "  'christianity',\n",
       "  'life',\n",
       "  'faith',\n",
       "  'hell',\n",
       "  'christian'],\n",
       " ['armenian',\n",
       "  'turkish',\n",
       "  'armenians',\n",
       "  'israel',\n",
       "  'armenia',\n",
       "  'turks',\n",
       "  'israeli',\n",
       "  'genocide',\n",
       "  'village',\n",
       "  'lebanese'],\n",
       " ['write',\n",
       "  'god',\n",
       "  'israeli',\n",
       "  'human',\n",
       "  'life',\n",
       "  'faith',\n",
       "  'want',\n",
       "  'tell',\n",
       "  'article',\n",
       "  'well'],\n",
       " ['good',\n",
       "  'miss',\n",
       "  'cover',\n",
       "  'fair',\n",
       "  'include',\n",
       "  'poster',\n",
       "  'excellent',\n",
       "  'game',\n",
       "  'condition',\n",
       "  'issue'],\n",
       " ['armenians',\n",
       "  'think',\n",
       "  'armenian',\n",
       "  'people',\n",
       "  'war',\n",
       "  'serve',\n",
       "  'file',\n",
       "  'mouse',\n",
       "  'get',\n",
       "  'know'],\n",
       " ['jesus',\n",
       "  'church',\n",
       "  'bible',\n",
       "  'scripture',\n",
       "  'christian',\n",
       "  'doctrine',\n",
       "  'god',\n",
       "  'worship',\n",
       "  'passage',\n",
       "  'law'],\n",
       " ['know',\n",
       "  'god',\n",
       "  'go',\n",
       "  'hear',\n",
       "  'opinion',\n",
       "  'christian',\n",
       "  'live',\n",
       "  'another',\n",
       "  'church',\n",
       "  'like'],\n",
       " ['gm',\n",
       "  'san',\n",
       "  'hockey',\n",
       "  'game',\n",
       "  'york',\n",
       "  'chicago',\n",
       "  'league',\n",
       "  'rangers',\n",
       "  'francisco',\n",
       "  'baseball'],\n",
       " ['gun',\n",
       "  'homicide',\n",
       "  'handgun',\n",
       "  'crime',\n",
       "  'rate',\n",
       "  'firearm',\n",
       "  'weapon',\n",
       "  'msg',\n",
       "  'criminal',\n",
       "  'minority'],\n",
       " ['file',\n",
       "  'gun',\n",
       "  'firearm',\n",
       "  'bill',\n",
       "  'use',\n",
       "  'states',\n",
       "  'house',\n",
       "  'control',\n",
       "  'law',\n",
       "  'united'],\n",
       " ['drive',\n",
       "  'disk',\n",
       "  'jumper',\n",
       "  'hard',\n",
       "  'system',\n",
       "  'rom',\n",
       "  'pin',\n",
       "  'interface',\n",
       "  'master',\n",
       "  'feature'],\n",
       " ['write',\n",
       "  'please',\n",
       "  'possible',\n",
       "  'thanks',\n",
       "  'article',\n",
       "  'use',\n",
       "  'player',\n",
       "  'law',\n",
       "  'like',\n",
       "  'university'],\n",
       " ['write',\n",
       "  'anyone',\n",
       "  'article',\n",
       "  'say',\n",
       "  'sell',\n",
       "  'car',\n",
       "  'thing',\n",
       "  'thanks',\n",
       "  'really',\n",
       "  'jesus'],\n",
       " ['know',\n",
       "  'even',\n",
       "  'please',\n",
       "  'time',\n",
       "  'sin',\n",
       "  'people',\n",
       "  'article',\n",
       "  'write',\n",
       "  'thanks',\n",
       "  'like'],\n",
       " ['thanks',\n",
       "  'buy',\n",
       "  'know',\n",
       "  'gun',\n",
       "  'hus',\n",
       "  'version',\n",
       "  'anyone',\n",
       "  'drive',\n",
       "  'windows',\n",
       "  'like'],\n",
       " ['de',\n",
       "  'april',\n",
       "  'man',\n",
       "  'van',\n",
       "  'die',\n",
       "  'stand',\n",
       "  'shape',\n",
       "  'something',\n",
       "  'blue',\n",
       "  'live'],\n",
       " ['win',\n",
       "  'game',\n",
       "  'player',\n",
       "  'play',\n",
       "  'best',\n",
       "  'score',\n",
       "  'fan',\n",
       "  'two',\n",
       "  'article',\n",
       "  'hit'],\n",
       " ['article',\n",
       "  'write',\n",
       "  'accept',\n",
       "  'tell',\n",
       "  'anyone',\n",
       "  'german',\n",
       "  'use',\n",
       "  'hope',\n",
       "  'faith',\n",
       "  'well'],\n",
       " ['pp',\n",
       "  'period',\n",
       "  'pt',\n",
       "  'play',\n",
       "  'goal',\n",
       "  'team',\n",
       "  'player',\n",
       "  'shot',\n",
       "  'score',\n",
       "  'calgary'],\n",
       " ['thanks',\n",
       "  'god',\n",
       "  'faith',\n",
       "  'write',\n",
       "  'jesus',\n",
       "  'believe',\n",
       "  'christian',\n",
       "  'existence',\n",
       "  'like',\n",
       "  'article'],\n",
       " ['vs', 'la', 'det', 'tor', 'pit', 'cal', 'que', 'van', 'buf', 'min'],\n",
       " ['play',\n",
       "  'write',\n",
       "  'hit',\n",
       "  'team',\n",
       "  'game',\n",
       "  'nhl',\n",
       "  'article',\n",
       "  'fan',\n",
       "  'please',\n",
       "  'israel'],\n",
       " ['write',\n",
       "  'anyone',\n",
       "  'article',\n",
       "  'team',\n",
       "  'guess',\n",
       "  'thanks',\n",
       "  'key',\n",
       "  'never',\n",
       "  'someone',\n",
       "  'chip'],\n",
       " ['write',\n",
       "  'driver',\n",
       "  'one',\n",
       "  'problem',\n",
       "  'card',\n",
       "  'also',\n",
       "  'run',\n",
       "  'package',\n",
       "  'like',\n",
       "  'buy'],\n",
       " ['say',\n",
       "  'stand',\n",
       "  'look',\n",
       "  'guy',\n",
       "  'kill',\n",
       "  'live',\n",
       "  'buy',\n",
       "  'think',\n",
       "  'maybe',\n",
       "  'want'],\n",
       " ['anyone',\n",
       "  'drive',\n",
       "  'drug',\n",
       "  'speed',\n",
       "  'article',\n",
       "  'driver',\n",
       "  'problem',\n",
       "  'cost',\n",
       "  'get',\n",
       "  'lot'],\n",
       " ['encryption',\n",
       "  'escrow',\n",
       "  'chip',\n",
       "  'key',\n",
       "  'clipper',\n",
       "  'enforcement',\n",
       "  'government',\n",
       "  'privacy',\n",
       "  'law',\n",
       "  'device'],\n",
       " ['say', 'go', 'one', 'know', 'come', 'people', 'see', 'tell', 'take', 'get'],\n",
       " ['article',\n",
       "  'anyone',\n",
       "  'know',\n",
       "  'window',\n",
       "  'thanks',\n",
       "  'windows',\n",
       "  'use',\n",
       "  'email',\n",
       "  'think',\n",
       "  'wonder'],\n",
       " ['internet',\n",
       "  'privacy',\n",
       "  'anonymous',\n",
       "  'computer',\n",
       "  'email',\n",
       "  'information',\n",
       "  'user',\n",
       "  'network',\n",
       "  'use',\n",
       "  'mail'],\n",
       " ['space',\n",
       "  'db',\n",
       "  'launch',\n",
       "  'satellite',\n",
       "  'mission',\n",
       "  'orbit',\n",
       "  'nasa',\n",
       "  'lunar',\n",
       "  'shuttle',\n",
       "  'mov'],\n",
       " ['ground',\n",
       "  'wire',\n",
       "  'outlet',\n",
       "  'wiring',\n",
       "  'neutral',\n",
       "  'use',\n",
       "  'circuit',\n",
       "  'connect',\n",
       "  'box',\n",
       "  'people'],\n",
       " ['write',\n",
       "  'thanks',\n",
       "  'appreciate',\n",
       "  'enough',\n",
       "  'article',\n",
       "  'anyone',\n",
       "  'quite',\n",
       "  'team',\n",
       "  'much',\n",
       "  'university'],\n",
       " ['health',\n",
       "  'use',\n",
       "  'number',\n",
       "  'report',\n",
       "  'medical',\n",
       "  'child',\n",
       "  'disease',\n",
       "  'center',\n",
       "  'water',\n",
       "  'april'],\n",
       " ['militia',\n",
       "  'right',\n",
       "  'amendment',\n",
       "  'arm',\n",
       "  'morality',\n",
       "  'system',\n",
       "  'moral',\n",
       "  'bear',\n",
       "  'well',\n",
       "  'people'],\n",
       " ['font',\n",
       "  'window',\n",
       "  'widget',\n",
       "  'xterm',\n",
       "  'motif',\n",
       "  'server',\n",
       "  'mouse',\n",
       "  'xlib',\n",
       "  'toolkit',\n",
       "  'application'],\n",
       " ['oo', 'rg', 'eus', 'bhj', 'ax', 'mr', 'mi', 'pd', 'pl', 'ma'],\n",
       " ['write',\n",
       "  'work',\n",
       "  'thanks',\n",
       "  'anyone',\n",
       "  'much',\n",
       "  'thing',\n",
       "  'good',\n",
       "  'one',\n",
       "  'bike',\n",
       "  'price'],\n",
       " ['card',\n",
       "  'article',\n",
       "  'car',\n",
       "  'anyone',\n",
       "  'thanks',\n",
       "  'ram',\n",
       "  'get',\n",
       "  'drive',\n",
       "  'video',\n",
       "  'appreciate'],\n",
       " ['stephanopoulos',\n",
       "  'president',\n",
       "  'go',\n",
       "  'say',\n",
       "  'think',\n",
       "  'know',\n",
       "  'make',\n",
       "  'work',\n",
       "  'package',\n",
       "  'get'],\n",
       " ['file',\n",
       "  'image',\n",
       "  'windows',\n",
       "  'visual',\n",
       "  'key',\n",
       "  'colormap',\n",
       "  'widget',\n",
       "  'color',\n",
       "  'display',\n",
       "  'directory'],\n",
       " ['entry',\n",
       "  'file',\n",
       "  'output',\n",
       "  'program',\n",
       "  'oname',\n",
       "  'section',\n",
       "  'rule',\n",
       "  'char',\n",
       "  'line',\n",
       "  'build'],\n",
       " ['anyone',\n",
       "  'think',\n",
       "  'use',\n",
       "  'article',\n",
       "  'year',\n",
       "  'say',\n",
       "  'write',\n",
       "  'post',\n",
       "  'technology',\n",
       "  'please'],\n",
       " ['god',\n",
       "  'objective',\n",
       "  'morality',\n",
       "  'existence',\n",
       "  'islam',\n",
       "  'science',\n",
       "  'jesus',\n",
       "  'universe',\n",
       "  'exist',\n",
       "  'atheist']]"
      ]
     },
     "execution_count": 37,
     "metadata": {},
     "output_type": "execute_result"
    }
   ],
   "source": [
    "result[\"topics\"]"
   ]
  },
  {
   "cell_type": "code",
   "execution_count": 38,
   "metadata": {},
   "outputs": [],
   "source": [
    "# Initialize metric\n",
    "npmi = CoherenceModel(\n",
    "    topics=result[\"topics\"],\n",
    "    texts=texts,\n",
    "    corpus=corpus.train.data,\n",
    "    dictionary=Dictionary(texts),\n",
    "    coherence=\"c_npmi\",\n",
    "    topn=top_k)"
   ]
  },
  {
   "cell_type": "code",
   "execution_count": 39,
   "metadata": {},
   "outputs": [
    {
     "data": {
      "text/plain": [
       "0.06962826290808065"
      ]
     },
     "execution_count": 39,
     "metadata": {},
     "output_type": "execute_result"
    }
   ],
   "source": [
    "npmi.get_coherence()"
   ]
  },
  {
   "cell_type": "code",
   "execution_count": null,
   "metadata": {},
   "outputs": [],
   "source": []
  }
 ],
 "metadata": {
  "kernelspec": {
   "display_name": "torchenv",
   "language": "python",
   "name": "python3"
  },
  "language_info": {
   "codemirror_mode": {
    "name": "ipython",
    "version": 3
   },
   "file_extension": ".py",
   "mimetype": "text/x-python",
   "name": "python",
   "nbconvert_exporter": "python",
   "pygments_lexer": "ipython3",
   "version": "3.9.15"
  }
 },
 "nbformat": 4,
 "nbformat_minor": 2
}
